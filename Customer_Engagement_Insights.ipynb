{
 "cells": [
  {
   "cell_type": "markdown",
   "metadata": {},
   "source": [
    "# All graphs are not visible in Github normal mode. Please select the option of viewing in nbviewer. The option is available on the upper right corner just below the menu bar"
   ]
  },
  {
   "cell_type": "code",
   "execution_count": 1,
   "metadata": {},
   "outputs": [],
   "source": [
    "import pandas as pd\n",
    "import matplotlib.pyplot as plt\n",
    "import seaborn as sns\n",
    "%matplotlib inline"
   ]
  },
  {
   "cell_type": "code",
   "execution_count": 2,
   "metadata": {},
   "outputs": [
    {
     "data": {
      "text/html": [
       "        <script type=\"text/javascript\">\n",
       "        window.PlotlyConfig = {MathJaxConfig: 'local'};\n",
       "        if (window.MathJax) {MathJax.Hub.Config({SVG: {font: \"STIX-Web\"}});}\n",
       "        if (typeof require !== 'undefined') {\n",
       "        require.undef(\"plotly\");\n",
       "        requirejs.config({\n",
       "            paths: {\n",
       "                'plotly': ['https://cdn.plot.ly/plotly-latest.min']\n",
       "            }\n",
       "        });\n",
       "        require(['plotly'], function(Plotly) {\n",
       "            window._Plotly = Plotly;\n",
       "        });\n",
       "        }\n",
       "        </script>\n",
       "        "
      ]
     },
     "metadata": {},
     "output_type": "display_data"
    },
    {
     "data": {
      "text/html": [
       "        <script type=\"text/javascript\">\n",
       "        window.PlotlyConfig = {MathJaxConfig: 'local'};\n",
       "        if (window.MathJax) {MathJax.Hub.Config({SVG: {font: \"STIX-Web\"}});}\n",
       "        if (typeof require !== 'undefined') {\n",
       "        require.undef(\"plotly\");\n",
       "        requirejs.config({\n",
       "            paths: {\n",
       "                'plotly': ['https://cdn.plot.ly/plotly-latest.min']\n",
       "            }\n",
       "        });\n",
       "        require(['plotly'], function(Plotly) {\n",
       "            window._Plotly = Plotly;\n",
       "        });\n",
       "        }\n",
       "        </script>\n",
       "        "
      ]
     },
     "metadata": {},
     "output_type": "display_data"
    }
   ],
   "source": [
    "from plotly import __version__\n",
    "from plotly.offline import download_plotlyjs, init_notebook_mode, plot, iplot\n",
    "import cufflinks as cf\n",
    "init_notebook_mode(connected=True)\n",
    "cf.go_offline()"
   ]
  },
  {
   "cell_type": "code",
   "execution_count": 3,
   "metadata": {},
   "outputs": [
    {
     "data": {
      "text/html": [
       "<div>\n",
       "<style scoped>\n",
       "    .dataframe tbody tr th:only-of-type {\n",
       "        vertical-align: middle;\n",
       "    }\n",
       "\n",
       "    .dataframe tbody tr th {\n",
       "        vertical-align: top;\n",
       "    }\n",
       "\n",
       "    .dataframe thead th {\n",
       "        text-align: right;\n",
       "    }\n",
       "</style>\n",
       "<table border=\"1\" class=\"dataframe\">\n",
       "  <thead>\n",
       "    <tr style=\"text-align: right;\">\n",
       "      <th></th>\n",
       "      <th>session_id</th>\n",
       "      <th>customer_id</th>\n",
       "      <th>login_date</th>\n",
       "      <th>projects_added</th>\n",
       "      <th>likes_given</th>\n",
       "      <th>comment_given</th>\n",
       "      <th>inactive_status</th>\n",
       "      <th>bug_occured</th>\n",
       "      <th>session_projects_added</th>\n",
       "      <th>session_likes_given</th>\n",
       "      <th>session_comments_given</th>\n",
       "      <th>inactive_duration</th>\n",
       "      <th>bugs_in_session</th>\n",
       "      <th>session_duration</th>\n",
       "    </tr>\n",
       "  </thead>\n",
       "  <tbody>\n",
       "    <tr>\n",
       "      <th>0</th>\n",
       "      <td>624205</td>\n",
       "      <td>80746</td>\n",
       "      <td>10/30/2019</td>\n",
       "      <td>False</td>\n",
       "      <td>True</td>\n",
       "      <td>True</td>\n",
       "      <td>True</td>\n",
       "      <td>False</td>\n",
       "      <td>0.0</td>\n",
       "      <td>24.0</td>\n",
       "      <td>3.0</td>\n",
       "      <td>1146.0</td>\n",
       "      <td>0.0</td>\n",
       "      <td>1564.0</td>\n",
       "    </tr>\n",
       "    <tr>\n",
       "      <th>1</th>\n",
       "      <td>624241</td>\n",
       "      <td>24520</td>\n",
       "      <td>10/30/2019</td>\n",
       "      <td>True</td>\n",
       "      <td>True</td>\n",
       "      <td>True</td>\n",
       "      <td>True</td>\n",
       "      <td>False</td>\n",
       "      <td>2.0</td>\n",
       "      <td>3.0</td>\n",
       "      <td>5.0</td>\n",
       "      <td>133.0</td>\n",
       "      <td>0.0</td>\n",
       "      <td>1766.0</td>\n",
       "    </tr>\n",
       "    <tr>\n",
       "      <th>2</th>\n",
       "      <td>111002</td>\n",
       "      <td>32047</td>\n",
       "      <td>10/30/2019</td>\n",
       "      <td>True</td>\n",
       "      <td>True</td>\n",
       "      <td>True</td>\n",
       "      <td>True</td>\n",
       "      <td>False</td>\n",
       "      <td>1.0</td>\n",
       "      <td>5.0</td>\n",
       "      <td>5.0</td>\n",
       "      <td>1571.0</td>\n",
       "      <td>0.0</td>\n",
       "      <td>2230.0</td>\n",
       "    </tr>\n",
       "    <tr>\n",
       "      <th>3</th>\n",
       "      <td>545113</td>\n",
       "      <td>23404</td>\n",
       "      <td>10/30/2019</td>\n",
       "      <td>True</td>\n",
       "      <td>True</td>\n",
       "      <td>True</td>\n",
       "      <td>False</td>\n",
       "      <td>False</td>\n",
       "      <td>1.0</td>\n",
       "      <td>10.0</td>\n",
       "      <td>21.0</td>\n",
       "      <td>0.0</td>\n",
       "      <td>0.0</td>\n",
       "      <td>633.0</td>\n",
       "    </tr>\n",
       "    <tr>\n",
       "      <th>4</th>\n",
       "      <td>750269</td>\n",
       "      <td>40235</td>\n",
       "      <td>10/30/2019</td>\n",
       "      <td>True</td>\n",
       "      <td>True</td>\n",
       "      <td>False</td>\n",
       "      <td>True</td>\n",
       "      <td>False</td>\n",
       "      <td>3.0</td>\n",
       "      <td>16.0</td>\n",
       "      <td>0.0</td>\n",
       "      <td>1405.0</td>\n",
       "      <td>0.0</td>\n",
       "      <td>1679.0</td>\n",
       "    </tr>\n",
       "    <tr>\n",
       "      <th>...</th>\n",
       "      <td>...</td>\n",
       "      <td>...</td>\n",
       "      <td>...</td>\n",
       "      <td>...</td>\n",
       "      <td>...</td>\n",
       "      <td>...</td>\n",
       "      <td>...</td>\n",
       "      <td>...</td>\n",
       "      <td>...</td>\n",
       "      <td>...</td>\n",
       "      <td>...</td>\n",
       "      <td>...</td>\n",
       "      <td>...</td>\n",
       "      <td>...</td>\n",
       "    </tr>\n",
       "    <tr>\n",
       "      <th>295</th>\n",
       "      <td>944212</td>\n",
       "      <td>40572</td>\n",
       "      <td>10/1/2019</td>\n",
       "      <td>True</td>\n",
       "      <td>True</td>\n",
       "      <td>False</td>\n",
       "      <td>True</td>\n",
       "      <td>False</td>\n",
       "      <td>3.0</td>\n",
       "      <td>13.0</td>\n",
       "      <td>0.0</td>\n",
       "      <td>1174.0</td>\n",
       "      <td>0.0</td>\n",
       "      <td>2255.0</td>\n",
       "    </tr>\n",
       "    <tr>\n",
       "      <th>296</th>\n",
       "      <td>558332</td>\n",
       "      <td>87323</td>\n",
       "      <td>10/1/2019</td>\n",
       "      <td>True</td>\n",
       "      <td>False</td>\n",
       "      <td>False</td>\n",
       "      <td>True</td>\n",
       "      <td>False</td>\n",
       "      <td>2.0</td>\n",
       "      <td>0.0</td>\n",
       "      <td>0.0</td>\n",
       "      <td>97.0</td>\n",
       "      <td>0.0</td>\n",
       "      <td>1692.0</td>\n",
       "    </tr>\n",
       "    <tr>\n",
       "      <th>297</th>\n",
       "      <td>643880</td>\n",
       "      <td>51243</td>\n",
       "      <td>10/1/2019</td>\n",
       "      <td>True</td>\n",
       "      <td>False</td>\n",
       "      <td>False</td>\n",
       "      <td>True</td>\n",
       "      <td>False</td>\n",
       "      <td>2.0</td>\n",
       "      <td>0.0</td>\n",
       "      <td>0.0</td>\n",
       "      <td>906.0</td>\n",
       "      <td>0.0</td>\n",
       "      <td>1990.0</td>\n",
       "    </tr>\n",
       "    <tr>\n",
       "      <th>298</th>\n",
       "      <td>844518</td>\n",
       "      <td>23083</td>\n",
       "      <td>10/1/2019</td>\n",
       "      <td>True</td>\n",
       "      <td>False</td>\n",
       "      <td>False</td>\n",
       "      <td>True</td>\n",
       "      <td>False</td>\n",
       "      <td>1.0</td>\n",
       "      <td>0.0</td>\n",
       "      <td>0.0</td>\n",
       "      <td>139.0</td>\n",
       "      <td>0.0</td>\n",
       "      <td>1113.0</td>\n",
       "    </tr>\n",
       "    <tr>\n",
       "      <th>299</th>\n",
       "      <td>933954</td>\n",
       "      <td>38459</td>\n",
       "      <td>10/1/2019</td>\n",
       "      <td>True</td>\n",
       "      <td>False</td>\n",
       "      <td>False</td>\n",
       "      <td>False</td>\n",
       "      <td>False</td>\n",
       "      <td>1.0</td>\n",
       "      <td>0.0</td>\n",
       "      <td>0.0</td>\n",
       "      <td>0.0</td>\n",
       "      <td>0.0</td>\n",
       "      <td>306.0</td>\n",
       "    </tr>\n",
       "  </tbody>\n",
       "</table>\n",
       "<p>300 rows × 14 columns</p>\n",
       "</div>"
      ],
      "text/plain": [
       "     session_id  customer_id  login_date  projects_added  likes_given  \\\n",
       "0        624205        80746  10/30/2019           False         True   \n",
       "1        624241        24520  10/30/2019            True         True   \n",
       "2        111002        32047  10/30/2019            True         True   \n",
       "3        545113        23404  10/30/2019            True         True   \n",
       "4        750269        40235  10/30/2019            True         True   \n",
       "..          ...          ...         ...             ...          ...   \n",
       "295      944212        40572   10/1/2019            True         True   \n",
       "296      558332        87323   10/1/2019            True        False   \n",
       "297      643880        51243   10/1/2019            True        False   \n",
       "298      844518        23083   10/1/2019            True        False   \n",
       "299      933954        38459   10/1/2019            True        False   \n",
       "\n",
       "     comment_given  inactive_status  bug_occured  session_projects_added  \\\n",
       "0             True             True        False                     0.0   \n",
       "1             True             True        False                     2.0   \n",
       "2             True             True        False                     1.0   \n",
       "3             True            False        False                     1.0   \n",
       "4            False             True        False                     3.0   \n",
       "..             ...              ...          ...                     ...   \n",
       "295          False             True        False                     3.0   \n",
       "296          False             True        False                     2.0   \n",
       "297          False             True        False                     2.0   \n",
       "298          False             True        False                     1.0   \n",
       "299          False            False        False                     1.0   \n",
       "\n",
       "     session_likes_given  session_comments_given  inactive_duration  \\\n",
       "0                   24.0                     3.0             1146.0   \n",
       "1                    3.0                     5.0              133.0   \n",
       "2                    5.0                     5.0             1571.0   \n",
       "3                   10.0                    21.0                0.0   \n",
       "4                   16.0                     0.0             1405.0   \n",
       "..                   ...                     ...                ...   \n",
       "295                 13.0                     0.0             1174.0   \n",
       "296                  0.0                     0.0               97.0   \n",
       "297                  0.0                     0.0              906.0   \n",
       "298                  0.0                     0.0              139.0   \n",
       "299                  0.0                     0.0                0.0   \n",
       "\n",
       "     bugs_in_session  session_duration  \n",
       "0                0.0            1564.0  \n",
       "1                0.0            1766.0  \n",
       "2                0.0            2230.0  \n",
       "3                0.0             633.0  \n",
       "4                0.0            1679.0  \n",
       "..               ...               ...  \n",
       "295              0.0            2255.0  \n",
       "296              0.0            1692.0  \n",
       "297              0.0            1990.0  \n",
       "298              0.0            1113.0  \n",
       "299              0.0             306.0  \n",
       "\n",
       "[300 rows x 14 columns]"
      ]
     },
     "execution_count": 3,
     "metadata": {},
     "output_type": "execute_result"
    }
   ],
   "source": [
    "#Load data\n",
    "show = pd.read_csv('C:\\\\Users\\\\shiva\\\\Desktop\\\\Showwcase\\\\showwcase_sessions.csv')\n",
    "show"
   ]
  },
  {
   "cell_type": "code",
   "execution_count": 4,
   "metadata": {},
   "outputs": [
    {
     "data": {
      "text/plain": [
       "False"
      ]
     },
     "execution_count": 4,
     "metadata": {},
     "output_type": "execute_result"
    }
   ],
   "source": [
    "#Check uniqueness of session id to maintain data integrity\n",
    "(show['session_id'].value_counts() > 1).any()"
   ]
  },
  {
   "cell_type": "code",
   "execution_count": 5,
   "metadata": {},
   "outputs": [
    {
     "data": {
      "text/plain": [
       "session_id                False\n",
       "customer_id               False\n",
       "login_date                False\n",
       "projects_added            False\n",
       "likes_given               False\n",
       "comment_given             False\n",
       "inactive_status           False\n",
       "bug_occured               False\n",
       "session_projects_added    False\n",
       "session_likes_given        True\n",
       "session_comments_given    False\n",
       "inactive_duration         False\n",
       "bugs_in_session           False\n",
       "session_duration          False\n",
       "dtype: bool"
      ]
     },
     "execution_count": 5,
     "metadata": {},
     "output_type": "execute_result"
    }
   ],
   "source": [
    "#Check for Null values\n",
    "show.isna().any()"
   ]
  },
  {
   "cell_type": "code",
   "execution_count": 6,
   "metadata": {},
   "outputs": [
    {
     "data": {
      "text/html": [
       "<div>\n",
       "<style scoped>\n",
       "    .dataframe tbody tr th:only-of-type {\n",
       "        vertical-align: middle;\n",
       "    }\n",
       "\n",
       "    .dataframe tbody tr th {\n",
       "        vertical-align: top;\n",
       "    }\n",
       "\n",
       "    .dataframe thead th {\n",
       "        text-align: right;\n",
       "    }\n",
       "</style>\n",
       "<table border=\"1\" class=\"dataframe\">\n",
       "  <thead>\n",
       "    <tr style=\"text-align: right;\">\n",
       "      <th></th>\n",
       "      <th>session_id</th>\n",
       "      <th>customer_id</th>\n",
       "      <th>login_date</th>\n",
       "      <th>projects_added</th>\n",
       "      <th>likes_given</th>\n",
       "      <th>comment_given</th>\n",
       "      <th>inactive_status</th>\n",
       "      <th>bug_occured</th>\n",
       "      <th>session_projects_added</th>\n",
       "      <th>session_likes_given</th>\n",
       "      <th>session_comments_given</th>\n",
       "      <th>inactive_duration</th>\n",
       "      <th>bugs_in_session</th>\n",
       "      <th>session_duration</th>\n",
       "    </tr>\n",
       "  </thead>\n",
       "  <tbody>\n",
       "    <tr>\n",
       "      <th>35</th>\n",
       "      <td>862128</td>\n",
       "      <td>23404</td>\n",
       "      <td>10/26/2019</td>\n",
       "      <td>True</td>\n",
       "      <td>False</td>\n",
       "      <td>True</td>\n",
       "      <td>True</td>\n",
       "      <td>False</td>\n",
       "      <td>2.0</td>\n",
       "      <td>NaN</td>\n",
       "      <td>2.0</td>\n",
       "      <td>1120.0</td>\n",
       "      <td>0.0</td>\n",
       "      <td>95.0</td>\n",
       "    </tr>\n",
       "  </tbody>\n",
       "</table>\n",
       "</div>"
      ],
      "text/plain": [
       "    session_id  customer_id  login_date  projects_added  likes_given  \\\n",
       "35      862128        23404  10/26/2019            True        False   \n",
       "\n",
       "    comment_given  inactive_status  bug_occured  session_projects_added  \\\n",
       "35           True             True        False                     2.0   \n",
       "\n",
       "    session_likes_given  session_comments_given  inactive_duration  \\\n",
       "35                  NaN                     2.0             1120.0   \n",
       "\n",
       "    bugs_in_session  session_duration  \n",
       "35              0.0              95.0  "
      ]
     },
     "execution_count": 6,
     "metadata": {},
     "output_type": "execute_result"
    }
   ],
   "source": [
    "show[show['session_likes_given'].isna()]"
   ]
  },
  {
   "cell_type": "code",
   "execution_count": 7,
   "metadata": {},
   "outputs": [],
   "source": [
    "#Fix null value\n",
    "show[show['session_likes_given'].isna()]['session_likes_given']=0.0"
   ]
  },
  {
   "cell_type": "code",
   "execution_count": 8,
   "metadata": {},
   "outputs": [],
   "source": [
    "#Convert to Date format\n",
    "show['login_date'] = pd.to_datetime(show['login_date'])\n"
   ]
  },
  {
   "cell_type": "code",
   "execution_count": 9,
   "metadata": {},
   "outputs": [
    {
     "data": {
      "text/plain": [
       "pandas.core.series.Series"
      ]
     },
     "execution_count": 9,
     "metadata": {},
     "output_type": "execute_result"
    }
   ],
   "source": [
    "type(show['session_duration'])"
   ]
  },
  {
   "cell_type": "code",
   "execution_count": 10,
   "metadata": {},
   "outputs": [
    {
     "data": {
      "text/html": [
       "<div>\n",
       "<style scoped>\n",
       "    .dataframe tbody tr th:only-of-type {\n",
       "        vertical-align: middle;\n",
       "    }\n",
       "\n",
       "    .dataframe tbody tr th {\n",
       "        vertical-align: top;\n",
       "    }\n",
       "\n",
       "    .dataframe thead th {\n",
       "        text-align: right;\n",
       "    }\n",
       "</style>\n",
       "<table border=\"1\" class=\"dataframe\">\n",
       "  <thead>\n",
       "    <tr style=\"text-align: right;\">\n",
       "      <th></th>\n",
       "      <th>session_id</th>\n",
       "      <th>customer_id</th>\n",
       "      <th>login_date</th>\n",
       "      <th>projects_added</th>\n",
       "      <th>likes_given</th>\n",
       "      <th>comment_given</th>\n",
       "      <th>inactive_status</th>\n",
       "      <th>bug_occured</th>\n",
       "      <th>session_projects_added</th>\n",
       "      <th>session_likes_given</th>\n",
       "      <th>session_comments_given</th>\n",
       "      <th>inactive_duration</th>\n",
       "      <th>bugs_in_session</th>\n",
       "      <th>session_duration</th>\n",
       "    </tr>\n",
       "  </thead>\n",
       "  <tbody>\n",
       "    <tr>\n",
       "      <th>0</th>\n",
       "      <td>624205</td>\n",
       "      <td>80746</td>\n",
       "      <td>2019-10-30</td>\n",
       "      <td>False</td>\n",
       "      <td>True</td>\n",
       "      <td>True</td>\n",
       "      <td>True</td>\n",
       "      <td>False</td>\n",
       "      <td>0.0</td>\n",
       "      <td>24.0</td>\n",
       "      <td>3.0</td>\n",
       "      <td>19.100000</td>\n",
       "      <td>0.0</td>\n",
       "      <td>26.066667</td>\n",
       "    </tr>\n",
       "    <tr>\n",
       "      <th>1</th>\n",
       "      <td>624241</td>\n",
       "      <td>24520</td>\n",
       "      <td>2019-10-30</td>\n",
       "      <td>True</td>\n",
       "      <td>True</td>\n",
       "      <td>True</td>\n",
       "      <td>True</td>\n",
       "      <td>False</td>\n",
       "      <td>2.0</td>\n",
       "      <td>3.0</td>\n",
       "      <td>5.0</td>\n",
       "      <td>2.216667</td>\n",
       "      <td>0.0</td>\n",
       "      <td>29.433333</td>\n",
       "    </tr>\n",
       "    <tr>\n",
       "      <th>2</th>\n",
       "      <td>111002</td>\n",
       "      <td>32047</td>\n",
       "      <td>2019-10-30</td>\n",
       "      <td>True</td>\n",
       "      <td>True</td>\n",
       "      <td>True</td>\n",
       "      <td>True</td>\n",
       "      <td>False</td>\n",
       "      <td>1.0</td>\n",
       "      <td>5.0</td>\n",
       "      <td>5.0</td>\n",
       "      <td>26.183333</td>\n",
       "      <td>0.0</td>\n",
       "      <td>37.166667</td>\n",
       "    </tr>\n",
       "    <tr>\n",
       "      <th>3</th>\n",
       "      <td>545113</td>\n",
       "      <td>23404</td>\n",
       "      <td>2019-10-30</td>\n",
       "      <td>True</td>\n",
       "      <td>True</td>\n",
       "      <td>True</td>\n",
       "      <td>False</td>\n",
       "      <td>False</td>\n",
       "      <td>1.0</td>\n",
       "      <td>10.0</td>\n",
       "      <td>21.0</td>\n",
       "      <td>0.000000</td>\n",
       "      <td>0.0</td>\n",
       "      <td>10.550000</td>\n",
       "    </tr>\n",
       "    <tr>\n",
       "      <th>4</th>\n",
       "      <td>750269</td>\n",
       "      <td>40235</td>\n",
       "      <td>2019-10-30</td>\n",
       "      <td>True</td>\n",
       "      <td>True</td>\n",
       "      <td>False</td>\n",
       "      <td>True</td>\n",
       "      <td>False</td>\n",
       "      <td>3.0</td>\n",
       "      <td>16.0</td>\n",
       "      <td>0.0</td>\n",
       "      <td>23.416667</td>\n",
       "      <td>0.0</td>\n",
       "      <td>27.983333</td>\n",
       "    </tr>\n",
       "  </tbody>\n",
       "</table>\n",
       "</div>"
      ],
      "text/plain": [
       "   session_id  customer_id login_date  projects_added  likes_given  \\\n",
       "0      624205        80746 2019-10-30           False         True   \n",
       "1      624241        24520 2019-10-30            True         True   \n",
       "2      111002        32047 2019-10-30            True         True   \n",
       "3      545113        23404 2019-10-30            True         True   \n",
       "4      750269        40235 2019-10-30            True         True   \n",
       "\n",
       "   comment_given  inactive_status  bug_occured  session_projects_added  \\\n",
       "0           True             True        False                     0.0   \n",
       "1           True             True        False                     2.0   \n",
       "2           True             True        False                     1.0   \n",
       "3           True            False        False                     1.0   \n",
       "4          False             True        False                     3.0   \n",
       "\n",
       "   session_likes_given  session_comments_given  inactive_duration  \\\n",
       "0                 24.0                     3.0          19.100000   \n",
       "1                  3.0                     5.0           2.216667   \n",
       "2                  5.0                     5.0          26.183333   \n",
       "3                 10.0                    21.0           0.000000   \n",
       "4                 16.0                     0.0          23.416667   \n",
       "\n",
       "   bugs_in_session  session_duration  \n",
       "0              0.0         26.066667  \n",
       "1              0.0         29.433333  \n",
       "2              0.0         37.166667  \n",
       "3              0.0         10.550000  \n",
       "4              0.0         27.983333  "
      ]
     },
     "execution_count": 10,
     "metadata": {},
     "output_type": "execute_result"
    }
   ],
   "source": [
    "#Get time duration in minutes\n",
    "show['session_duration'] = show['session_duration']/60\n",
    "show['inactive_duration'] = show['inactive_duration']/60\n",
    "\n",
    "show.head()"
   ]
  },
  {
   "cell_type": "code",
   "execution_count": 25,
   "metadata": {},
   "outputs": [
    {
     "data": {
      "application/vnd.plotly.v1+json": {
       "config": {
        "linkText": "Export to plot.ly",
        "plotlyServerURL": "https://plot.ly",
        "showLink": true
       },
       "data": [
        {
         "line": {
          "color": "rgba(255, 153, 51, 1.0)",
          "dash": "solid",
          "shape": "linear",
          "width": 1.3
         },
         "mode": "lines",
         "name": "session_id",
         "text": "",
         "type": "scatter",
         "x": [
          "2019-10-01",
          "2019-10-02",
          "2019-10-03",
          "2019-10-04",
          "2019-10-05",
          "2019-10-06",
          "2019-10-07",
          "2019-10-08",
          "2019-10-09",
          "2019-10-10",
          "2019-10-11",
          "2019-10-12",
          "2019-10-13",
          "2019-10-14",
          "2019-10-15",
          "2019-10-16",
          "2019-10-17",
          "2019-10-18",
          "2019-10-19",
          "2019-10-20",
          "2019-10-21",
          "2019-10-22",
          "2019-10-23",
          "2019-10-24",
          "2019-10-25",
          "2019-10-26",
          "2019-10-27",
          "2019-10-28",
          "2019-10-29",
          "2019-10-30"
         ],
         "y": [
          9,
          5,
          10,
          9,
          14,
          12,
          13,
          8,
          10,
          14,
          14,
          8,
          11,
          3,
          14,
          4,
          5,
          11,
          11,
          12,
          15,
          11,
          4,
          12,
          6,
          22,
          7,
          10,
          7,
          9
         ]
        },
        {
         "line": {
          "color": "rgba(55, 128, 191, 1.0)",
          "dash": "solid",
          "shape": "linear",
          "width": 1.3
         },
         "mode": "lines",
         "name": "customer_id",
         "text": "",
         "type": "scatter",
         "x": [
          "2019-10-01",
          "2019-10-02",
          "2019-10-03",
          "2019-10-04",
          "2019-10-05",
          "2019-10-06",
          "2019-10-07",
          "2019-10-08",
          "2019-10-09",
          "2019-10-10",
          "2019-10-11",
          "2019-10-12",
          "2019-10-13",
          "2019-10-14",
          "2019-10-15",
          "2019-10-16",
          "2019-10-17",
          "2019-10-18",
          "2019-10-19",
          "2019-10-20",
          "2019-10-21",
          "2019-10-22",
          "2019-10-23",
          "2019-10-24",
          "2019-10-25",
          "2019-10-26",
          "2019-10-27",
          "2019-10-28",
          "2019-10-29",
          "2019-10-30"
         ],
         "y": [
          9,
          5,
          7,
          7,
          11,
          11,
          10,
          8,
          8,
          11,
          11,
          7,
          10,
          3,
          13,
          4,
          5,
          10,
          11,
          11,
          9,
          11,
          4,
          11,
          6,
          14,
          7,
          10,
          7,
          9
         ]
        }
       ],
       "layout": {
        "legend": {
         "bgcolor": "#F5F6F9",
         "font": {
          "color": "#4D5663"
         }
        },
        "paper_bgcolor": "#F5F6F9",
        "plot_bgcolor": "#F5F6F9",
        "template": {
         "data": {
          "bar": [
           {
            "error_x": {
             "color": "#2a3f5f"
            },
            "error_y": {
             "color": "#2a3f5f"
            },
            "marker": {
             "line": {
              "color": "#E5ECF6",
              "width": 0.5
             }
            },
            "type": "bar"
           }
          ],
          "barpolar": [
           {
            "marker": {
             "line": {
              "color": "#E5ECF6",
              "width": 0.5
             }
            },
            "type": "barpolar"
           }
          ],
          "carpet": [
           {
            "aaxis": {
             "endlinecolor": "#2a3f5f",
             "gridcolor": "white",
             "linecolor": "white",
             "minorgridcolor": "white",
             "startlinecolor": "#2a3f5f"
            },
            "baxis": {
             "endlinecolor": "#2a3f5f",
             "gridcolor": "white",
             "linecolor": "white",
             "minorgridcolor": "white",
             "startlinecolor": "#2a3f5f"
            },
            "type": "carpet"
           }
          ],
          "choropleth": [
           {
            "colorbar": {
             "outlinewidth": 0,
             "ticks": ""
            },
            "type": "choropleth"
           }
          ],
          "contour": [
           {
            "colorbar": {
             "outlinewidth": 0,
             "ticks": ""
            },
            "colorscale": [
             [
              0,
              "#0d0887"
             ],
             [
              0.1111111111111111,
              "#46039f"
             ],
             [
              0.2222222222222222,
              "#7201a8"
             ],
             [
              0.3333333333333333,
              "#9c179e"
             ],
             [
              0.4444444444444444,
              "#bd3786"
             ],
             [
              0.5555555555555556,
              "#d8576b"
             ],
             [
              0.6666666666666666,
              "#ed7953"
             ],
             [
              0.7777777777777778,
              "#fb9f3a"
             ],
             [
              0.8888888888888888,
              "#fdca26"
             ],
             [
              1,
              "#f0f921"
             ]
            ],
            "type": "contour"
           }
          ],
          "contourcarpet": [
           {
            "colorbar": {
             "outlinewidth": 0,
             "ticks": ""
            },
            "type": "contourcarpet"
           }
          ],
          "heatmap": [
           {
            "colorbar": {
             "outlinewidth": 0,
             "ticks": ""
            },
            "colorscale": [
             [
              0,
              "#0d0887"
             ],
             [
              0.1111111111111111,
              "#46039f"
             ],
             [
              0.2222222222222222,
              "#7201a8"
             ],
             [
              0.3333333333333333,
              "#9c179e"
             ],
             [
              0.4444444444444444,
              "#bd3786"
             ],
             [
              0.5555555555555556,
              "#d8576b"
             ],
             [
              0.6666666666666666,
              "#ed7953"
             ],
             [
              0.7777777777777778,
              "#fb9f3a"
             ],
             [
              0.8888888888888888,
              "#fdca26"
             ],
             [
              1,
              "#f0f921"
             ]
            ],
            "type": "heatmap"
           }
          ],
          "heatmapgl": [
           {
            "colorbar": {
             "outlinewidth": 0,
             "ticks": ""
            },
            "colorscale": [
             [
              0,
              "#0d0887"
             ],
             [
              0.1111111111111111,
              "#46039f"
             ],
             [
              0.2222222222222222,
              "#7201a8"
             ],
             [
              0.3333333333333333,
              "#9c179e"
             ],
             [
              0.4444444444444444,
              "#bd3786"
             ],
             [
              0.5555555555555556,
              "#d8576b"
             ],
             [
              0.6666666666666666,
              "#ed7953"
             ],
             [
              0.7777777777777778,
              "#fb9f3a"
             ],
             [
              0.8888888888888888,
              "#fdca26"
             ],
             [
              1,
              "#f0f921"
             ]
            ],
            "type": "heatmapgl"
           }
          ],
          "histogram": [
           {
            "marker": {
             "colorbar": {
              "outlinewidth": 0,
              "ticks": ""
             }
            },
            "type": "histogram"
           }
          ],
          "histogram2d": [
           {
            "colorbar": {
             "outlinewidth": 0,
             "ticks": ""
            },
            "colorscale": [
             [
              0,
              "#0d0887"
             ],
             [
              0.1111111111111111,
              "#46039f"
             ],
             [
              0.2222222222222222,
              "#7201a8"
             ],
             [
              0.3333333333333333,
              "#9c179e"
             ],
             [
              0.4444444444444444,
              "#bd3786"
             ],
             [
              0.5555555555555556,
              "#d8576b"
             ],
             [
              0.6666666666666666,
              "#ed7953"
             ],
             [
              0.7777777777777778,
              "#fb9f3a"
             ],
             [
              0.8888888888888888,
              "#fdca26"
             ],
             [
              1,
              "#f0f921"
             ]
            ],
            "type": "histogram2d"
           }
          ],
          "histogram2dcontour": [
           {
            "colorbar": {
             "outlinewidth": 0,
             "ticks": ""
            },
            "colorscale": [
             [
              0,
              "#0d0887"
             ],
             [
              0.1111111111111111,
              "#46039f"
             ],
             [
              0.2222222222222222,
              "#7201a8"
             ],
             [
              0.3333333333333333,
              "#9c179e"
             ],
             [
              0.4444444444444444,
              "#bd3786"
             ],
             [
              0.5555555555555556,
              "#d8576b"
             ],
             [
              0.6666666666666666,
              "#ed7953"
             ],
             [
              0.7777777777777778,
              "#fb9f3a"
             ],
             [
              0.8888888888888888,
              "#fdca26"
             ],
             [
              1,
              "#f0f921"
             ]
            ],
            "type": "histogram2dcontour"
           }
          ],
          "mesh3d": [
           {
            "colorbar": {
             "outlinewidth": 0,
             "ticks": ""
            },
            "type": "mesh3d"
           }
          ],
          "parcoords": [
           {
            "line": {
             "colorbar": {
              "outlinewidth": 0,
              "ticks": ""
             }
            },
            "type": "parcoords"
           }
          ],
          "pie": [
           {
            "automargin": true,
            "type": "pie"
           }
          ],
          "scatter": [
           {
            "marker": {
             "colorbar": {
              "outlinewidth": 0,
              "ticks": ""
             }
            },
            "type": "scatter"
           }
          ],
          "scatter3d": [
           {
            "line": {
             "colorbar": {
              "outlinewidth": 0,
              "ticks": ""
             }
            },
            "marker": {
             "colorbar": {
              "outlinewidth": 0,
              "ticks": ""
             }
            },
            "type": "scatter3d"
           }
          ],
          "scattercarpet": [
           {
            "marker": {
             "colorbar": {
              "outlinewidth": 0,
              "ticks": ""
             }
            },
            "type": "scattercarpet"
           }
          ],
          "scattergeo": [
           {
            "marker": {
             "colorbar": {
              "outlinewidth": 0,
              "ticks": ""
             }
            },
            "type": "scattergeo"
           }
          ],
          "scattergl": [
           {
            "marker": {
             "colorbar": {
              "outlinewidth": 0,
              "ticks": ""
             }
            },
            "type": "scattergl"
           }
          ],
          "scattermapbox": [
           {
            "marker": {
             "colorbar": {
              "outlinewidth": 0,
              "ticks": ""
             }
            },
            "type": "scattermapbox"
           }
          ],
          "scatterpolar": [
           {
            "marker": {
             "colorbar": {
              "outlinewidth": 0,
              "ticks": ""
             }
            },
            "type": "scatterpolar"
           }
          ],
          "scatterpolargl": [
           {
            "marker": {
             "colorbar": {
              "outlinewidth": 0,
              "ticks": ""
             }
            },
            "type": "scatterpolargl"
           }
          ],
          "scatterternary": [
           {
            "marker": {
             "colorbar": {
              "outlinewidth": 0,
              "ticks": ""
             }
            },
            "type": "scatterternary"
           }
          ],
          "surface": [
           {
            "colorbar": {
             "outlinewidth": 0,
             "ticks": ""
            },
            "colorscale": [
             [
              0,
              "#0d0887"
             ],
             [
              0.1111111111111111,
              "#46039f"
             ],
             [
              0.2222222222222222,
              "#7201a8"
             ],
             [
              0.3333333333333333,
              "#9c179e"
             ],
             [
              0.4444444444444444,
              "#bd3786"
             ],
             [
              0.5555555555555556,
              "#d8576b"
             ],
             [
              0.6666666666666666,
              "#ed7953"
             ],
             [
              0.7777777777777778,
              "#fb9f3a"
             ],
             [
              0.8888888888888888,
              "#fdca26"
             ],
             [
              1,
              "#f0f921"
             ]
            ],
            "type": "surface"
           }
          ],
          "table": [
           {
            "cells": {
             "fill": {
              "color": "#EBF0F8"
             },
             "line": {
              "color": "white"
             }
            },
            "header": {
             "fill": {
              "color": "#C8D4E3"
             },
             "line": {
              "color": "white"
             }
            },
            "type": "table"
           }
          ]
         },
         "layout": {
          "annotationdefaults": {
           "arrowcolor": "#2a3f5f",
           "arrowhead": 0,
           "arrowwidth": 1
          },
          "coloraxis": {
           "colorbar": {
            "outlinewidth": 0,
            "ticks": ""
           }
          },
          "colorscale": {
           "diverging": [
            [
             0,
             "#8e0152"
            ],
            [
             0.1,
             "#c51b7d"
            ],
            [
             0.2,
             "#de77ae"
            ],
            [
             0.3,
             "#f1b6da"
            ],
            [
             0.4,
             "#fde0ef"
            ],
            [
             0.5,
             "#f7f7f7"
            ],
            [
             0.6,
             "#e6f5d0"
            ],
            [
             0.7,
             "#b8e186"
            ],
            [
             0.8,
             "#7fbc41"
            ],
            [
             0.9,
             "#4d9221"
            ],
            [
             1,
             "#276419"
            ]
           ],
           "sequential": [
            [
             0,
             "#0d0887"
            ],
            [
             0.1111111111111111,
             "#46039f"
            ],
            [
             0.2222222222222222,
             "#7201a8"
            ],
            [
             0.3333333333333333,
             "#9c179e"
            ],
            [
             0.4444444444444444,
             "#bd3786"
            ],
            [
             0.5555555555555556,
             "#d8576b"
            ],
            [
             0.6666666666666666,
             "#ed7953"
            ],
            [
             0.7777777777777778,
             "#fb9f3a"
            ],
            [
             0.8888888888888888,
             "#fdca26"
            ],
            [
             1,
             "#f0f921"
            ]
           ],
           "sequentialminus": [
            [
             0,
             "#0d0887"
            ],
            [
             0.1111111111111111,
             "#46039f"
            ],
            [
             0.2222222222222222,
             "#7201a8"
            ],
            [
             0.3333333333333333,
             "#9c179e"
            ],
            [
             0.4444444444444444,
             "#bd3786"
            ],
            [
             0.5555555555555556,
             "#d8576b"
            ],
            [
             0.6666666666666666,
             "#ed7953"
            ],
            [
             0.7777777777777778,
             "#fb9f3a"
            ],
            [
             0.8888888888888888,
             "#fdca26"
            ],
            [
             1,
             "#f0f921"
            ]
           ]
          },
          "colorway": [
           "#636efa",
           "#EF553B",
           "#00cc96",
           "#ab63fa",
           "#FFA15A",
           "#19d3f3",
           "#FF6692",
           "#B6E880",
           "#FF97FF",
           "#FECB52"
          ],
          "font": {
           "color": "#2a3f5f"
          },
          "geo": {
           "bgcolor": "white",
           "lakecolor": "white",
           "landcolor": "#E5ECF6",
           "showlakes": true,
           "showland": true,
           "subunitcolor": "white"
          },
          "hoverlabel": {
           "align": "left"
          },
          "hovermode": "closest",
          "mapbox": {
           "style": "light"
          },
          "paper_bgcolor": "white",
          "plot_bgcolor": "#E5ECF6",
          "polar": {
           "angularaxis": {
            "gridcolor": "white",
            "linecolor": "white",
            "ticks": ""
           },
           "bgcolor": "#E5ECF6",
           "radialaxis": {
            "gridcolor": "white",
            "linecolor": "white",
            "ticks": ""
           }
          },
          "scene": {
           "xaxis": {
            "backgroundcolor": "#E5ECF6",
            "gridcolor": "white",
            "gridwidth": 2,
            "linecolor": "white",
            "showbackground": true,
            "ticks": "",
            "zerolinecolor": "white"
           },
           "yaxis": {
            "backgroundcolor": "#E5ECF6",
            "gridcolor": "white",
            "gridwidth": 2,
            "linecolor": "white",
            "showbackground": true,
            "ticks": "",
            "zerolinecolor": "white"
           },
           "zaxis": {
            "backgroundcolor": "#E5ECF6",
            "gridcolor": "white",
            "gridwidth": 2,
            "linecolor": "white",
            "showbackground": true,
            "ticks": "",
            "zerolinecolor": "white"
           }
          },
          "shapedefaults": {
           "line": {
            "color": "#2a3f5f"
           }
          },
          "ternary": {
           "aaxis": {
            "gridcolor": "white",
            "linecolor": "white",
            "ticks": ""
           },
           "baxis": {
            "gridcolor": "white",
            "linecolor": "white",
            "ticks": ""
           },
           "bgcolor": "#E5ECF6",
           "caxis": {
            "gridcolor": "white",
            "linecolor": "white",
            "ticks": ""
           }
          },
          "title": {
           "x": 0.05
          },
          "xaxis": {
           "automargin": true,
           "gridcolor": "white",
           "linecolor": "white",
           "ticks": "",
           "title": {
            "standoff": 15
           },
           "zerolinecolor": "white",
           "zerolinewidth": 2
          },
          "yaxis": {
           "automargin": true,
           "gridcolor": "white",
           "linecolor": "white",
           "ticks": "",
           "title": {
            "standoff": 15
           },
           "zerolinecolor": "white",
           "zerolinewidth": 2
          }
         }
        },
        "title": {
         "font": {
          "color": "#4D5663"
         },
         "text": "Customer Traffic per day"
        },
        "xaxis": {
         "gridcolor": "#E1E5ED",
         "showgrid": true,
         "tickfont": {
          "color": "#4D5663"
         },
         "title": {
          "font": {
           "color": "#4D5663"
          },
          "text": "Login_Date"
         },
         "zerolinecolor": "#E1E5ED"
        },
        "yaxis": {
         "gridcolor": "#E1E5ED",
         "showgrid": true,
         "tickfont": {
          "color": "#4D5663"
         },
         "title": {
          "font": {
           "color": "#4D5663"
          },
          "text": "Value_Count"
         },
         "zerolinecolor": "#E1E5ED"
        }
       }
      },
      "text/html": [
       "<div>\n",
       "        \n",
       "        \n",
       "            <div id=\"4f734f4a-2858-457a-872a-81ba93312d05\" class=\"plotly-graph-div\" style=\"height:525px; width:100%;\"></div>\n",
       "            <script type=\"text/javascript\">\n",
       "                require([\"plotly\"], function(Plotly) {\n",
       "                    window.PLOTLYENV=window.PLOTLYENV || {};\n",
       "                    window.PLOTLYENV.BASE_URL='https://plot.ly';\n",
       "                    \n",
       "                if (document.getElementById(\"4f734f4a-2858-457a-872a-81ba93312d05\")) {\n",
       "                    Plotly.newPlot(\n",
       "                        '4f734f4a-2858-457a-872a-81ba93312d05',\n",
       "                        [{\"line\": {\"color\": \"rgba(255, 153, 51, 1.0)\", \"dash\": \"solid\", \"shape\": \"linear\", \"width\": 1.3}, \"mode\": \"lines\", \"name\": \"session_id\", \"text\": \"\", \"type\": \"scatter\", \"x\": [\"2019-10-01\", \"2019-10-02\", \"2019-10-03\", \"2019-10-04\", \"2019-10-05\", \"2019-10-06\", \"2019-10-07\", \"2019-10-08\", \"2019-10-09\", \"2019-10-10\", \"2019-10-11\", \"2019-10-12\", \"2019-10-13\", \"2019-10-14\", \"2019-10-15\", \"2019-10-16\", \"2019-10-17\", \"2019-10-18\", \"2019-10-19\", \"2019-10-20\", \"2019-10-21\", \"2019-10-22\", \"2019-10-23\", \"2019-10-24\", \"2019-10-25\", \"2019-10-26\", \"2019-10-27\", \"2019-10-28\", \"2019-10-29\", \"2019-10-30\"], \"y\": [9, 5, 10, 9, 14, 12, 13, 8, 10, 14, 14, 8, 11, 3, 14, 4, 5, 11, 11, 12, 15, 11, 4, 12, 6, 22, 7, 10, 7, 9]}, {\"line\": {\"color\": \"rgba(55, 128, 191, 1.0)\", \"dash\": \"solid\", \"shape\": \"linear\", \"width\": 1.3}, \"mode\": \"lines\", \"name\": \"customer_id\", \"text\": \"\", \"type\": \"scatter\", \"x\": [\"2019-10-01\", \"2019-10-02\", \"2019-10-03\", \"2019-10-04\", \"2019-10-05\", \"2019-10-06\", \"2019-10-07\", \"2019-10-08\", \"2019-10-09\", \"2019-10-10\", \"2019-10-11\", \"2019-10-12\", \"2019-10-13\", \"2019-10-14\", \"2019-10-15\", \"2019-10-16\", \"2019-10-17\", \"2019-10-18\", \"2019-10-19\", \"2019-10-20\", \"2019-10-21\", \"2019-10-22\", \"2019-10-23\", \"2019-10-24\", \"2019-10-25\", \"2019-10-26\", \"2019-10-27\", \"2019-10-28\", \"2019-10-29\", \"2019-10-30\"], \"y\": [9, 5, 7, 7, 11, 11, 10, 8, 8, 11, 11, 7, 10, 3, 13, 4, 5, 10, 11, 11, 9, 11, 4, 11, 6, 14, 7, 10, 7, 9]}],\n",
       "                        {\"legend\": {\"bgcolor\": \"#F5F6F9\", \"font\": {\"color\": \"#4D5663\"}}, \"paper_bgcolor\": \"#F5F6F9\", \"plot_bgcolor\": \"#F5F6F9\", \"template\": {\"data\": {\"bar\": [{\"error_x\": {\"color\": \"#2a3f5f\"}, \"error_y\": {\"color\": \"#2a3f5f\"}, \"marker\": {\"line\": {\"color\": \"#E5ECF6\", \"width\": 0.5}}, \"type\": \"bar\"}], \"barpolar\": [{\"marker\": {\"line\": {\"color\": \"#E5ECF6\", \"width\": 0.5}}, \"type\": \"barpolar\"}], \"carpet\": [{\"aaxis\": {\"endlinecolor\": \"#2a3f5f\", \"gridcolor\": \"white\", \"linecolor\": \"white\", \"minorgridcolor\": \"white\", \"startlinecolor\": \"#2a3f5f\"}, \"baxis\": {\"endlinecolor\": \"#2a3f5f\", \"gridcolor\": \"white\", \"linecolor\": \"white\", \"minorgridcolor\": \"white\", \"startlinecolor\": \"#2a3f5f\"}, \"type\": \"carpet\"}], \"choropleth\": [{\"colorbar\": {\"outlinewidth\": 0, \"ticks\": \"\"}, \"type\": \"choropleth\"}], \"contour\": [{\"colorbar\": {\"outlinewidth\": 0, \"ticks\": \"\"}, \"colorscale\": [[0.0, \"#0d0887\"], [0.1111111111111111, \"#46039f\"], [0.2222222222222222, \"#7201a8\"], [0.3333333333333333, \"#9c179e\"], [0.4444444444444444, \"#bd3786\"], [0.5555555555555556, \"#d8576b\"], [0.6666666666666666, \"#ed7953\"], [0.7777777777777778, \"#fb9f3a\"], [0.8888888888888888, \"#fdca26\"], [1.0, \"#f0f921\"]], \"type\": \"contour\"}], \"contourcarpet\": [{\"colorbar\": {\"outlinewidth\": 0, \"ticks\": \"\"}, \"type\": \"contourcarpet\"}], \"heatmap\": [{\"colorbar\": {\"outlinewidth\": 0, \"ticks\": \"\"}, \"colorscale\": [[0.0, \"#0d0887\"], [0.1111111111111111, \"#46039f\"], [0.2222222222222222, \"#7201a8\"], [0.3333333333333333, \"#9c179e\"], [0.4444444444444444, \"#bd3786\"], [0.5555555555555556, \"#d8576b\"], [0.6666666666666666, \"#ed7953\"], [0.7777777777777778, \"#fb9f3a\"], [0.8888888888888888, \"#fdca26\"], [1.0, \"#f0f921\"]], \"type\": \"heatmap\"}], \"heatmapgl\": [{\"colorbar\": {\"outlinewidth\": 0, \"ticks\": \"\"}, \"colorscale\": [[0.0, \"#0d0887\"], [0.1111111111111111, \"#46039f\"], [0.2222222222222222, \"#7201a8\"], [0.3333333333333333, \"#9c179e\"], [0.4444444444444444, \"#bd3786\"], [0.5555555555555556, \"#d8576b\"], [0.6666666666666666, \"#ed7953\"], [0.7777777777777778, \"#fb9f3a\"], [0.8888888888888888, \"#fdca26\"], [1.0, \"#f0f921\"]], \"type\": \"heatmapgl\"}], \"histogram\": [{\"marker\": {\"colorbar\": {\"outlinewidth\": 0, \"ticks\": \"\"}}, \"type\": \"histogram\"}], \"histogram2d\": [{\"colorbar\": {\"outlinewidth\": 0, \"ticks\": \"\"}, \"colorscale\": [[0.0, \"#0d0887\"], [0.1111111111111111, \"#46039f\"], [0.2222222222222222, \"#7201a8\"], [0.3333333333333333, \"#9c179e\"], [0.4444444444444444, \"#bd3786\"], [0.5555555555555556, \"#d8576b\"], [0.6666666666666666, \"#ed7953\"], [0.7777777777777778, \"#fb9f3a\"], [0.8888888888888888, \"#fdca26\"], [1.0, \"#f0f921\"]], \"type\": \"histogram2d\"}], \"histogram2dcontour\": [{\"colorbar\": {\"outlinewidth\": 0, \"ticks\": \"\"}, \"colorscale\": [[0.0, \"#0d0887\"], [0.1111111111111111, \"#46039f\"], [0.2222222222222222, \"#7201a8\"], [0.3333333333333333, \"#9c179e\"], [0.4444444444444444, \"#bd3786\"], [0.5555555555555556, \"#d8576b\"], [0.6666666666666666, \"#ed7953\"], [0.7777777777777778, \"#fb9f3a\"], [0.8888888888888888, \"#fdca26\"], [1.0, \"#f0f921\"]], \"type\": \"histogram2dcontour\"}], \"mesh3d\": [{\"colorbar\": {\"outlinewidth\": 0, \"ticks\": \"\"}, \"type\": \"mesh3d\"}], \"parcoords\": [{\"line\": {\"colorbar\": {\"outlinewidth\": 0, \"ticks\": \"\"}}, \"type\": \"parcoords\"}], \"pie\": [{\"automargin\": true, \"type\": \"pie\"}], \"scatter\": [{\"marker\": {\"colorbar\": {\"outlinewidth\": 0, \"ticks\": \"\"}}, \"type\": \"scatter\"}], \"scatter3d\": [{\"line\": {\"colorbar\": {\"outlinewidth\": 0, \"ticks\": \"\"}}, \"marker\": {\"colorbar\": {\"outlinewidth\": 0, \"ticks\": \"\"}}, \"type\": \"scatter3d\"}], \"scattercarpet\": [{\"marker\": {\"colorbar\": {\"outlinewidth\": 0, \"ticks\": \"\"}}, \"type\": \"scattercarpet\"}], \"scattergeo\": [{\"marker\": {\"colorbar\": {\"outlinewidth\": 0, \"ticks\": \"\"}}, \"type\": \"scattergeo\"}], \"scattergl\": [{\"marker\": {\"colorbar\": {\"outlinewidth\": 0, \"ticks\": \"\"}}, \"type\": \"scattergl\"}], \"scattermapbox\": [{\"marker\": {\"colorbar\": {\"outlinewidth\": 0, \"ticks\": \"\"}}, \"type\": \"scattermapbox\"}], \"scatterpolar\": [{\"marker\": {\"colorbar\": {\"outlinewidth\": 0, \"ticks\": \"\"}}, \"type\": \"scatterpolar\"}], \"scatterpolargl\": [{\"marker\": {\"colorbar\": {\"outlinewidth\": 0, \"ticks\": \"\"}}, \"type\": \"scatterpolargl\"}], \"scatterternary\": [{\"marker\": {\"colorbar\": {\"outlinewidth\": 0, \"ticks\": \"\"}}, \"type\": \"scatterternary\"}], \"surface\": [{\"colorbar\": {\"outlinewidth\": 0, \"ticks\": \"\"}, \"colorscale\": [[0.0, \"#0d0887\"], [0.1111111111111111, \"#46039f\"], [0.2222222222222222, \"#7201a8\"], [0.3333333333333333, \"#9c179e\"], [0.4444444444444444, \"#bd3786\"], [0.5555555555555556, \"#d8576b\"], [0.6666666666666666, \"#ed7953\"], [0.7777777777777778, \"#fb9f3a\"], [0.8888888888888888, \"#fdca26\"], [1.0, \"#f0f921\"]], \"type\": \"surface\"}], \"table\": [{\"cells\": {\"fill\": {\"color\": \"#EBF0F8\"}, \"line\": {\"color\": \"white\"}}, \"header\": {\"fill\": {\"color\": \"#C8D4E3\"}, \"line\": {\"color\": \"white\"}}, \"type\": \"table\"}]}, \"layout\": {\"annotationdefaults\": {\"arrowcolor\": \"#2a3f5f\", \"arrowhead\": 0, \"arrowwidth\": 1}, \"coloraxis\": {\"colorbar\": {\"outlinewidth\": 0, \"ticks\": \"\"}}, \"colorscale\": {\"diverging\": [[0, \"#8e0152\"], [0.1, \"#c51b7d\"], [0.2, \"#de77ae\"], [0.3, \"#f1b6da\"], [0.4, \"#fde0ef\"], [0.5, \"#f7f7f7\"], [0.6, \"#e6f5d0\"], [0.7, \"#b8e186\"], [0.8, \"#7fbc41\"], [0.9, \"#4d9221\"], [1, \"#276419\"]], \"sequential\": [[0.0, \"#0d0887\"], [0.1111111111111111, \"#46039f\"], [0.2222222222222222, \"#7201a8\"], [0.3333333333333333, \"#9c179e\"], [0.4444444444444444, \"#bd3786\"], [0.5555555555555556, \"#d8576b\"], [0.6666666666666666, \"#ed7953\"], [0.7777777777777778, \"#fb9f3a\"], [0.8888888888888888, \"#fdca26\"], [1.0, \"#f0f921\"]], \"sequentialminus\": [[0.0, \"#0d0887\"], [0.1111111111111111, \"#46039f\"], [0.2222222222222222, \"#7201a8\"], [0.3333333333333333, \"#9c179e\"], [0.4444444444444444, \"#bd3786\"], [0.5555555555555556, \"#d8576b\"], [0.6666666666666666, \"#ed7953\"], [0.7777777777777778, \"#fb9f3a\"], [0.8888888888888888, \"#fdca26\"], [1.0, \"#f0f921\"]]}, \"colorway\": [\"#636efa\", \"#EF553B\", \"#00cc96\", \"#ab63fa\", \"#FFA15A\", \"#19d3f3\", \"#FF6692\", \"#B6E880\", \"#FF97FF\", \"#FECB52\"], \"font\": {\"color\": \"#2a3f5f\"}, \"geo\": {\"bgcolor\": \"white\", \"lakecolor\": \"white\", \"landcolor\": \"#E5ECF6\", \"showlakes\": true, \"showland\": true, \"subunitcolor\": \"white\"}, \"hoverlabel\": {\"align\": \"left\"}, \"hovermode\": \"closest\", \"mapbox\": {\"style\": \"light\"}, \"paper_bgcolor\": \"white\", \"plot_bgcolor\": \"#E5ECF6\", \"polar\": {\"angularaxis\": {\"gridcolor\": \"white\", \"linecolor\": \"white\", \"ticks\": \"\"}, \"bgcolor\": \"#E5ECF6\", \"radialaxis\": {\"gridcolor\": \"white\", \"linecolor\": \"white\", \"ticks\": \"\"}}, \"scene\": {\"xaxis\": {\"backgroundcolor\": \"#E5ECF6\", \"gridcolor\": \"white\", \"gridwidth\": 2, \"linecolor\": \"white\", \"showbackground\": true, \"ticks\": \"\", \"zerolinecolor\": \"white\"}, \"yaxis\": {\"backgroundcolor\": \"#E5ECF6\", \"gridcolor\": \"white\", \"gridwidth\": 2, \"linecolor\": \"white\", \"showbackground\": true, \"ticks\": \"\", \"zerolinecolor\": \"white\"}, \"zaxis\": {\"backgroundcolor\": \"#E5ECF6\", \"gridcolor\": \"white\", \"gridwidth\": 2, \"linecolor\": \"white\", \"showbackground\": true, \"ticks\": \"\", \"zerolinecolor\": \"white\"}}, \"shapedefaults\": {\"line\": {\"color\": \"#2a3f5f\"}}, \"ternary\": {\"aaxis\": {\"gridcolor\": \"white\", \"linecolor\": \"white\", \"ticks\": \"\"}, \"baxis\": {\"gridcolor\": \"white\", \"linecolor\": \"white\", \"ticks\": \"\"}, \"bgcolor\": \"#E5ECF6\", \"caxis\": {\"gridcolor\": \"white\", \"linecolor\": \"white\", \"ticks\": \"\"}}, \"title\": {\"x\": 0.05}, \"xaxis\": {\"automargin\": true, \"gridcolor\": \"white\", \"linecolor\": \"white\", \"ticks\": \"\", \"title\": {\"standoff\": 15}, \"zerolinecolor\": \"white\", \"zerolinewidth\": 2}, \"yaxis\": {\"automargin\": true, \"gridcolor\": \"white\", \"linecolor\": \"white\", \"ticks\": \"\", \"title\": {\"standoff\": 15}, \"zerolinecolor\": \"white\", \"zerolinewidth\": 2}}}, \"title\": {\"font\": {\"color\": \"#4D5663\"}, \"text\": \"Customer Traffic per day\"}, \"xaxis\": {\"gridcolor\": \"#E1E5ED\", \"showgrid\": true, \"tickfont\": {\"color\": \"#4D5663\"}, \"title\": {\"font\": {\"color\": \"#4D5663\"}, \"text\": \"Login_Date\"}, \"zerolinecolor\": \"#E1E5ED\"}, \"yaxis\": {\"gridcolor\": \"#E1E5ED\", \"showgrid\": true, \"tickfont\": {\"color\": \"#4D5663\"}, \"title\": {\"font\": {\"color\": \"#4D5663\"}, \"text\": \"Value_Count\"}, \"zerolinecolor\": \"#E1E5ED\"}},\n",
       "                        {\"showLink\": true, \"linkText\": \"Export to plot.ly\", \"plotlyServerURL\": \"https://plot.ly\", \"responsive\": true}\n",
       "                    ).then(function(){\n",
       "                            \n",
       "var gd = document.getElementById('4f734f4a-2858-457a-872a-81ba93312d05');\n",
       "var x = new MutationObserver(function (mutations, observer) {{\n",
       "        var display = window.getComputedStyle(gd).display;\n",
       "        if (!display || display === 'none') {{\n",
       "            console.log([gd, 'removed!']);\n",
       "            Plotly.purge(gd);\n",
       "            observer.disconnect();\n",
       "        }}\n",
       "}});\n",
       "\n",
       "// Listen for the removal of the full notebook cells\n",
       "var notebookContainer = gd.closest('#notebook-container');\n",
       "if (notebookContainer) {{\n",
       "    x.observe(notebookContainer, {childList: true});\n",
       "}}\n",
       "\n",
       "// Listen for the clearing of the current output cell\n",
       "var outputEl = gd.closest('.output');\n",
       "if (outputEl) {{\n",
       "    x.observe(outputEl, {childList: true});\n",
       "}}\n",
       "\n",
       "                        })\n",
       "                };\n",
       "                });\n",
       "            </script>\n",
       "        </div>"
      ]
     },
     "metadata": {},
     "output_type": "display_data"
    }
   ],
   "source": [
    "#Graph to show Customer traffic\n",
    "fig = show.groupby('login_date')[['session_id','customer_id']].nunique().iplot(title='Customer Traffic per day', xTitle='Login_Date', yTitle='Value_Count')\n"
   ]
  },
  {
   "cell_type": "code",
   "execution_count": 12,
   "metadata": {},
   "outputs": [
    {
     "data": {
      "text/plain": [
       "<matplotlib.legend.Legend at 0x24cc04ed708>"
      ]
     },
     "execution_count": 12,
     "metadata": {},
     "output_type": "execute_result"
    },
    {
     "data": {
      "image/png": "[encoded data removed]",
      "text/plain": [
       "<Figure size 1080x576 with 1 Axes>"
      ]
     },
     "metadata": {
      "needs_background": "light"
     },
     "output_type": "display_data"
    }
   ],
   "source": [
    "#Graph to show comaprison of Bugs and session counts\n",
    "fig = plt.figure(figsize=(15, 8))\n",
    "\n",
    "ax = fig.add_axes([0,0,1,1])\n",
    "\n",
    "ax.plot(show.groupby('login_date').count()['session_id'], label = '#sessions')\n",
    "ax.plot(show.groupby('login_date').sum()['bugs_in_session'], label = '#bugs')\n",
    "ax.set_xlabel('Login_Date')\n",
    "ax.set_title('Sessions and Bugs')\n",
    "ax.legend()"
   ]
  },
  {
   "cell_type": "code",
   "execution_count": 13,
   "metadata": {},
   "outputs": [
    {
     "data": {
      "application/vnd.plotly.v1+json": {
       "config": {
        "linkText": "Export to plot.ly",
        "plotlyServerURL": "https://plot.ly",
        "showLink": true
       },
       "data": [
        {
         "line": {
          "color": "rgba(255, 153, 51, 1.0)",
          "dash": "solid",
          "shape": "linear",
          "width": 1.3
         },
         "mode": "lines",
         "name": "bugs_in_session",
         "text": "",
         "type": "scatter",
         "x": [
          "(2019-10-01 00:00:00,14354)",
          "(2019-10-01 00:00:00,23083)",
          "(2019-10-01 00:00:00,29375)",
          "(2019-10-01 00:00:00,38459)",
          "(2019-10-01 00:00:00,40572)",
          "(2019-10-01 00:00:00,43096)",
          "(2019-10-01 00:00:00,51243)",
          "(2019-10-01 00:00:00,80746)",
          "(2019-10-01 00:00:00,87323)",
          "(2019-10-02 00:00:00,12407)",
          "(2019-10-02 00:00:00,40572)",
          "(2019-10-02 00:00:00,43658)",
          "(2019-10-02 00:00:00,82963)",
          "(2019-10-02 00:00:00,87323)",
          "(2019-10-03 00:00:00,14354)",
          "(2019-10-03 00:00:00,23404)",
          "(2019-10-03 00:00:00,29375)",
          "(2019-10-03 00:00:00,40235)",
          "(2019-10-03 00:00:00,73245)",
          "(2019-10-03 00:00:00,87323)",
          "(2019-10-03 00:00:00,96254)",
          "(2019-10-04 00:00:00,12940)",
          "(2019-10-04 00:00:00,14354)",
          "(2019-10-04 00:00:00,23404)",
          "(2019-10-04 00:00:00,29375)",
          "(2019-10-04 00:00:00,38459)",
          "(2019-10-04 00:00:00,43086)",
          "(2019-10-04 00:00:00,73245)",
          "(2019-10-05 00:00:00,12940)",
          "(2019-10-05 00:00:00,14354)",
          "(2019-10-05 00:00:00,23404)",
          "(2019-10-05 00:00:00,29375)",
          "(2019-10-05 00:00:00,38459)",
          "(2019-10-05 00:00:00,40235)",
          "(2019-10-05 00:00:00,40572)",
          "(2019-10-05 00:00:00,43086)",
          "(2019-10-05 00:00:00,68754)",
          "(2019-10-05 00:00:00,87323)",
          "(2019-10-05 00:00:00,96254)",
          "(2019-10-06 00:00:00,10246)",
          "(2019-10-06 00:00:00,20548)",
          "(2019-10-06 00:00:00,23579)",
          "(2019-10-06 00:00:00,38459)",
          "(2019-10-06 00:00:00,43549)",
          "(2019-10-06 00:00:00,73524)",
          "(2019-10-06 00:00:00,76530)",
          "(2019-10-06 00:00:00,87265)",
          "(2019-10-06 00:00:00,92736)",
          "(2019-10-06 00:00:00,93464)",
          "(2019-10-06 00:00:00,98653)",
          "(2019-10-07 00:00:00,19348)",
          "(2019-10-07 00:00:00,23548)",
          "(2019-10-07 00:00:00,23579)",
          "(2019-10-07 00:00:00,29356)",
          "(2019-10-07 00:00:00,29375)",
          "(2019-10-07 00:00:00,38459)",
          "(2019-10-07 00:00:00,43086)",
          "(2019-10-07 00:00:00,93486)",
          "(2019-10-07 00:00:00,96254)",
          "(2019-10-07 00:00:00,98346)",
          "(2019-10-08 00:00:00,12940)",
          "(2019-10-08 00:00:00,34574)",
          "(2019-10-08 00:00:00,43057)",
          "(2019-10-08 00:00:00,43549)",
          "(2019-10-08 00:00:00,73524)",
          "(2019-10-08 00:00:00,87265)",
          "(2019-10-08 00:00:00,87323)",
          "(2019-10-08 00:00:00,93464)",
          "(2019-10-09 00:00:00,14354)",
          "(2019-10-09 00:00:00,23404)",
          "(2019-10-09 00:00:00,29356)",
          "(2019-10-09 00:00:00,29375)",
          "(2019-10-09 00:00:00,40235)",
          "(2019-10-09 00:00:00,40572)",
          "(2019-10-09 00:00:00,73245)",
          "(2019-10-09 00:00:00,80746)",
          "(2019-10-10 00:00:00,12496)",
          "(2019-10-10 00:00:00,23404)",
          "(2019-10-10 00:00:00,23579)",
          "(2019-10-10 00:00:00,34574)",
          "(2019-10-10 00:00:00,40235)",
          "(2019-10-10 00:00:00,43057)",
          "(2019-10-10 00:00:00,43549)",
          "(2019-10-10 00:00:00,73245)",
          "(2019-10-10 00:00:00,73524)",
          "(2019-10-10 00:00:00,87265)",
          "(2019-10-10 00:00:00,93464)",
          "(2019-10-11 00:00:00,14354)",
          "(2019-10-11 00:00:00,23083)",
          "(2019-10-11 00:00:00,23404)",
          "(2019-10-11 00:00:00,23579)",
          "(2019-10-11 00:00:00,29375)",
          "(2019-10-11 00:00:00,34574)",
          "(2019-10-11 00:00:00,40235)",
          "(2019-10-11 00:00:00,40572)",
          "(2019-10-11 00:00:00,73245)",
          "(2019-10-11 00:00:00,87265)",
          "(2019-10-11 00:00:00,87323)",
          "(2019-10-12 00:00:00,14354)",
          "(2019-10-12 00:00:00,23083)",
          "(2019-10-12 00:00:00,23985)",
          "(2019-10-12 00:00:00,29375)",
          "(2019-10-12 00:00:00,38459)",
          "(2019-10-12 00:00:00,40572)",
          "(2019-10-12 00:00:00,51243)",
          "(2019-10-13 00:00:00,14354)",
          "(2019-10-13 00:00:00,23083)",
          "(2019-10-13 00:00:00,23985)",
          "(2019-10-13 00:00:00,29375)",
          "(2019-10-13 00:00:00,38459)",
          "(2019-10-13 00:00:00,40572)",
          "(2019-10-13 00:00:00,51243)",
          "(2019-10-13 00:00:00,80746)",
          "(2019-10-13 00:00:00,93464)",
          "(2019-10-13 00:00:00,98476)",
          "(2019-10-14 00:00:00,12940)",
          "(2019-10-14 00:00:00,38459)",
          "(2019-10-14 00:00:00,43086)",
          "(2019-10-15 00:00:00,10246)",
          "(2019-10-15 00:00:00,12496)",
          "(2019-10-15 00:00:00,14354)",
          "(2019-10-15 00:00:00,23404)",
          "(2019-10-15 00:00:00,23457)",
          "(2019-10-15 00:00:00,23579)",
          "(2019-10-15 00:00:00,23596)",
          "(2019-10-15 00:00:00,29356)",
          "(2019-10-15 00:00:00,29375)",
          "(2019-10-15 00:00:00,38459)",
          "(2019-10-15 00:00:00,40235)",
          "(2019-10-15 00:00:00,87323)",
          "(2019-10-15 00:00:00,98653)",
          "(2019-10-16 00:00:00,23083)",
          "(2019-10-16 00:00:00,40572)",
          "(2019-10-16 00:00:00,51243)",
          "(2019-10-16 00:00:00,87323)",
          "(2019-10-17 00:00:00,12407)",
          "(2019-10-17 00:00:00,19374)",
          "(2019-10-17 00:00:00,29345)",
          "(2019-10-17 00:00:00,29375)",
          "(2019-10-17 00:00:00,73245)",
          "(2019-10-18 00:00:00,12407)",
          "(2019-10-18 00:00:00,12496)",
          "(2019-10-18 00:00:00,23404)",
          "(2019-10-18 00:00:00,23985)",
          "(2019-10-18 00:00:00,34574)",
          "(2019-10-18 00:00:00,43057)",
          "(2019-10-18 00:00:00,43549)",
          "(2019-10-18 00:00:00,46329)",
          "(2019-10-18 00:00:00,73524)",
          "(2019-10-18 00:00:00,87265)",
          "(2019-10-19 00:00:00,12407)",
          "(2019-10-19 00:00:00,23404)",
          "(2019-10-19 00:00:00,23985)",
          "(2019-10-19 00:00:00,29375)",
          "(2019-10-19 00:00:00,38459)",
          "(2019-10-19 00:00:00,39475)",
          "(2019-10-19 00:00:00,40572)",
          "(2019-10-19 00:00:00,43549)",
          "(2019-10-19 00:00:00,51243)",
          "(2019-10-19 00:00:00,73245)",
          "(2019-10-19 00:00:00,87323)",
          "(2019-10-20 00:00:00,12407)",
          "(2019-10-20 00:00:00,23083)",
          "(2019-10-20 00:00:00,29356)",
          "(2019-10-20 00:00:00,29375)",
          "(2019-10-20 00:00:00,34574)",
          "(2019-10-20 00:00:00,51243)",
          "(2019-10-20 00:00:00,73524)",
          "(2019-10-20 00:00:00,87265)",
          "(2019-10-20 00:00:00,87323)",
          "(2019-10-20 00:00:00,96254)",
          "(2019-10-20 00:00:00,98653)",
          "(2019-10-21 00:00:00,10246)",
          "(2019-10-21 00:00:00,23404)",
          "(2019-10-21 00:00:00,23985)",
          "(2019-10-21 00:00:00,32047)",
          "(2019-10-21 00:00:00,33496)",
          "(2019-10-21 00:00:00,40235)",
          "(2019-10-21 00:00:00,73245)",
          "(2019-10-21 00:00:00,87323)",
          "(2019-10-21 00:00:00,98653)",
          "(2019-10-22 00:00:00,12407)",
          "(2019-10-22 00:00:00,14354)",
          "(2019-10-22 00:00:00,23083)",
          "(2019-10-22 00:00:00,23404)",
          "(2019-10-22 00:00:00,24520)",
          "(2019-10-22 00:00:00,29356)",
          "(2019-10-22 00:00:00,29375)",
          "(2019-10-22 00:00:00,32047)",
          "(2019-10-22 00:00:00,38459)",
          "(2019-10-22 00:00:00,40235)",
          "(2019-10-22 00:00:00,51243)",
          "(2019-10-23 00:00:00,34574)",
          "(2019-10-23 00:00:00,39475)",
          "(2019-10-23 00:00:00,73524)",
          "(2019-10-23 00:00:00,87265)",
          "(2019-10-24 00:00:00,12496)",
          "(2019-10-24 00:00:00,23083)",
          "(2019-10-24 00:00:00,23985)",
          "(2019-10-24 00:00:00,38459)",
          "(2019-10-24 00:00:00,39475)",
          "(2019-10-24 00:00:00,43057)",
          "(2019-10-24 00:00:00,43549)",
          "(2019-10-24 00:00:00,51243)",
          "(2019-10-24 00:00:00,73524)",
          "(2019-10-24 00:00:00,87265)",
          "(2019-10-24 00:00:00,87323)",
          "(2019-10-25 00:00:00,14354)",
          "(2019-10-25 00:00:00,29356)",
          "(2019-10-25 00:00:00,40235)",
          "(2019-10-25 00:00:00,40572)",
          "(2019-10-25 00:00:00,73245)",
          "(2019-10-25 00:00:00,98653)",
          "(2019-10-26 00:00:00,12407)",
          "(2019-10-26 00:00:00,23083)",
          "(2019-10-26 00:00:00,23404)",
          "(2019-10-26 00:00:00,23985)",
          "(2019-10-26 00:00:00,32047)",
          "(2019-10-26 00:00:00,34574)",
          "(2019-10-26 00:00:00,38459)",
          "(2019-10-26 00:00:00,40235)",
          "(2019-10-26 00:00:00,40572)",
          "(2019-10-26 00:00:00,51243)",
          "(2019-10-26 00:00:00,73245)",
          "(2019-10-26 00:00:00,87265)",
          "(2019-10-26 00:00:00,87323)",
          "(2019-10-26 00:00:00,96254)",
          "(2019-10-27 00:00:00,14354)",
          "(2019-10-27 00:00:00,23404)",
          "(2019-10-27 00:00:00,29375)",
          "(2019-10-27 00:00:00,40235)",
          "(2019-10-27 00:00:00,40572)",
          "(2019-10-27 00:00:00,87265)",
          "(2019-10-27 00:00:00,87323)",
          "(2019-10-28 00:00:00,12496)",
          "(2019-10-28 00:00:00,14354)",
          "(2019-10-28 00:00:00,23985)",
          "(2019-10-28 00:00:00,39475)",
          "(2019-10-28 00:00:00,40572)",
          "(2019-10-28 00:00:00,43057)",
          "(2019-10-28 00:00:00,43549)",
          "(2019-10-28 00:00:00,51243)",
          "(2019-10-28 00:00:00,73524)",
          "(2019-10-28 00:00:00,87323)",
          "(2019-10-29 00:00:00,23083)",
          "(2019-10-29 00:00:00,23404)",
          "(2019-10-29 00:00:00,38459)",
          "(2019-10-29 00:00:00,40572)",
          "(2019-10-29 00:00:00,51243)",
          "(2019-10-29 00:00:00,87323)",
          "(2019-10-29 00:00:00,98653)",
          "(2019-10-30 00:00:00,12407)",
          "(2019-10-30 00:00:00,23404)",
          "(2019-10-30 00:00:00,24520)",
          "(2019-10-30 00:00:00,29375)",
          "(2019-10-30 00:00:00,32047)",
          "(2019-10-30 00:00:00,40235)",
          "(2019-10-30 00:00:00,40572)",
          "(2019-10-30 00:00:00,73245)",
          "(2019-10-30 00:00:00,80746)"
         ],
         "y": [
          0,
          0,
          0,
          0,
          0,
          0,
          0,
          0,
          0,
          0,
          2,
          0,
          0,
          0,
          3,
          10,
          3,
          0,
          0,
          4,
          0,
          0,
          2,
          0,
          0,
          0,
          0,
          0,
          0,
          0,
          2,
          0,
          0,
          5,
          0,
          0,
          0,
          0,
          0,
          2,
          1,
          0,
          4,
          2,
          0,
          2,
          0,
          4,
          0,
          0,
          0,
          0,
          0,
          5,
          3,
          0,
          5,
          0,
          0,
          5,
          3,
          3,
          2,
          0,
          3,
          2,
          1,
          4,
          0,
          0,
          3,
          0,
          4,
          3,
          8,
          4,
          0,
          3,
          5,
          0,
          0,
          3,
          1,
          4,
          1,
          0,
          2,
          2,
          2,
          1,
          0,
          0,
          0,
          0,
          0,
          5,
          4,
          0,
          0,
          4,
          0,
          3,
          0,
          4,
          0,
          4,
          1,
          5,
          2,
          4,
          5,
          0,
          4,
          0,
          0,
          0,
          0,
          0,
          0,
          4,
          0,
          0,
          0,
          0,
          0,
          0,
          0,
          4,
          0,
          0,
          3,
          0,
          0,
          0,
          0,
          0,
          0,
          0,
          2,
          0,
          0,
          0,
          3,
          0,
          0,
          0,
          0,
          0,
          0,
          0,
          0,
          0,
          0,
          4,
          0,
          4,
          0,
          0,
          0,
          2,
          4,
          3,
          4,
          3,
          4,
          4,
          1,
          2,
          4,
          5,
          5,
          0,
          7,
          0,
          0,
          0,
          0,
          2,
          1,
          5,
          2,
          0,
          4,
          3,
          4,
          5,
          0,
          5,
          0,
          3,
          0,
          5,
          2,
          5,
          0,
          0,
          0,
          0,
          0,
          0,
          5,
          2,
          1,
          0,
          3,
          0,
          0,
          0,
          0,
          0,
          0,
          0,
          0,
          3,
          2,
          5,
          3,
          0,
          2,
          0,
          5,
          8,
          8,
          0,
          0,
          2,
          5,
          0,
          5,
          0,
          3,
          3,
          2,
          2,
          0,
          0,
          0,
          0,
          0,
          1,
          3,
          0,
          0,
          2,
          0,
          0,
          0,
          0,
          0,
          0,
          0,
          0,
          0,
          0,
          0,
          0,
          0,
          0,
          4,
          0
         ]
        }
       ],
       "layout": {
        "legend": {
         "bgcolor": "#F5F6F9",
         "font": {
          "color": "#4D5663"
         }
        },
        "paper_bgcolor": "#F5F6F9",
        "plot_bgcolor": "#F5F6F9",
        "template": {
         "data": {
          "bar": [
           {
            "error_x": {
             "color": "#2a3f5f"
            },
            "error_y": {
             "color": "#2a3f5f"
            },
            "marker": {
             "line": {
              "color": "#E5ECF6",
              "width": 0.5
             }
            },
            "type": "bar"
           }
          ],
          "barpolar": [
           {
            "marker": {
             "line": {
              "color": "#E5ECF6",
              "width": 0.5
             }
            },
            "type": "barpolar"
           }
          ],
          "carpet": [
           {
            "aaxis": {
             "endlinecolor": "#2a3f5f",
             "gridcolor": "white",
             "linecolor": "white",
             "minorgridcolor": "white",
             "startlinecolor": "#2a3f5f"
            },
            "baxis": {
             "endlinecolor": "#2a3f5f",
             "gridcolor": "white",
             "linecolor": "white",
             "minorgridcolor": "white",
             "startlinecolor": "#2a3f5f"
            },
            "type": "carpet"
           }
          ],
          "choropleth": [
           {
            "colorbar": {
             "outlinewidth": 0,
             "ticks": ""
            },
            "type": "choropleth"
           }
          ],
          "contour": [
           {
            "colorbar": {
             "outlinewidth": 0,
             "ticks": ""
            },
            "colorscale": [
             [
              0,
              "#0d0887"
             ],
             [
              0.1111111111111111,
              "#46039f"
             ],
             [
              0.2222222222222222,
              "#7201a8"
             ],
             [
              0.3333333333333333,
              "#9c179e"
             ],
             [
              0.4444444444444444,
              "#bd3786"
             ],
             [
              0.5555555555555556,
              "#d8576b"
             ],
             [
              0.6666666666666666,
              "#ed7953"
             ],
             [
              0.7777777777777778,
              "#fb9f3a"
             ],
             [
              0.8888888888888888,
              "#fdca26"
             ],
             [
              1,
              "#f0f921"
             ]
            ],
            "type": "contour"
           }
          ],
          "contourcarpet": [
           {
            "colorbar": {
             "outlinewidth": 0,
             "ticks": ""
            },
            "type": "contourcarpet"
           }
          ],
          "heatmap": [
           {
            "colorbar": {
             "outlinewidth": 0,
             "ticks": ""
            },
            "colorscale": [
             [
              0,
              "#0d0887"
             ],
             [
              0.1111111111111111,
              "#46039f"
             ],
             [
              0.2222222222222222,
              "#7201a8"
             ],
             [
              0.3333333333333333,
              "#9c179e"
             ],
             [
              0.4444444444444444,
              "#bd3786"
             ],
             [
              0.5555555555555556,
              "#d8576b"
             ],
             [
              0.6666666666666666,
              "#ed7953"
             ],
             [
              0.7777777777777778,
              "#fb9f3a"
             ],
             [
              0.8888888888888888,
              "#fdca26"
             ],
             [
              1,
              "#f0f921"
             ]
            ],
            "type": "heatmap"
           }
          ],
          "heatmapgl": [
           {
            "colorbar": {
             "outlinewidth": 0,
             "ticks": ""
            },
            "colorscale": [
             [
              0,
              "#0d0887"
             ],
             [
              0.1111111111111111,
              "#46039f"
             ],
             [
              0.2222222222222222,
              "#7201a8"
             ],
             [
              0.3333333333333333,
              "#9c179e"
             ],
             [
              0.4444444444444444,
              "#bd3786"
             ],
             [
              0.5555555555555556,
              "#d8576b"
             ],
             [
              0.6666666666666666,
              "#ed7953"
             ],
             [
              0.7777777777777778,
              "#fb9f3a"
             ],
             [
              0.8888888888888888,
              "#fdca26"
             ],
             [
              1,
              "#f0f921"
             ]
            ],
            "type": "heatmapgl"
           }
          ],
          "histogram": [
           {
            "marker": {
             "colorbar": {
              "outlinewidth": 0,
              "ticks": ""
             }
            },
            "type": "histogram"
           }
          ],
          "histogram2d": [
           {
            "colorbar": {
             "outlinewidth": 0,
             "ticks": ""
            },
            "colorscale": [
             [
              0,
              "#0d0887"
             ],
             [
              0.1111111111111111,
              "#46039f"
             ],
             [
              0.2222222222222222,
              "#7201a8"
             ],
             [
              0.3333333333333333,
              "#9c179e"
             ],
             [
              0.4444444444444444,
              "#bd3786"
             ],
             [
              0.5555555555555556,
              "#d8576b"
             ],
             [
              0.6666666666666666,
              "#ed7953"
             ],
             [
              0.7777777777777778,
              "#fb9f3a"
             ],
             [
              0.8888888888888888,
              "#fdca26"
             ],
             [
              1,
              "#f0f921"
             ]
            ],
            "type": "histogram2d"
           }
          ],
          "histogram2dcontour": [
           {
            "colorbar": {
             "outlinewidth": 0,
             "ticks": ""
            },
            "colorscale": [
             [
              0,
              "#0d0887"
             ],
             [
              0.1111111111111111,
              "#46039f"
             ],
             [
              0.2222222222222222,
              "#7201a8"
             ],
             [
              0.3333333333333333,
              "#9c179e"
             ],
             [
              0.4444444444444444,
              "#bd3786"
             ],
             [
              0.5555555555555556,
              "#d8576b"
             ],
             [
              0.6666666666666666,
              "#ed7953"
             ],
             [
              0.7777777777777778,
              "#fb9f3a"
             ],
             [
              0.8888888888888888,
              "#fdca26"
             ],
             [
              1,
              "#f0f921"
             ]
            ],
            "type": "histogram2dcontour"
           }
          ],
          "mesh3d": [
           {
            "colorbar": {
             "outlinewidth": 0,
             "ticks": ""
            },
            "type": "mesh3d"
           }
          ],
          "parcoords": [
           {
            "line": {
             "colorbar": {
              "outlinewidth": 0,
              "ticks": ""
             }
            },
            "type": "parcoords"
           }
          ],
          "pie": [
           {
            "automargin": true,
            "type": "pie"
           }
          ],
          "scatter": [
           {
            "marker": {
             "colorbar": {
              "outlinewidth": 0,
              "ticks": ""
             }
            },
            "type": "scatter"
           }
          ],
          "scatter3d": [
           {
            "line": {
             "colorbar": {
              "outlinewidth": 0,
              "ticks": ""
             }
            },
            "marker": {
             "colorbar": {
              "outlinewidth": 0,
              "ticks": ""
             }
            },
            "type": "scatter3d"
           }
          ],
          "scattercarpet": [
           {
            "marker": {
             "colorbar": {
              "outlinewidth": 0,
              "ticks": ""
             }
            },
            "type": "scattercarpet"
           }
          ],
          "scattergeo": [
           {
            "marker": {
             "colorbar": {
              "outlinewidth": 0,
              "ticks": ""
             }
            },
            "type": "scattergeo"
           }
          ],
          "scattergl": [
           {
            "marker": {
             "colorbar": {
              "outlinewidth": 0,
              "ticks": ""
             }
            },
            "type": "scattergl"
           }
          ],
          "scattermapbox": [
           {
            "marker": {
             "colorbar": {
              "outlinewidth": 0,
              "ticks": ""
             }
            },
            "type": "scattermapbox"
           }
          ],
          "scatterpolar": [
           {
            "marker": {
             "colorbar": {
              "outlinewidth": 0,
              "ticks": ""
             }
            },
            "type": "scatterpolar"
           }
          ],
          "scatterpolargl": [
           {
            "marker": {
             "colorbar": {
              "outlinewidth": 0,
              "ticks": ""
             }
            },
            "type": "scatterpolargl"
           }
          ],
          "scatterternary": [
           {
            "marker": {
             "colorbar": {
              "outlinewidth": 0,
              "ticks": ""
             }
            },
            "type": "scatterternary"
           }
          ],
          "surface": [
           {
            "colorbar": {
             "outlinewidth": 0,
             "ticks": ""
            },
            "colorscale": [
             [
              0,
              "#0d0887"
             ],
             [
              0.1111111111111111,
              "#46039f"
             ],
             [
              0.2222222222222222,
              "#7201a8"
             ],
             [
              0.3333333333333333,
              "#9c179e"
             ],
             [
              0.4444444444444444,
              "#bd3786"
             ],
             [
              0.5555555555555556,
              "#d8576b"
             ],
             [
              0.6666666666666666,
              "#ed7953"
             ],
             [
              0.7777777777777778,
              "#fb9f3a"
             ],
             [
              0.8888888888888888,
              "#fdca26"
             ],
             [
              1,
              "#f0f921"
             ]
            ],
            "type": "surface"
           }
          ],
          "table": [
           {
            "cells": {
             "fill": {
              "color": "#EBF0F8"
             },
             "line": {
              "color": "white"
             }
            },
            "header": {
             "fill": {
              "color": "#C8D4E3"
             },
             "line": {
              "color": "white"
             }
            },
            "type": "table"
           }
          ]
         },
         "layout": {
          "annotationdefaults": {
           "arrowcolor": "#2a3f5f",
           "arrowhead": 0,
           "arrowwidth": 1
          },
          "coloraxis": {
           "colorbar": {
            "outlinewidth": 0,
            "ticks": ""
           }
          },
          "colorscale": {
           "diverging": [
            [
             0,
             "#8e0152"
            ],
            [
             0.1,
             "#c51b7d"
            ],
            [
             0.2,
             "#de77ae"
            ],
            [
             0.3,
             "#f1b6da"
            ],
            [
             0.4,
             "#fde0ef"
            ],
            [
             0.5,
             "#f7f7f7"
            ],
            [
             0.6,
             "#e6f5d0"
            ],
            [
             0.7,
             "#b8e186"
            ],
            [
             0.8,
             "#7fbc41"
            ],
            [
             0.9,
             "#4d9221"
            ],
            [
             1,
             "#276419"
            ]
           ],
           "sequential": [
            [
             0,
             "#0d0887"
            ],
            [
             0.1111111111111111,
             "#46039f"
            ],
            [
             0.2222222222222222,
             "#7201a8"
            ],
            [
             0.3333333333333333,
             "#9c179e"
            ],
            [
             0.4444444444444444,
             "#bd3786"
            ],
            [
             0.5555555555555556,
             "#d8576b"
            ],
            [
             0.6666666666666666,
             "#ed7953"
            ],
            [
             0.7777777777777778,
             "#fb9f3a"
            ],
            [
             0.8888888888888888,
             "#fdca26"
            ],
            [
             1,
             "#f0f921"
            ]
           ],
           "sequentialminus": [
            [
             0,
             "#0d0887"
            ],
            [
             0.1111111111111111,
             "#46039f"
            ],
            [
             0.2222222222222222,
             "#7201a8"
            ],
            [
             0.3333333333333333,
             "#9c179e"
            ],
            [
             0.4444444444444444,
             "#bd3786"
            ],
            [
             0.5555555555555556,
             "#d8576b"
            ],
            [
             0.6666666666666666,
             "#ed7953"
            ],
            [
             0.7777777777777778,
             "#fb9f3a"
            ],
            [
             0.8888888888888888,
             "#fdca26"
            ],
            [
             1,
             "#f0f921"
            ]
           ]
          },
          "colorway": [
           "#636efa",
           "#EF553B",
           "#00cc96",
           "#ab63fa",
           "#FFA15A",
           "#19d3f3",
           "#FF6692",
           "#B6E880",
           "#FF97FF",
           "#FECB52"
          ],
          "font": {
           "color": "#2a3f5f"
          },
          "geo": {
           "bgcolor": "white",
           "lakecolor": "white",
           "landcolor": "#E5ECF6",
           "showlakes": true,
           "showland": true,
           "subunitcolor": "white"
          },
          "hoverlabel": {
           "align": "left"
          },
          "hovermode": "closest",
          "mapbox": {
           "style": "light"
          },
          "paper_bgcolor": "white",
          "plot_bgcolor": "#E5ECF6",
          "polar": {
           "angularaxis": {
            "gridcolor": "white",
            "linecolor": "white",
            "ticks": ""
           },
           "bgcolor": "#E5ECF6",
           "radialaxis": {
            "gridcolor": "white",
            "linecolor": "white",
            "ticks": ""
           }
          },
          "scene": {
           "xaxis": {
            "backgroundcolor": "#E5ECF6",
            "gridcolor": "white",
            "gridwidth": 2,
            "linecolor": "white",
            "showbackground": true,
            "ticks": "",
            "zerolinecolor": "white"
           },
           "yaxis": {
            "backgroundcolor": "#E5ECF6",
            "gridcolor": "white",
            "gridwidth": 2,
            "linecolor": "white",
            "showbackground": true,
            "ticks": "",
            "zerolinecolor": "white"
           },
           "zaxis": {
            "backgroundcolor": "#E5ECF6",
            "gridcolor": "white",
            "gridwidth": 2,
            "linecolor": "white",
            "showbackground": true,
            "ticks": "",
            "zerolinecolor": "white"
           }
          },
          "shapedefaults": {
           "line": {
            "color": "#2a3f5f"
           }
          },
          "ternary": {
           "aaxis": {
            "gridcolor": "white",
            "linecolor": "white",
            "ticks": ""
           },
           "baxis": {
            "gridcolor": "white",
            "linecolor": "white",
            "ticks": ""
           },
           "bgcolor": "#E5ECF6",
           "caxis": {
            "gridcolor": "white",
            "linecolor": "white",
            "ticks": ""
           }
          },
          "title": {
           "x": 0.05
          },
          "xaxis": {
           "automargin": true,
           "gridcolor": "white",
           "linecolor": "white",
           "ticks": "",
           "title": {
            "standoff": 15
           },
           "zerolinecolor": "white",
           "zerolinewidth": 2
          },
          "yaxis": {
           "automargin": true,
           "gridcolor": "white",
           "linecolor": "white",
           "ticks": "",
           "title": {
            "standoff": 15
           },
           "zerolinecolor": "white",
           "zerolinewidth": 2
          }
         }
        },
        "title": {
         "font": {
          "color": "#4D5663"
         },
         "text": "Bugs per Customer"
        },
        "xaxis": {
         "gridcolor": "#E1E5ED",
         "showgrid": true,
         "tickfont": {
          "color": "#4D5663"
         },
         "title": {
          "font": {
           "color": "#4D5663"
          },
          "text": "Date and Customer_id"
         },
         "zerolinecolor": "#E1E5ED"
        },
        "yaxis": {
         "gridcolor": "#E1E5ED",
         "showgrid": true,
         "tickfont": {
          "color": "#4D5663"
         },
         "title": {
          "font": {
           "color": "#4D5663"
          },
          "text": "Bugs"
         },
         "zerolinecolor": "#E1E5ED"
        }
       }
      },
      "text/html": [
       "<div>\n",
       "        \n",
       "        \n",
       "            <div id=\"a3747085-ca73-4a04-9448-d7c6ff2045bf\" class=\"plotly-graph-div\" style=\"height:525px; width:100%;\"></div>\n",
       "            <script type=\"text/javascript\">\n",
       "                require([\"plotly\"], function(Plotly) {\n",
       "                    window.PLOTLYENV=window.PLOTLYENV || {};\n",
       "                    window.PLOTLYENV.BASE_URL='https://plot.ly';\n",
       "                    \n",
       "                if (document.getElementById(\"a3747085-ca73-4a04-9448-d7c6ff2045bf\")) {\n",
       "                    Plotly.newPlot(\n",
       "                        'a3747085-ca73-4a04-9448-d7c6ff2045bf',\n",
       "                        [{\"line\": {\"color\": \"rgba(255, 153, 51, 1.0)\", \"dash\": \"solid\", \"shape\": \"linear\", \"width\": 1.3}, \"mode\": \"lines\", \"name\": \"bugs_in_session\", \"text\": \"\", \"type\": \"scatter\", \"x\": [\"(2019-10-01 00:00:00,14354)\", \"(2019-10-01 00:00:00,23083)\", \"(2019-10-01 00:00:00,29375)\", \"(2019-10-01 00:00:00,38459)\", \"(2019-10-01 00:00:00,40572)\", \"(2019-10-01 00:00:00,43096)\", \"(2019-10-01 00:00:00,51243)\", \"(2019-10-01 00:00:00,80746)\", \"(2019-10-01 00:00:00,87323)\", \"(2019-10-02 00:00:00,12407)\", \"(2019-10-02 00:00:00,40572)\", \"(2019-10-02 00:00:00,43658)\", \"(2019-10-02 00:00:00,82963)\", \"(2019-10-02 00:00:00,87323)\", \"(2019-10-03 00:00:00,14354)\", \"(2019-10-03 00:00:00,23404)\", \"(2019-10-03 00:00:00,29375)\", \"(2019-10-03 00:00:00,40235)\", \"(2019-10-03 00:00:00,73245)\", \"(2019-10-03 00:00:00,87323)\", \"(2019-10-03 00:00:00,96254)\", \"(2019-10-04 00:00:00,12940)\", \"(2019-10-04 00:00:00,14354)\", \"(2019-10-04 00:00:00,23404)\", \"(2019-10-04 00:00:00,29375)\", \"(2019-10-04 00:00:00,38459)\", \"(2019-10-04 00:00:00,43086)\", \"(2019-10-04 00:00:00,73245)\", \"(2019-10-05 00:00:00,12940)\", \"(2019-10-05 00:00:00,14354)\", \"(2019-10-05 00:00:00,23404)\", \"(2019-10-05 00:00:00,29375)\", \"(2019-10-05 00:00:00,38459)\", \"(2019-10-05 00:00:00,40235)\", \"(2019-10-05 00:00:00,40572)\", \"(2019-10-05 00:00:00,43086)\", \"(2019-10-05 00:00:00,68754)\", \"(2019-10-05 00:00:00,87323)\", \"(2019-10-05 00:00:00,96254)\", \"(2019-10-06 00:00:00,10246)\", \"(2019-10-06 00:00:00,20548)\", \"(2019-10-06 00:00:00,23579)\", \"(2019-10-06 00:00:00,38459)\", \"(2019-10-06 00:00:00,43549)\", \"(2019-10-06 00:00:00,73524)\", \"(2019-10-06 00:00:00,76530)\", \"(2019-10-06 00:00:00,87265)\", \"(2019-10-06 00:00:00,92736)\", \"(2019-10-06 00:00:00,93464)\", \"(2019-10-06 00:00:00,98653)\", \"(2019-10-07 00:00:00,19348)\", \"(2019-10-07 00:00:00,23548)\", \"(2019-10-07 00:00:00,23579)\", \"(2019-10-07 00:00:00,29356)\", \"(2019-10-07 00:00:00,29375)\", \"(2019-10-07 00:00:00,38459)\", \"(2019-10-07 00:00:00,43086)\", \"(2019-10-07 00:00:00,93486)\", \"(2019-10-07 00:00:00,96254)\", \"(2019-10-07 00:00:00,98346)\", \"(2019-10-08 00:00:00,12940)\", \"(2019-10-08 00:00:00,34574)\", \"(2019-10-08 00:00:00,43057)\", \"(2019-10-08 00:00:00,43549)\", \"(2019-10-08 00:00:00,73524)\", \"(2019-10-08 00:00:00,87265)\", \"(2019-10-08 00:00:00,87323)\", \"(2019-10-08 00:00:00,93464)\", \"(2019-10-09 00:00:00,14354)\", \"(2019-10-09 00:00:00,23404)\", \"(2019-10-09 00:00:00,29356)\", \"(2019-10-09 00:00:00,29375)\", \"(2019-10-09 00:00:00,40235)\", \"(2019-10-09 00:00:00,40572)\", \"(2019-10-09 00:00:00,73245)\", \"(2019-10-09 00:00:00,80746)\", \"(2019-10-10 00:00:00,12496)\", \"(2019-10-10 00:00:00,23404)\", \"(2019-10-10 00:00:00,23579)\", \"(2019-10-10 00:00:00,34574)\", \"(2019-10-10 00:00:00,40235)\", \"(2019-10-10 00:00:00,43057)\", \"(2019-10-10 00:00:00,43549)\", \"(2019-10-10 00:00:00,73245)\", \"(2019-10-10 00:00:00,73524)\", \"(2019-10-10 00:00:00,87265)\", \"(2019-10-10 00:00:00,93464)\", \"(2019-10-11 00:00:00,14354)\", \"(2019-10-11 00:00:00,23083)\", \"(2019-10-11 00:00:00,23404)\", \"(2019-10-11 00:00:00,23579)\", \"(2019-10-11 00:00:00,29375)\", \"(2019-10-11 00:00:00,34574)\", \"(2019-10-11 00:00:00,40235)\", \"(2019-10-11 00:00:00,40572)\", \"(2019-10-11 00:00:00,73245)\", \"(2019-10-11 00:00:00,87265)\", \"(2019-10-11 00:00:00,87323)\", \"(2019-10-12 00:00:00,14354)\", \"(2019-10-12 00:00:00,23083)\", \"(2019-10-12 00:00:00,23985)\", \"(2019-10-12 00:00:00,29375)\", \"(2019-10-12 00:00:00,38459)\", \"(2019-10-12 00:00:00,40572)\", \"(2019-10-12 00:00:00,51243)\", \"(2019-10-13 00:00:00,14354)\", \"(2019-10-13 00:00:00,23083)\", \"(2019-10-13 00:00:00,23985)\", \"(2019-10-13 00:00:00,29375)\", \"(2019-10-13 00:00:00,38459)\", \"(2019-10-13 00:00:00,40572)\", \"(2019-10-13 00:00:00,51243)\", \"(2019-10-13 00:00:00,80746)\", \"(2019-10-13 00:00:00,93464)\", \"(2019-10-13 00:00:00,98476)\", \"(2019-10-14 00:00:00,12940)\", \"(2019-10-14 00:00:00,38459)\", \"(2019-10-14 00:00:00,43086)\", \"(2019-10-15 00:00:00,10246)\", \"(2019-10-15 00:00:00,12496)\", \"(2019-10-15 00:00:00,14354)\", \"(2019-10-15 00:00:00,23404)\", \"(2019-10-15 00:00:00,23457)\", \"(2019-10-15 00:00:00,23579)\", \"(2019-10-15 00:00:00,23596)\", \"(2019-10-15 00:00:00,29356)\", \"(2019-10-15 00:00:00,29375)\", \"(2019-10-15 00:00:00,38459)\", \"(2019-10-15 00:00:00,40235)\", \"(2019-10-15 00:00:00,87323)\", \"(2019-10-15 00:00:00,98653)\", \"(2019-10-16 00:00:00,23083)\", \"(2019-10-16 00:00:00,40572)\", \"(2019-10-16 00:00:00,51243)\", \"(2019-10-16 00:00:00,87323)\", \"(2019-10-17 00:00:00,12407)\", \"(2019-10-17 00:00:00,19374)\", \"(2019-10-17 00:00:00,29345)\", \"(2019-10-17 00:00:00,29375)\", \"(2019-10-17 00:00:00,73245)\", \"(2019-10-18 00:00:00,12407)\", \"(2019-10-18 00:00:00,12496)\", \"(2019-10-18 00:00:00,23404)\", \"(2019-10-18 00:00:00,23985)\", \"(2019-10-18 00:00:00,34574)\", \"(2019-10-18 00:00:00,43057)\", \"(2019-10-18 00:00:00,43549)\", \"(2019-10-18 00:00:00,46329)\", \"(2019-10-18 00:00:00,73524)\", \"(2019-10-18 00:00:00,87265)\", \"(2019-10-19 00:00:00,12407)\", \"(2019-10-19 00:00:00,23404)\", \"(2019-10-19 00:00:00,23985)\", \"(2019-10-19 00:00:00,29375)\", \"(2019-10-19 00:00:00,38459)\", \"(2019-10-19 00:00:00,39475)\", \"(2019-10-19 00:00:00,40572)\", \"(2019-10-19 00:00:00,43549)\", \"(2019-10-19 00:00:00,51243)\", \"(2019-10-19 00:00:00,73245)\", \"(2019-10-19 00:00:00,87323)\", \"(2019-10-20 00:00:00,12407)\", \"(2019-10-20 00:00:00,23083)\", \"(2019-10-20 00:00:00,29356)\", \"(2019-10-20 00:00:00,29375)\", \"(2019-10-20 00:00:00,34574)\", \"(2019-10-20 00:00:00,51243)\", \"(2019-10-20 00:00:00,73524)\", \"(2019-10-20 00:00:00,87265)\", \"(2019-10-20 00:00:00,87323)\", \"(2019-10-20 00:00:00,96254)\", \"(2019-10-20 00:00:00,98653)\", \"(2019-10-21 00:00:00,10246)\", \"(2019-10-21 00:00:00,23404)\", \"(2019-10-21 00:00:00,23985)\", \"(2019-10-21 00:00:00,32047)\", \"(2019-10-21 00:00:00,33496)\", \"(2019-10-21 00:00:00,40235)\", \"(2019-10-21 00:00:00,73245)\", \"(2019-10-21 00:00:00,87323)\", \"(2019-10-21 00:00:00,98653)\", \"(2019-10-22 00:00:00,12407)\", \"(2019-10-22 00:00:00,14354)\", \"(2019-10-22 00:00:00,23083)\", \"(2019-10-22 00:00:00,23404)\", \"(2019-10-22 00:00:00,24520)\", \"(2019-10-22 00:00:00,29356)\", \"(2019-10-22 00:00:00,29375)\", \"(2019-10-22 00:00:00,32047)\", \"(2019-10-22 00:00:00,38459)\", \"(2019-10-22 00:00:00,40235)\", \"(2019-10-22 00:00:00,51243)\", \"(2019-10-23 00:00:00,34574)\", \"(2019-10-23 00:00:00,39475)\", \"(2019-10-23 00:00:00,73524)\", \"(2019-10-23 00:00:00,87265)\", \"(2019-10-24 00:00:00,12496)\", \"(2019-10-24 00:00:00,23083)\", \"(2019-10-24 00:00:00,23985)\", \"(2019-10-24 00:00:00,38459)\", \"(2019-10-24 00:00:00,39475)\", \"(2019-10-24 00:00:00,43057)\", \"(2019-10-24 00:00:00,43549)\", \"(2019-10-24 00:00:00,51243)\", \"(2019-10-24 00:00:00,73524)\", \"(2019-10-24 00:00:00,87265)\", \"(2019-10-24 00:00:00,87323)\", \"(2019-10-25 00:00:00,14354)\", \"(2019-10-25 00:00:00,29356)\", \"(2019-10-25 00:00:00,40235)\", \"(2019-10-25 00:00:00,40572)\", \"(2019-10-25 00:00:00,73245)\", \"(2019-10-25 00:00:00,98653)\", \"(2019-10-26 00:00:00,12407)\", \"(2019-10-26 00:00:00,23083)\", \"(2019-10-26 00:00:00,23404)\", \"(2019-10-26 00:00:00,23985)\", \"(2019-10-26 00:00:00,32047)\", \"(2019-10-26 00:00:00,34574)\", \"(2019-10-26 00:00:00,38459)\", \"(2019-10-26 00:00:00,40235)\", \"(2019-10-26 00:00:00,40572)\", \"(2019-10-26 00:00:00,51243)\", \"(2019-10-26 00:00:00,73245)\", \"(2019-10-26 00:00:00,87265)\", \"(2019-10-26 00:00:00,87323)\", \"(2019-10-26 00:00:00,96254)\", \"(2019-10-27 00:00:00,14354)\", \"(2019-10-27 00:00:00,23404)\", \"(2019-10-27 00:00:00,29375)\", \"(2019-10-27 00:00:00,40235)\", \"(2019-10-27 00:00:00,40572)\", \"(2019-10-27 00:00:00,87265)\", \"(2019-10-27 00:00:00,87323)\", \"(2019-10-28 00:00:00,12496)\", \"(2019-10-28 00:00:00,14354)\", \"(2019-10-28 00:00:00,23985)\", \"(2019-10-28 00:00:00,39475)\", \"(2019-10-28 00:00:00,40572)\", \"(2019-10-28 00:00:00,43057)\", \"(2019-10-28 00:00:00,43549)\", \"(2019-10-28 00:00:00,51243)\", \"(2019-10-28 00:00:00,73524)\", \"(2019-10-28 00:00:00,87323)\", \"(2019-10-29 00:00:00,23083)\", \"(2019-10-29 00:00:00,23404)\", \"(2019-10-29 00:00:00,38459)\", \"(2019-10-29 00:00:00,40572)\", \"(2019-10-29 00:00:00,51243)\", \"(2019-10-29 00:00:00,87323)\", \"(2019-10-29 00:00:00,98653)\", \"(2019-10-30 00:00:00,12407)\", \"(2019-10-30 00:00:00,23404)\", \"(2019-10-30 00:00:00,24520)\", \"(2019-10-30 00:00:00,29375)\", \"(2019-10-30 00:00:00,32047)\", \"(2019-10-30 00:00:00,40235)\", \"(2019-10-30 00:00:00,40572)\", \"(2019-10-30 00:00:00,73245)\", \"(2019-10-30 00:00:00,80746)\"], \"y\": [0.0, 0.0, 0.0, 0.0, 0.0, 0.0, 0.0, 0.0, 0.0, 0.0, 2.0, 0.0, 0.0, 0.0, 3.0, 10.0, 3.0, 0.0, 0.0, 4.0, 0.0, 0.0, 2.0, 0.0, 0.0, 0.0, 0.0, 0.0, 0.0, 0.0, 2.0, 0.0, 0.0, 5.0, 0.0, 0.0, 0.0, 0.0, 0.0, 2.0, 1.0, 0.0, 4.0, 2.0, 0.0, 2.0, 0.0, 4.0, 0.0, 0.0, 0.0, 0.0, 0.0, 5.0, 3.0, 0.0, 5.0, 0.0, 0.0, 5.0, 3.0, 3.0, 2.0, 0.0, 3.0, 2.0, 1.0, 4.0, 0.0, 0.0, 3.0, 0.0, 4.0, 3.0, 8.0, 4.0, 0.0, 3.0, 5.0, 0.0, 0.0, 3.0, 1.0, 4.0, 1.0, 0.0, 2.0, 2.0, 2.0, 1.0, 0.0, 0.0, 0.0, 0.0, 0.0, 5.0, 4.0, 0.0, 0.0, 4.0, 0.0, 3.0, 0.0, 4.0, 0.0, 4.0, 1.0, 5.0, 2.0, 4.0, 5.0, 0.0, 4.0, 0.0, 0.0, 0.0, 0.0, 0.0, 0.0, 4.0, 0.0, 0.0, 0.0, 0.0, 0.0, 0.0, 0.0, 4.0, 0.0, 0.0, 3.0, 0.0, 0.0, 0.0, 0.0, 0.0, 0.0, 0.0, 2.0, 0.0, 0.0, 0.0, 3.0, 0.0, 0.0, 0.0, 0.0, 0.0, 0.0, 0.0, 0.0, 0.0, 0.0, 4.0, 0.0, 4.0, 0.0, 0.0, 0.0, 2.0, 4.0, 3.0, 4.0, 3.0, 4.0, 4.0, 1.0, 2.0, 4.0, 5.0, 5.0, 0.0, 7.0, 0.0, 0.0, 0.0, 0.0, 2.0, 1.0, 5.0, 2.0, 0.0, 4.0, 3.0, 4.0, 5.0, 0.0, 5.0, 0.0, 3.0, 0.0, 5.0, 2.0, 5.0, 0.0, 0.0, 0.0, 0.0, 0.0, 0.0, 5.0, 2.0, 1.0, 0.0, 3.0, 0.0, 0.0, 0.0, 0.0, 0.0, 0.0, 0.0, 0.0, 3.0, 2.0, 5.0, 3.0, 0.0, 2.0, 0.0, 5.0, 8.0, 8.0, 0.0, 0.0, 2.0, 5.0, 0.0, 5.0, 0.0, 3.0, 3.0, 2.0, 2.0, 0.0, 0.0, 0.0, 0.0, 0.0, 1.0, 3.0, 0.0, 0.0, 2.0, 0.0, 0.0, 0.0, 0.0, 0.0, 0.0, 0.0, 0.0, 0.0, 0.0, 0.0, 0.0, 0.0, 0.0, 4.0, 0.0]}],\n",
       "                        {\"legend\": {\"bgcolor\": \"#F5F6F9\", \"font\": {\"color\": \"#4D5663\"}}, \"paper_bgcolor\": \"#F5F6F9\", \"plot_bgcolor\": \"#F5F6F9\", \"template\": {\"data\": {\"bar\": [{\"error_x\": {\"color\": \"#2a3f5f\"}, \"error_y\": {\"color\": \"#2a3f5f\"}, \"marker\": {\"line\": {\"color\": \"#E5ECF6\", \"width\": 0.5}}, \"type\": \"bar\"}], \"barpolar\": [{\"marker\": {\"line\": {\"color\": \"#E5ECF6\", \"width\": 0.5}}, \"type\": \"barpolar\"}], \"carpet\": [{\"aaxis\": {\"endlinecolor\": \"#2a3f5f\", \"gridcolor\": \"white\", \"linecolor\": \"white\", \"minorgridcolor\": \"white\", \"startlinecolor\": \"#2a3f5f\"}, \"baxis\": {\"endlinecolor\": \"#2a3f5f\", \"gridcolor\": \"white\", \"linecolor\": \"white\", \"minorgridcolor\": \"white\", \"startlinecolor\": \"#2a3f5f\"}, \"type\": \"carpet\"}], \"choropleth\": [{\"colorbar\": {\"outlinewidth\": 0, \"ticks\": \"\"}, \"type\": \"choropleth\"}], \"contour\": [{\"colorbar\": {\"outlinewidth\": 0, \"ticks\": \"\"}, \"colorscale\": [[0.0, \"#0d0887\"], [0.1111111111111111, \"#46039f\"], [0.2222222222222222, \"#7201a8\"], [0.3333333333333333, \"#9c179e\"], [0.4444444444444444, \"#bd3786\"], [0.5555555555555556, \"#d8576b\"], [0.6666666666666666, \"#ed7953\"], [0.7777777777777778, \"#fb9f3a\"], [0.8888888888888888, \"#fdca26\"], [1.0, \"#f0f921\"]], \"type\": \"contour\"}], \"contourcarpet\": [{\"colorbar\": {\"outlinewidth\": 0, \"ticks\": \"\"}, \"type\": \"contourcarpet\"}], \"heatmap\": [{\"colorbar\": {\"outlinewidth\": 0, \"ticks\": \"\"}, \"colorscale\": [[0.0, \"#0d0887\"], [0.1111111111111111, \"#46039f\"], [0.2222222222222222, \"#7201a8\"], [0.3333333333333333, \"#9c179e\"], [0.4444444444444444, \"#bd3786\"], [0.5555555555555556, \"#d8576b\"], [0.6666666666666666, \"#ed7953\"], [0.7777777777777778, \"#fb9f3a\"], [0.8888888888888888, \"#fdca26\"], [1.0, \"#f0f921\"]], \"type\": \"heatmap\"}], \"heatmapgl\": [{\"colorbar\": {\"outlinewidth\": 0, \"ticks\": \"\"}, \"colorscale\": [[0.0, \"#0d0887\"], [0.1111111111111111, \"#46039f\"], [0.2222222222222222, \"#7201a8\"], [0.3333333333333333, \"#9c179e\"], [0.4444444444444444, \"#bd3786\"], [0.5555555555555556, \"#d8576b\"], [0.6666666666666666, \"#ed7953\"], [0.7777777777777778, \"#fb9f3a\"], [0.8888888888888888, \"#fdca26\"], [1.0, \"#f0f921\"]], \"type\": \"heatmapgl\"}], \"histogram\": [{\"marker\": {\"colorbar\": {\"outlinewidth\": 0, \"ticks\": \"\"}}, \"type\": \"histogram\"}], \"histogram2d\": [{\"colorbar\": {\"outlinewidth\": 0, \"ticks\": \"\"}, \"colorscale\": [[0.0, \"#0d0887\"], [0.1111111111111111, \"#46039f\"], [0.2222222222222222, \"#7201a8\"], [0.3333333333333333, \"#9c179e\"], [0.4444444444444444, \"#bd3786\"], [0.5555555555555556, \"#d8576b\"], [0.6666666666666666, \"#ed7953\"], [0.7777777777777778, \"#fb9f3a\"], [0.8888888888888888, \"#fdca26\"], [1.0, \"#f0f921\"]], \"type\": \"histogram2d\"}], \"histogram2dcontour\": [{\"colorbar\": {\"outlinewidth\": 0, \"ticks\": \"\"}, \"colorscale\": [[0.0, \"#0d0887\"], [0.1111111111111111, \"#46039f\"], [0.2222222222222222, \"#7201a8\"], [0.3333333333333333, \"#9c179e\"], [0.4444444444444444, \"#bd3786\"], [0.5555555555555556, \"#d8576b\"], [0.6666666666666666, \"#ed7953\"], [0.7777777777777778, \"#fb9f3a\"], [0.8888888888888888, \"#fdca26\"], [1.0, \"#f0f921\"]], \"type\": \"histogram2dcontour\"}], \"mesh3d\": [{\"colorbar\": {\"outlinewidth\": 0, \"ticks\": \"\"}, \"type\": \"mesh3d\"}], \"parcoords\": [{\"line\": {\"colorbar\": {\"outlinewidth\": 0, \"ticks\": \"\"}}, \"type\": \"parcoords\"}], \"pie\": [{\"automargin\": true, \"type\": \"pie\"}], \"scatter\": [{\"marker\": {\"colorbar\": {\"outlinewidth\": 0, \"ticks\": \"\"}}, \"type\": \"scatter\"}], \"scatter3d\": [{\"line\": {\"colorbar\": {\"outlinewidth\": 0, \"ticks\": \"\"}}, \"marker\": {\"colorbar\": {\"outlinewidth\": 0, \"ticks\": \"\"}}, \"type\": \"scatter3d\"}], \"scattercarpet\": [{\"marker\": {\"colorbar\": {\"outlinewidth\": 0, \"ticks\": \"\"}}, \"type\": \"scattercarpet\"}], \"scattergeo\": [{\"marker\": {\"colorbar\": {\"outlinewidth\": 0, \"ticks\": \"\"}}, \"type\": \"scattergeo\"}], \"scattergl\": [{\"marker\": {\"colorbar\": {\"outlinewidth\": 0, \"ticks\": \"\"}}, \"type\": \"scattergl\"}], \"scattermapbox\": [{\"marker\": {\"colorbar\": {\"outlinewidth\": 0, \"ticks\": \"\"}}, \"type\": \"scattermapbox\"}], \"scatterpolar\": [{\"marker\": {\"colorbar\": {\"outlinewidth\": 0, \"ticks\": \"\"}}, \"type\": \"scatterpolar\"}], \"scatterpolargl\": [{\"marker\": {\"colorbar\": {\"outlinewidth\": 0, \"ticks\": \"\"}}, \"type\": \"scatterpolargl\"}], \"scatterternary\": [{\"marker\": {\"colorbar\": {\"outlinewidth\": 0, \"ticks\": \"\"}}, \"type\": \"scatterternary\"}], \"surface\": [{\"colorbar\": {\"outlinewidth\": 0, \"ticks\": \"\"}, \"colorscale\": [[0.0, \"#0d0887\"], [0.1111111111111111, \"#46039f\"], [0.2222222222222222, \"#7201a8\"], [0.3333333333333333, \"#9c179e\"], [0.4444444444444444, \"#bd3786\"], [0.5555555555555556, \"#d8576b\"], [0.6666666666666666, \"#ed7953\"], [0.7777777777777778, \"#fb9f3a\"], [0.8888888888888888, \"#fdca26\"], [1.0, \"#f0f921\"]], \"type\": \"surface\"}], \"table\": [{\"cells\": {\"fill\": {\"color\": \"#EBF0F8\"}, \"line\": {\"color\": \"white\"}}, \"header\": {\"fill\": {\"color\": \"#C8D4E3\"}, \"line\": {\"color\": \"white\"}}, \"type\": \"table\"}]}, \"layout\": {\"annotationdefaults\": {\"arrowcolor\": \"#2a3f5f\", \"arrowhead\": 0, \"arrowwidth\": 1}, \"coloraxis\": {\"colorbar\": {\"outlinewidth\": 0, \"ticks\": \"\"}}, \"colorscale\": {\"diverging\": [[0, \"#8e0152\"], [0.1, \"#c51b7d\"], [0.2, \"#de77ae\"], [0.3, \"#f1b6da\"], [0.4, \"#fde0ef\"], [0.5, \"#f7f7f7\"], [0.6, \"#e6f5d0\"], [0.7, \"#b8e186\"], [0.8, \"#7fbc41\"], [0.9, \"#4d9221\"], [1, \"#276419\"]], \"sequential\": [[0.0, \"#0d0887\"], [0.1111111111111111, \"#46039f\"], [0.2222222222222222, \"#7201a8\"], [0.3333333333333333, \"#9c179e\"], [0.4444444444444444, \"#bd3786\"], [0.5555555555555556, \"#d8576b\"], [0.6666666666666666, \"#ed7953\"], [0.7777777777777778, \"#fb9f3a\"], [0.8888888888888888, \"#fdca26\"], [1.0, \"#f0f921\"]], \"sequentialminus\": [[0.0, \"#0d0887\"], [0.1111111111111111, \"#46039f\"], [0.2222222222222222, \"#7201a8\"], [0.3333333333333333, \"#9c179e\"], [0.4444444444444444, \"#bd3786\"], [0.5555555555555556, \"#d8576b\"], [0.6666666666666666, \"#ed7953\"], [0.7777777777777778, \"#fb9f3a\"], [0.8888888888888888, \"#fdca26\"], [1.0, \"#f0f921\"]]}, \"colorway\": [\"#636efa\", \"#EF553B\", \"#00cc96\", \"#ab63fa\", \"#FFA15A\", \"#19d3f3\", \"#FF6692\", \"#B6E880\", \"#FF97FF\", \"#FECB52\"], \"font\": {\"color\": \"#2a3f5f\"}, \"geo\": {\"bgcolor\": \"white\", \"lakecolor\": \"white\", \"landcolor\": \"#E5ECF6\", \"showlakes\": true, \"showland\": true, \"subunitcolor\": \"white\"}, \"hoverlabel\": {\"align\": \"left\"}, \"hovermode\": \"closest\", \"mapbox\": {\"style\": \"light\"}, \"paper_bgcolor\": \"white\", \"plot_bgcolor\": \"#E5ECF6\", \"polar\": {\"angularaxis\": {\"gridcolor\": \"white\", \"linecolor\": \"white\", \"ticks\": \"\"}, \"bgcolor\": \"#E5ECF6\", \"radialaxis\": {\"gridcolor\": \"white\", \"linecolor\": \"white\", \"ticks\": \"\"}}, \"scene\": {\"xaxis\": {\"backgroundcolor\": \"#E5ECF6\", \"gridcolor\": \"white\", \"gridwidth\": 2, \"linecolor\": \"white\", \"showbackground\": true, \"ticks\": \"\", \"zerolinecolor\": \"white\"}, \"yaxis\": {\"backgroundcolor\": \"#E5ECF6\", \"gridcolor\": \"white\", \"gridwidth\": 2, \"linecolor\": \"white\", \"showbackground\": true, \"ticks\": \"\", \"zerolinecolor\": \"white\"}, \"zaxis\": {\"backgroundcolor\": \"#E5ECF6\", \"gridcolor\": \"white\", \"gridwidth\": 2, \"linecolor\": \"white\", \"showbackground\": true, \"ticks\": \"\", \"zerolinecolor\": \"white\"}}, \"shapedefaults\": {\"line\": {\"color\": \"#2a3f5f\"}}, \"ternary\": {\"aaxis\": {\"gridcolor\": \"white\", \"linecolor\": \"white\", \"ticks\": \"\"}, \"baxis\": {\"gridcolor\": \"white\", \"linecolor\": \"white\", \"ticks\": \"\"}, \"bgcolor\": \"#E5ECF6\", \"caxis\": {\"gridcolor\": \"white\", \"linecolor\": \"white\", \"ticks\": \"\"}}, \"title\": {\"x\": 0.05}, \"xaxis\": {\"automargin\": true, \"gridcolor\": \"white\", \"linecolor\": \"white\", \"ticks\": \"\", \"title\": {\"standoff\": 15}, \"zerolinecolor\": \"white\", \"zerolinewidth\": 2}, \"yaxis\": {\"automargin\": true, \"gridcolor\": \"white\", \"linecolor\": \"white\", \"ticks\": \"\", \"title\": {\"standoff\": 15}, \"zerolinecolor\": \"white\", \"zerolinewidth\": 2}}}, \"title\": {\"font\": {\"color\": \"#4D5663\"}, \"text\": \"Bugs per Customer\"}, \"xaxis\": {\"gridcolor\": \"#E1E5ED\", \"showgrid\": true, \"tickfont\": {\"color\": \"#4D5663\"}, \"title\": {\"font\": {\"color\": \"#4D5663\"}, \"text\": \"Date and Customer_id\"}, \"zerolinecolor\": \"#E1E5ED\"}, \"yaxis\": {\"gridcolor\": \"#E1E5ED\", \"showgrid\": true, \"tickfont\": {\"color\": \"#4D5663\"}, \"title\": {\"font\": {\"color\": \"#4D5663\"}, \"text\": \"Bugs\"}, \"zerolinecolor\": \"#E1E5ED\"}},\n",
       "                        {\"showLink\": true, \"linkText\": \"Export to plot.ly\", \"plotlyServerURL\": \"https://plot.ly\", \"responsive\": true}\n",
       "                    ).then(function(){\n",
       "                            \n",
       "var gd = document.getElementById('a3747085-ca73-4a04-9448-d7c6ff2045bf');\n",
       "var x = new MutationObserver(function (mutations, observer) {{\n",
       "        var display = window.getComputedStyle(gd).display;\n",
       "        if (!display || display === 'none') {{\n",
       "            console.log([gd, 'removed!']);\n",
       "            Plotly.purge(gd);\n",
       "            observer.disconnect();\n",
       "        }}\n",
       "}});\n",
       "\n",
       "// Listen for the removal of the full notebook cells\n",
       "var notebookContainer = gd.closest('#notebook-container');\n",
       "if (notebookContainer) {{\n",
       "    x.observe(notebookContainer, {childList: true});\n",
       "}}\n",
       "\n",
       "// Listen for the clearing of the current output cell\n",
       "var outputEl = gd.closest('.output');\n",
       "if (outputEl) {{\n",
       "    x.observe(outputEl, {childList: true});\n",
       "}}\n",
       "\n",
       "                        })\n",
       "                };\n",
       "                });\n",
       "            </script>\n",
       "        </div>"
      ]
     },
     "metadata": {},
     "output_type": "display_data"
    }
   ],
   "source": [
    "#Graph to show bugs encountered by per customer\n",
    "show.groupby(['login_date','customer_id']).sum()['bugs_in_session'].iplot(title='Bugs per Customer', xTitle='Date and Customer_id', yTitle='Bugs')"
   ]
  },
  {
   "cell_type": "code",
   "execution_count": 14,
   "metadata": {},
   "outputs": [
    {
     "data": {
      "application/vnd.plotly.v1+json": {
       "config": {
        "linkText": "Export to plot.ly",
        "plotlyServerURL": "https://plot.ly",
        "showLink": true
       },
       "data": [
        {
         "line": {
          "color": "rgba(255, 153, 51, 1.0)",
          "dash": "solid",
          "shape": "linear",
          "width": 1.3
         },
         "mode": "lines",
         "name": "bugs_in_session",
         "text": "",
         "type": "scatter",
         "x": [
          "(2019-10-01 00:00:00,109787)",
          "(2019-10-01 00:00:00,183387)",
          "(2019-10-01 00:00:00,558332)",
          "(2019-10-01 00:00:00,582997)",
          "(2019-10-01 00:00:00,643880)",
          "(2019-10-01 00:00:00,811956)",
          "(2019-10-01 00:00:00,844518)",
          "(2019-10-01 00:00:00,933954)",
          "(2019-10-01 00:00:00,944212)",
          "(2019-10-02 00:00:00,119299)",
          "(2019-10-02 00:00:00,187302)",
          "(2019-10-02 00:00:00,607914)",
          "(2019-10-02 00:00:00,760757)",
          "(2019-10-02 00:00:00,993956)",
          "(2019-10-03 00:00:00,129065)",
          "(2019-10-03 00:00:00,204865)",
          "(2019-10-03 00:00:00,254033)",
          "(2019-10-03 00:00:00,384830)",
          "(2019-10-03 00:00:00,442331)",
          "(2019-10-03 00:00:00,472912)",
          "(2019-10-03 00:00:00,557880)",
          "(2019-10-03 00:00:00,682794)",
          "(2019-10-03 00:00:00,787162)",
          "(2019-10-03 00:00:00,917614)",
          "(2019-10-04 00:00:00,84701)",
          "(2019-10-04 00:00:00,213972)",
          "(2019-10-04 00:00:00,401728)",
          "(2019-10-04 00:00:00,429587)",
          "(2019-10-04 00:00:00,447031)",
          "(2019-10-04 00:00:00,497529)",
          "(2019-10-04 00:00:00,585849)",
          "(2019-10-04 00:00:00,708187)",
          "(2019-10-04 00:00:00,941882)",
          "(2019-10-05 00:00:00,30840)",
          "(2019-10-05 00:00:00,116296)",
          "(2019-10-05 00:00:00,155334)",
          "(2019-10-05 00:00:00,202421)",
          "(2019-10-05 00:00:00,266445)",
          "(2019-10-05 00:00:00,404553)",
          "(2019-10-05 00:00:00,478264)",
          "(2019-10-05 00:00:00,498699)",
          "(2019-10-05 00:00:00,558290)",
          "(2019-10-05 00:00:00,760339)",
          "(2019-10-05 00:00:00,802454)",
          "(2019-10-05 00:00:00,812441)",
          "(2019-10-05 00:00:00,817608)",
          "(2019-10-05 00:00:00,888691)",
          "(2019-10-06 00:00:00,127132)",
          "(2019-10-06 00:00:00,133256)",
          "(2019-10-06 00:00:00,225470)",
          "(2019-10-06 00:00:00,267667)",
          "(2019-10-06 00:00:00,356244)",
          "(2019-10-06 00:00:00,366662)",
          "(2019-10-06 00:00:00,419580)",
          "(2019-10-06 00:00:00,563300)",
          "(2019-10-06 00:00:00,611819)",
          "(2019-10-06 00:00:00,625573)",
          "(2019-10-06 00:00:00,704918)",
          "(2019-10-06 00:00:00,878079)",
          "(2019-10-07 00:00:00,42216)",
          "(2019-10-07 00:00:00,194870)",
          "(2019-10-07 00:00:00,205332)",
          "(2019-10-07 00:00:00,226978)",
          "(2019-10-07 00:00:00,306564)",
          "(2019-10-07 00:00:00,321330)",
          "(2019-10-07 00:00:00,327733)",
          "(2019-10-07 00:00:00,378958)",
          "(2019-10-07 00:00:00,437487)",
          "(2019-10-07 00:00:00,573862)",
          "(2019-10-07 00:00:00,599260)",
          "(2019-10-07 00:00:00,872877)",
          "(2019-10-07 00:00:00,885351)",
          "(2019-10-08 00:00:00,33604)",
          "(2019-10-08 00:00:00,91201)",
          "(2019-10-08 00:00:00,95038)",
          "(2019-10-08 00:00:00,203676)",
          "(2019-10-08 00:00:00,403473)",
          "(2019-10-08 00:00:00,687916)",
          "(2019-10-08 00:00:00,736353)",
          "(2019-10-08 00:00:00,873781)",
          "(2019-10-09 00:00:00,117013)",
          "(2019-10-09 00:00:00,196926)",
          "(2019-10-09 00:00:00,320716)",
          "(2019-10-09 00:00:00,339010)",
          "(2019-10-09 00:00:00,624736)",
          "(2019-10-09 00:00:00,674512)",
          "(2019-10-09 00:00:00,738680)",
          "(2019-10-09 00:00:00,751775)",
          "(2019-10-09 00:00:00,844006)",
          "(2019-10-09 00:00:00,860219)",
          "(2019-10-10 00:00:00,84773)",
          "(2019-10-10 00:00:00,130428)",
          "(2019-10-10 00:00:00,135112)",
          "(2019-10-10 00:00:00,137925)",
          "(2019-10-10 00:00:00,139965)",
          "(2019-10-10 00:00:00,198765)",
          "(2019-10-10 00:00:00,296502)",
          "(2019-10-10 00:00:00,336050)",
          "(2019-10-10 00:00:00,495864)",
          "(2019-10-10 00:00:00,661082)",
          "(2019-10-10 00:00:00,693392)",
          "(2019-10-10 00:00:00,865938)",
          "(2019-10-10 00:00:00,875307)",
          "(2019-10-10 00:00:00,949140)",
          "(2019-10-11 00:00:00,102067)",
          "(2019-10-11 00:00:00,281083)",
          "(2019-10-11 00:00:00,351540)",
          "(2019-10-11 00:00:00,353787)",
          "(2019-10-11 00:00:00,363747)",
          "(2019-10-11 00:00:00,503539)",
          "(2019-10-11 00:00:00,613808)",
          "(2019-10-11 00:00:00,796561)",
          "(2019-10-11 00:00:00,823096)",
          "(2019-10-11 00:00:00,832306)",
          "(2019-10-11 00:00:00,847651)",
          "(2019-10-11 00:00:00,889677)",
          "(2019-10-11 00:00:00,924434)",
          "(2019-10-11 00:00:00,934455)",
          "(2019-10-12 00:00:00,23570)",
          "(2019-10-12 00:00:00,173919)",
          "(2019-10-12 00:00:00,354260)",
          "(2019-10-12 00:00:00,768035)",
          "(2019-10-12 00:00:00,802529)",
          "(2019-10-12 00:00:00,854618)",
          "(2019-10-12 00:00:00,864133)",
          "(2019-10-12 00:00:00,967732)",
          "(2019-10-13 00:00:00,102797)",
          "(2019-10-13 00:00:00,315117)",
          "(2019-10-13 00:00:00,403173)",
          "(2019-10-13 00:00:00,436046)",
          "(2019-10-13 00:00:00,574792)",
          "(2019-10-13 00:00:00,608120)",
          "(2019-10-13 00:00:00,810196)",
          "(2019-10-13 00:00:00,812596)",
          "(2019-10-13 00:00:00,820853)",
          "(2019-10-13 00:00:00,848857)",
          "(2019-10-13 00:00:00,929826)",
          "(2019-10-14 00:00:00,299736)",
          "(2019-10-14 00:00:00,753352)",
          "(2019-10-14 00:00:00,925195)",
          "(2019-10-15 00:00:00,112122)",
          "(2019-10-15 00:00:00,147762)",
          "(2019-10-15 00:00:00,156847)",
          "(2019-10-15 00:00:00,435292)",
          "(2019-10-15 00:00:00,463600)",
          "(2019-10-15 00:00:00,667092)",
          "(2019-10-15 00:00:00,737055)",
          "(2019-10-15 00:00:00,831607)",
          "(2019-10-15 00:00:00,863765)",
          "(2019-10-15 00:00:00,874387)",
          "(2019-10-15 00:00:00,883587)",
          "(2019-10-15 00:00:00,905141)",
          "(2019-10-15 00:00:00,908409)",
          "(2019-10-15 00:00:00,909692)",
          "(2019-10-16 00:00:00,75447)",
          "(2019-10-16 00:00:00,327628)",
          "(2019-10-16 00:00:00,499349)",
          "(2019-10-16 00:00:00,930932)",
          "(2019-10-17 00:00:00,183728)",
          "(2019-10-17 00:00:00,338681)",
          "(2019-10-17 00:00:00,571482)",
          "(2019-10-17 00:00:00,607530)",
          "(2019-10-17 00:00:00,827919)",
          "(2019-10-18 00:00:00,335787)",
          "(2019-10-18 00:00:00,378951)",
          "(2019-10-18 00:00:00,404381)",
          "(2019-10-18 00:00:00,556990)",
          "(2019-10-18 00:00:00,603309)",
          "(2019-10-18 00:00:00,648313)",
          "(2019-10-18 00:00:00,714532)",
          "(2019-10-18 00:00:00,730001)",
          "(2019-10-18 00:00:00,818991)",
          "(2019-10-18 00:00:00,861318)",
          "(2019-10-18 00:00:00,884372)",
          "(2019-10-19 00:00:00,227463)",
          "(2019-10-19 00:00:00,359949)",
          "(2019-10-19 00:00:00,362752)",
          "(2019-10-19 00:00:00,638118)",
          "(2019-10-19 00:00:00,645526)",
          "(2019-10-19 00:00:00,680314)",
          "(2019-10-19 00:00:00,750732)",
          "(2019-10-19 00:00:00,826119)",
          "(2019-10-19 00:00:00,911453)",
          "(2019-10-19 00:00:00,927067)",
          "(2019-10-19 00:00:00,930216)",
          "(2019-10-20 00:00:00,22885)",
          "(2019-10-20 00:00:00,92563)",
          "(2019-10-20 00:00:00,95512)",
          "(2019-10-20 00:00:00,243101)",
          "(2019-10-20 00:00:00,406687)",
          "(2019-10-20 00:00:00,429305)",
          "(2019-10-20 00:00:00,582793)",
          "(2019-10-20 00:00:00,588443)",
          "(2019-10-20 00:00:00,678215)",
          "(2019-10-20 00:00:00,723982)",
          "(2019-10-20 00:00:00,802947)",
          "(2019-10-20 00:00:00,842373)",
          "(2019-10-21 00:00:00,154251)",
          "(2019-10-21 00:00:00,215590)",
          "(2019-10-21 00:00:00,237454)",
          "(2019-10-21 00:00:00,272981)",
          "(2019-10-21 00:00:00,279710)",
          "(2019-10-21 00:00:00,309288)",
          "(2019-10-21 00:00:00,404931)",
          "(2019-10-21 00:00:00,423899)",
          "(2019-10-21 00:00:00,472472)",
          "(2019-10-21 00:00:00,512614)",
          "(2019-10-21 00:00:00,551993)",
          "(2019-10-21 00:00:00,600035)",
          "(2019-10-21 00:00:00,652067)",
          "(2019-10-21 00:00:00,676493)",
          "(2019-10-21 00:00:00,906093)",
          "(2019-10-22 00:00:00,51859)",
          "(2019-10-22 00:00:00,76000)",
          "(2019-10-22 00:00:00,118687)",
          "(2019-10-22 00:00:00,123453)",
          "(2019-10-22 00:00:00,306852)",
          "(2019-10-22 00:00:00,399130)",
          "(2019-10-22 00:00:00,499101)",
          "(2019-10-22 00:00:00,507059)",
          "(2019-10-22 00:00:00,559242)",
          "(2019-10-22 00:00:00,810798)",
          "(2019-10-22 00:00:00,958269)",
          "(2019-10-23 00:00:00,287401)",
          "(2019-10-23 00:00:00,480779)",
          "(2019-10-23 00:00:00,552796)",
          "(2019-10-23 00:00:00,901324)",
          "(2019-10-24 00:00:00,61294)",
          "(2019-10-24 00:00:00,74484)",
          "(2019-10-24 00:00:00,115518)",
          "(2019-10-24 00:00:00,162379)",
          "(2019-10-24 00:00:00,355859)",
          "(2019-10-24 00:00:00,364456)",
          "(2019-10-24 00:00:00,393781)",
          "(2019-10-24 00:00:00,516003)",
          "(2019-10-24 00:00:00,643406)",
          "(2019-10-24 00:00:00,848849)",
          "(2019-10-24 00:00:00,854620)",
          "(2019-10-24 00:00:00,950427)",
          "(2019-10-25 00:00:00,629983)",
          "(2019-10-25 00:00:00,710050)",
          "(2019-10-25 00:00:00,793468)",
          "(2019-10-25 00:00:00,807640)",
          "(2019-10-25 00:00:00,829983)",
          "(2019-10-25 00:00:00,927726)",
          "(2019-10-26 00:00:00,164827)",
          "(2019-10-26 00:00:00,235583)",
          "(2019-10-26 00:00:00,243941)",
          "(2019-10-26 00:00:00,309053)",
          "(2019-10-26 00:00:00,350315)",
          "(2019-10-26 00:00:00,361427)",
          "(2019-10-26 00:00:00,418108)",
          "(2019-10-26 00:00:00,438584)",
          "(2019-10-26 00:00:00,502502)",
          "(2019-10-26 00:00:00,504793)",
          "(2019-10-26 00:00:00,541312)",
          "(2019-10-26 00:00:00,554554)",
          "(2019-10-26 00:00:00,557353)",
          "(2019-10-26 00:00:00,636836)",
          "(2019-10-26 00:00:00,652409)",
          "(2019-10-26 00:00:00,773611)",
          "(2019-10-26 00:00:00,862128)",
          "(2019-10-26 00:00:00,864048)",
          "(2019-10-26 00:00:00,871478)",
          "(2019-10-26 00:00:00,940572)",
          "(2019-10-26 00:00:00,957147)",
          "(2019-10-26 00:00:00,999480)",
          "(2019-10-27 00:00:00,43336)",
          "(2019-10-27 00:00:00,156599)",
          "(2019-10-27 00:00:00,310751)",
          "(2019-10-27 00:00:00,339866)",
          "(2019-10-27 00:00:00,440820)",
          "(2019-10-27 00:00:00,485200)",
          "(2019-10-27 00:00:00,601606)",
          "(2019-10-28 00:00:00,211059)",
          "(2019-10-28 00:00:00,308860)",
          "(2019-10-28 00:00:00,311965)",
          "(2019-10-28 00:00:00,590435)",
          "(2019-10-28 00:00:00,614943)",
          "(2019-10-28 00:00:00,636263)",
          "(2019-10-28 00:00:00,889461)",
          "(2019-10-28 00:00:00,935820)",
          "(2019-10-28 00:00:00,938988)",
          "(2019-10-28 00:00:00,997629)",
          "(2019-10-29 00:00:00,175035)",
          "(2019-10-29 00:00:00,361637)",
          "(2019-10-29 00:00:00,362558)",
          "(2019-10-29 00:00:00,696187)",
          "(2019-10-29 00:00:00,730021)",
          "(2019-10-29 00:00:00,919319)",
          "(2019-10-29 00:00:00,920267)",
          "(2019-10-30 00:00:00,111002)",
          "(2019-10-30 00:00:00,490096)",
          "(2019-10-30 00:00:00,545113)",
          "(2019-10-30 00:00:00,624205)",
          "(2019-10-30 00:00:00,624241)",
          "(2019-10-30 00:00:00,744943)",
          "(2019-10-30 00:00:00,750269)",
          "(2019-10-30 00:00:00,823895)",
          "(2019-10-30 00:00:00,922001)"
         ],
         "y": [
          0,
          0,
          0,
          0,
          0,
          0,
          0,
          0,
          0,
          2,
          0,
          0,
          0,
          0,
          0,
          5,
          3,
          4,
          0,
          0,
          0,
          5,
          2,
          1,
          0,
          2,
          0,
          0,
          0,
          0,
          0,
          0,
          0,
          5,
          0,
          0,
          0,
          0,
          0,
          0,
          0,
          2,
          0,
          0,
          0,
          0,
          0,
          4,
          2,
          2,
          4,
          0,
          2,
          0,
          0,
          0,
          0,
          0,
          1,
          5,
          5,
          0,
          5,
          2,
          0,
          0,
          0,
          0,
          0,
          1,
          0,
          0,
          2,
          3,
          4,
          3,
          0,
          3,
          1,
          2,
          0,
          4,
          4,
          3,
          3,
          0,
          4,
          4,
          0,
          0,
          0,
          0,
          0,
          0,
          3,
          0,
          0,
          1,
          1,
          2,
          0,
          4,
          3,
          5,
          0,
          0,
          2,
          5,
          0,
          0,
          0,
          0,
          2,
          4,
          0,
          1,
          0,
          0,
          0,
          0,
          0,
          0,
          4,
          3,
          0,
          4,
          5,
          5,
          0,
          0,
          2,
          4,
          4,
          0,
          0,
          4,
          1,
          0,
          0,
          0,
          0,
          0,
          4,
          0,
          0,
          0,
          0,
          3,
          4,
          0,
          0,
          0,
          0,
          0,
          0,
          0,
          0,
          0,
          0,
          2,
          0,
          0,
          0,
          0,
          0,
          0,
          0,
          0,
          3,
          0,
          0,
          0,
          0,
          0,
          0,
          4,
          0,
          0,
          4,
          4,
          0,
          0,
          2,
          0,
          0,
          3,
          4,
          0,
          4,
          1,
          5,
          4,
          5,
          4,
          2,
          0,
          3,
          0,
          5,
          2,
          2,
          0,
          0,
          1,
          0,
          0,
          5,
          2,
          0,
          0,
          0,
          0,
          5,
          5,
          4,
          3,
          0,
          0,
          0,
          0,
          5,
          4,
          3,
          0,
          2,
          5,
          0,
          0,
          0,
          0,
          1,
          2,
          5,
          0,
          0,
          0,
          0,
          3,
          0,
          0,
          0,
          0,
          0,
          0,
          0,
          3,
          4,
          0,
          0,
          3,
          0,
          0,
          2,
          5,
          5,
          3,
          5,
          2,
          0,
          3,
          5,
          0,
          1,
          0,
          0,
          2,
          0,
          3,
          2,
          3,
          5,
          0,
          0,
          2,
          0,
          1,
          0,
          3,
          0,
          2,
          0,
          0,
          0,
          0,
          0,
          0,
          0,
          0,
          0,
          0,
          0,
          0,
          0,
          0,
          0,
          0,
          4,
          0,
          0,
          0
         ]
        }
       ],
       "layout": {
        "legend": {
         "bgcolor": "#F5F6F9",
         "font": {
          "color": "#4D5663"
         }
        },
        "paper_bgcolor": "#F5F6F9",
        "plot_bgcolor": "#F5F6F9",
        "template": {
         "data": {
          "bar": [
           {
            "error_x": {
             "color": "#2a3f5f"
            },
            "error_y": {
             "color": "#2a3f5f"
            },
            "marker": {
             "line": {
              "color": "#E5ECF6",
              "width": 0.5
             }
            },
            "type": "bar"
           }
          ],
          "barpolar": [
           {
            "marker": {
             "line": {
              "color": "#E5ECF6",
              "width": 0.5
             }
            },
            "type": "barpolar"
           }
          ],
          "carpet": [
           {
            "aaxis": {
             "endlinecolor": "#2a3f5f",
             "gridcolor": "white",
             "linecolor": "white",
             "minorgridcolor": "white",
             "startlinecolor": "#2a3f5f"
            },
            "baxis": {
             "endlinecolor": "#2a3f5f",
             "gridcolor": "white",
             "linecolor": "white",
             "minorgridcolor": "white",
             "startlinecolor": "#2a3f5f"
            },
            "type": "carpet"
           }
          ],
          "choropleth": [
           {
            "colorbar": {
             "outlinewidth": 0,
             "ticks": ""
            },
            "type": "choropleth"
           }
          ],
          "contour": [
           {
            "colorbar": {
             "outlinewidth": 0,
             "ticks": ""
            },
            "colorscale": [
             [
              0,
              "#0d0887"
             ],
             [
              0.1111111111111111,
              "#46039f"
             ],
             [
              0.2222222222222222,
              "#7201a8"
             ],
             [
              0.3333333333333333,
              "#9c179e"
             ],
             [
              0.4444444444444444,
              "#bd3786"
             ],
             [
              0.5555555555555556,
              "#d8576b"
             ],
             [
              0.6666666666666666,
              "#ed7953"
             ],
             [
              0.7777777777777778,
              "#fb9f3a"
             ],
             [
              0.8888888888888888,
              "#fdca26"
             ],
             [
              1,
              "#f0f921"
             ]
            ],
            "type": "contour"
           }
          ],
          "contourcarpet": [
           {
            "colorbar": {
             "outlinewidth": 0,
             "ticks": ""
            },
            "type": "contourcarpet"
           }
          ],
          "heatmap": [
           {
            "colorbar": {
             "outlinewidth": 0,
             "ticks": ""
            },
            "colorscale": [
             [
              0,
              "#0d0887"
             ],
             [
              0.1111111111111111,
              "#46039f"
             ],
             [
              0.2222222222222222,
              "#7201a8"
             ],
             [
              0.3333333333333333,
              "#9c179e"
             ],
             [
              0.4444444444444444,
              "#bd3786"
             ],
             [
              0.5555555555555556,
              "#d8576b"
             ],
             [
              0.6666666666666666,
              "#ed7953"
             ],
             [
              0.7777777777777778,
              "#fb9f3a"
             ],
             [
              0.8888888888888888,
              "#fdca26"
             ],
             [
              1,
              "#f0f921"
             ]
            ],
            "type": "heatmap"
           }
          ],
          "heatmapgl": [
           {
            "colorbar": {
             "outlinewidth": 0,
             "ticks": ""
            },
            "colorscale": [
             [
              0,
              "#0d0887"
             ],
             [
              0.1111111111111111,
              "#46039f"
             ],
             [
              0.2222222222222222,
              "#7201a8"
             ],
             [
              0.3333333333333333,
              "#9c179e"
             ],
             [
              0.4444444444444444,
              "#bd3786"
             ],
             [
              0.5555555555555556,
              "#d8576b"
             ],
             [
              0.6666666666666666,
              "#ed7953"
             ],
             [
              0.7777777777777778,
              "#fb9f3a"
             ],
             [
              0.8888888888888888,
              "#fdca26"
             ],
             [
              1,
              "#f0f921"
             ]
            ],
            "type": "heatmapgl"
           }
          ],
          "histogram": [
           {
            "marker": {
             "colorbar": {
              "outlinewidth": 0,
              "ticks": ""
             }
            },
            "type": "histogram"
           }
          ],
          "histogram2d": [
           {
            "colorbar": {
             "outlinewidth": 0,
             "ticks": ""
            },
            "colorscale": [
             [
              0,
              "#0d0887"
             ],
             [
              0.1111111111111111,
              "#46039f"
             ],
             [
              0.2222222222222222,
              "#7201a8"
             ],
             [
              0.3333333333333333,
              "#9c179e"
             ],
             [
              0.4444444444444444,
              "#bd3786"
             ],
             [
              0.5555555555555556,
              "#d8576b"
             ],
             [
              0.6666666666666666,
              "#ed7953"
             ],
             [
              0.7777777777777778,
              "#fb9f3a"
             ],
             [
              0.8888888888888888,
              "#fdca26"
             ],
             [
              1,
              "#f0f921"
             ]
            ],
            "type": "histogram2d"
           }
          ],
          "histogram2dcontour": [
           {
            "colorbar": {
             "outlinewidth": 0,
             "ticks": ""
            },
            "colorscale": [
             [
              0,
              "#0d0887"
             ],
             [
              0.1111111111111111,
              "#46039f"
             ],
             [
              0.2222222222222222,
              "#7201a8"
             ],
             [
              0.3333333333333333,
              "#9c179e"
             ],
             [
              0.4444444444444444,
              "#bd3786"
             ],
             [
              0.5555555555555556,
              "#d8576b"
             ],
             [
              0.6666666666666666,
              "#ed7953"
             ],
             [
              0.7777777777777778,
              "#fb9f3a"
             ],
             [
              0.8888888888888888,
              "#fdca26"
             ],
             [
              1,
              "#f0f921"
             ]
            ],
            "type": "histogram2dcontour"
           }
          ],
          "mesh3d": [
           {
            "colorbar": {
             "outlinewidth": 0,
             "ticks": ""
            },
            "type": "mesh3d"
           }
          ],
          "parcoords": [
           {
            "line": {
             "colorbar": {
              "outlinewidth": 0,
              "ticks": ""
             }
            },
            "type": "parcoords"
           }
          ],
          "pie": [
           {
            "automargin": true,
            "type": "pie"
           }
          ],
          "scatter": [
           {
            "marker": {
             "colorbar": {
              "outlinewidth": 0,
              "ticks": ""
             }
            },
            "type": "scatter"
           }
          ],
          "scatter3d": [
           {
            "line": {
             "colorbar": {
              "outlinewidth": 0,
              "ticks": ""
             }
            },
            "marker": {
             "colorbar": {
              "outlinewidth": 0,
              "ticks": ""
             }
            },
            "type": "scatter3d"
           }
          ],
          "scattercarpet": [
           {
            "marker": {
             "colorbar": {
              "outlinewidth": 0,
              "ticks": ""
             }
            },
            "type": "scattercarpet"
           }
          ],
          "scattergeo": [
           {
            "marker": {
             "colorbar": {
              "outlinewidth": 0,
              "ticks": ""
             }
            },
            "type": "scattergeo"
           }
          ],
          "scattergl": [
           {
            "marker": {
             "colorbar": {
              "outlinewidth": 0,
              "ticks": ""
             }
            },
            "type": "scattergl"
           }
          ],
          "scattermapbox": [
           {
            "marker": {
             "colorbar": {
              "outlinewidth": 0,
              "ticks": ""
             }
            },
            "type": "scattermapbox"
           }
          ],
          "scatterpolar": [
           {
            "marker": {
             "colorbar": {
              "outlinewidth": 0,
              "ticks": ""
             }
            },
            "type": "scatterpolar"
           }
          ],
          "scatterpolargl": [
           {
            "marker": {
             "colorbar": {
              "outlinewidth": 0,
              "ticks": ""
             }
            },
            "type": "scatterpolargl"
           }
          ],
          "scatterternary": [
           {
            "marker": {
             "colorbar": {
              "outlinewidth": 0,
              "ticks": ""
             }
            },
            "type": "scatterternary"
           }
          ],
          "surface": [
           {
            "colorbar": {
             "outlinewidth": 0,
             "ticks": ""
            },
            "colorscale": [
             [
              0,
              "#0d0887"
             ],
             [
              0.1111111111111111,
              "#46039f"
             ],
             [
              0.2222222222222222,
              "#7201a8"
             ],
             [
              0.3333333333333333,
              "#9c179e"
             ],
             [
              0.4444444444444444,
              "#bd3786"
             ],
             [
              0.5555555555555556,
              "#d8576b"
             ],
             [
              0.6666666666666666,
              "#ed7953"
             ],
             [
              0.7777777777777778,
              "#fb9f3a"
             ],
             [
              0.8888888888888888,
              "#fdca26"
             ],
             [
              1,
              "#f0f921"
             ]
            ],
            "type": "surface"
           }
          ],
          "table": [
           {
            "cells": {
             "fill": {
              "color": "#EBF0F8"
             },
             "line": {
              "color": "white"
             }
            },
            "header": {
             "fill": {
              "color": "#C8D4E3"
             },
             "line": {
              "color": "white"
             }
            },
            "type": "table"
           }
          ]
         },
         "layout": {
          "annotationdefaults": {
           "arrowcolor": "#2a3f5f",
           "arrowhead": 0,
           "arrowwidth": 1
          },
          "coloraxis": {
           "colorbar": {
            "outlinewidth": 0,
            "ticks": ""
           }
          },
          "colorscale": {
           "diverging": [
            [
             0,
             "#8e0152"
            ],
            [
             0.1,
             "#c51b7d"
            ],
            [
             0.2,
             "#de77ae"
            ],
            [
             0.3,
             "#f1b6da"
            ],
            [
             0.4,
             "#fde0ef"
            ],
            [
             0.5,
             "#f7f7f7"
            ],
            [
             0.6,
             "#e6f5d0"
            ],
            [
             0.7,
             "#b8e186"
            ],
            [
             0.8,
             "#7fbc41"
            ],
            [
             0.9,
             "#4d9221"
            ],
            [
             1,
             "#276419"
            ]
           ],
           "sequential": [
            [
             0,
             "#0d0887"
            ],
            [
             0.1111111111111111,
             "#46039f"
            ],
            [
             0.2222222222222222,
             "#7201a8"
            ],
            [
             0.3333333333333333,
             "#9c179e"
            ],
            [
             0.4444444444444444,
             "#bd3786"
            ],
            [
             0.5555555555555556,
             "#d8576b"
            ],
            [
             0.6666666666666666,
             "#ed7953"
            ],
            [
             0.7777777777777778,
             "#fb9f3a"
            ],
            [
             0.8888888888888888,
             "#fdca26"
            ],
            [
             1,
             "#f0f921"
            ]
           ],
           "sequentialminus": [
            [
             0,
             "#0d0887"
            ],
            [
             0.1111111111111111,
             "#46039f"
            ],
            [
             0.2222222222222222,
             "#7201a8"
            ],
            [
             0.3333333333333333,
             "#9c179e"
            ],
            [
             0.4444444444444444,
             "#bd3786"
            ],
            [
             0.5555555555555556,
             "#d8576b"
            ],
            [
             0.6666666666666666,
             "#ed7953"
            ],
            [
             0.7777777777777778,
             "#fb9f3a"
            ],
            [
             0.8888888888888888,
             "#fdca26"
            ],
            [
             1,
             "#f0f921"
            ]
           ]
          },
          "colorway": [
           "#636efa",
           "#EF553B",
           "#00cc96",
           "#ab63fa",
           "#FFA15A",
           "#19d3f3",
           "#FF6692",
           "#B6E880",
           "#FF97FF",
           "#FECB52"
          ],
          "font": {
           "color": "#2a3f5f"
          },
          "geo": {
           "bgcolor": "white",
           "lakecolor": "white",
           "landcolor": "#E5ECF6",
           "showlakes": true,
           "showland": true,
           "subunitcolor": "white"
          },
          "hoverlabel": {
           "align": "left"
          },
          "hovermode": "closest",
          "mapbox": {
           "style": "light"
          },
          "paper_bgcolor": "white",
          "plot_bgcolor": "#E5ECF6",
          "polar": {
           "angularaxis": {
            "gridcolor": "white",
            "linecolor": "white",
            "ticks": ""
           },
           "bgcolor": "#E5ECF6",
           "radialaxis": {
            "gridcolor": "white",
            "linecolor": "white",
            "ticks": ""
           }
          },
          "scene": {
           "xaxis": {
            "backgroundcolor": "#E5ECF6",
            "gridcolor": "white",
            "gridwidth": 2,
            "linecolor": "white",
            "showbackground": true,
            "ticks": "",
            "zerolinecolor": "white"
           },
           "yaxis": {
            "backgroundcolor": "#E5ECF6",
            "gridcolor": "white",
            "gridwidth": 2,
            "linecolor": "white",
            "showbackground": true,
            "ticks": "",
            "zerolinecolor": "white"
           },
           "zaxis": {
            "backgroundcolor": "#E5ECF6",
            "gridcolor": "white",
            "gridwidth": 2,
            "linecolor": "white",
            "showbackground": true,
            "ticks": "",
            "zerolinecolor": "white"
           }
          },
          "shapedefaults": {
           "line": {
            "color": "#2a3f5f"
           }
          },
          "ternary": {
           "aaxis": {
            "gridcolor": "white",
            "linecolor": "white",
            "ticks": ""
           },
           "baxis": {
            "gridcolor": "white",
            "linecolor": "white",
            "ticks": ""
           },
           "bgcolor": "#E5ECF6",
           "caxis": {
            "gridcolor": "white",
            "linecolor": "white",
            "ticks": ""
           }
          },
          "title": {
           "x": 0.05
          },
          "xaxis": {
           "automargin": true,
           "gridcolor": "white",
           "linecolor": "white",
           "ticks": "",
           "title": {
            "standoff": 15
           },
           "zerolinecolor": "white",
           "zerolinewidth": 2
          },
          "yaxis": {
           "automargin": true,
           "gridcolor": "white",
           "linecolor": "white",
           "ticks": "",
           "title": {
            "standoff": 15
           },
           "zerolinecolor": "white",
           "zerolinewidth": 2
          }
         }
        },
        "title": {
         "font": {
          "color": "#4D5663"
         },
         "text": "Bugs per session"
        },
        "xaxis": {
         "gridcolor": "#E1E5ED",
         "showgrid": true,
         "tickfont": {
          "color": "#4D5663"
         },
         "title": {
          "font": {
           "color": "#4D5663"
          },
          "text": "Date and session_id"
         },
         "zerolinecolor": "#E1E5ED"
        },
        "yaxis": {
         "gridcolor": "#E1E5ED",
         "showgrid": true,
         "tickfont": {
          "color": "#4D5663"
         },
         "title": {
          "font": {
           "color": "#4D5663"
          },
          "text": "Bugs"
         },
         "zerolinecolor": "#E1E5ED"
        }
       }
      },
      "text/html": [
       "<div>\n",
       "        \n",
       "        \n",
       "            <div id=\"003655cc-3f0e-4e26-af46-1698139ddf3d\" class=\"plotly-graph-div\" style=\"height:525px; width:100%;\"></div>\n",
       "            <script type=\"text/javascript\">\n",
       "                require([\"plotly\"], function(Plotly) {\n",
       "                    window.PLOTLYENV=window.PLOTLYENV || {};\n",
       "                    window.PLOTLYENV.BASE_URL='https://plot.ly';\n",
       "                    \n",
       "                if (document.getElementById(\"003655cc-3f0e-4e26-af46-1698139ddf3d\")) {\n",
       "                    Plotly.newPlot(\n",
       "                        '003655cc-3f0e-4e26-af46-1698139ddf3d',\n",
       "                        [{\"line\": {\"color\": \"rgba(255, 153, 51, 1.0)\", \"dash\": \"solid\", \"shape\": \"linear\", \"width\": 1.3}, \"mode\": \"lines\", \"name\": \"bugs_in_session\", \"text\": \"\", \"type\": \"scatter\", \"x\": [\"(2019-10-01 00:00:00,109787)\", \"(2019-10-01 00:00:00,183387)\", \"(2019-10-01 00:00:00,558332)\", \"(2019-10-01 00:00:00,582997)\", \"(2019-10-01 00:00:00,643880)\", \"(2019-10-01 00:00:00,811956)\", \"(2019-10-01 00:00:00,844518)\", \"(2019-10-01 00:00:00,933954)\", \"(2019-10-01 00:00:00,944212)\", \"(2019-10-02 00:00:00,119299)\", \"(2019-10-02 00:00:00,187302)\", \"(2019-10-02 00:00:00,607914)\", \"(2019-10-02 00:00:00,760757)\", \"(2019-10-02 00:00:00,993956)\", \"(2019-10-03 00:00:00,129065)\", \"(2019-10-03 00:00:00,204865)\", \"(2019-10-03 00:00:00,254033)\", \"(2019-10-03 00:00:00,384830)\", \"(2019-10-03 00:00:00,442331)\", \"(2019-10-03 00:00:00,472912)\", \"(2019-10-03 00:00:00,557880)\", \"(2019-10-03 00:00:00,682794)\", \"(2019-10-03 00:00:00,787162)\", \"(2019-10-03 00:00:00,917614)\", \"(2019-10-04 00:00:00,84701)\", \"(2019-10-04 00:00:00,213972)\", \"(2019-10-04 00:00:00,401728)\", \"(2019-10-04 00:00:00,429587)\", \"(2019-10-04 00:00:00,447031)\", \"(2019-10-04 00:00:00,497529)\", \"(2019-10-04 00:00:00,585849)\", \"(2019-10-04 00:00:00,708187)\", \"(2019-10-04 00:00:00,941882)\", \"(2019-10-05 00:00:00,30840)\", \"(2019-10-05 00:00:00,116296)\", \"(2019-10-05 00:00:00,155334)\", \"(2019-10-05 00:00:00,202421)\", \"(2019-10-05 00:00:00,266445)\", \"(2019-10-05 00:00:00,404553)\", \"(2019-10-05 00:00:00,478264)\", \"(2019-10-05 00:00:00,498699)\", \"(2019-10-05 00:00:00,558290)\", \"(2019-10-05 00:00:00,760339)\", \"(2019-10-05 00:00:00,802454)\", \"(2019-10-05 00:00:00,812441)\", \"(2019-10-05 00:00:00,817608)\", \"(2019-10-05 00:00:00,888691)\", \"(2019-10-06 00:00:00,127132)\", \"(2019-10-06 00:00:00,133256)\", \"(2019-10-06 00:00:00,225470)\", \"(2019-10-06 00:00:00,267667)\", \"(2019-10-06 00:00:00,356244)\", \"(2019-10-06 00:00:00,366662)\", \"(2019-10-06 00:00:00,419580)\", \"(2019-10-06 00:00:00,563300)\", \"(2019-10-06 00:00:00,611819)\", \"(2019-10-06 00:00:00,625573)\", \"(2019-10-06 00:00:00,704918)\", \"(2019-10-06 00:00:00,878079)\", \"(2019-10-07 00:00:00,42216)\", \"(2019-10-07 00:00:00,194870)\", \"(2019-10-07 00:00:00,205332)\", \"(2019-10-07 00:00:00,226978)\", \"(2019-10-07 00:00:00,306564)\", \"(2019-10-07 00:00:00,321330)\", \"(2019-10-07 00:00:00,327733)\", \"(2019-10-07 00:00:00,378958)\", \"(2019-10-07 00:00:00,437487)\", \"(2019-10-07 00:00:00,573862)\", \"(2019-10-07 00:00:00,599260)\", \"(2019-10-07 00:00:00,872877)\", \"(2019-10-07 00:00:00,885351)\", \"(2019-10-08 00:00:00,33604)\", \"(2019-10-08 00:00:00,91201)\", \"(2019-10-08 00:00:00,95038)\", \"(2019-10-08 00:00:00,203676)\", \"(2019-10-08 00:00:00,403473)\", \"(2019-10-08 00:00:00,687916)\", \"(2019-10-08 00:00:00,736353)\", \"(2019-10-08 00:00:00,873781)\", \"(2019-10-09 00:00:00,117013)\", \"(2019-10-09 00:00:00,196926)\", \"(2019-10-09 00:00:00,320716)\", \"(2019-10-09 00:00:00,339010)\", \"(2019-10-09 00:00:00,624736)\", \"(2019-10-09 00:00:00,674512)\", \"(2019-10-09 00:00:00,738680)\", \"(2019-10-09 00:00:00,751775)\", \"(2019-10-09 00:00:00,844006)\", \"(2019-10-09 00:00:00,860219)\", \"(2019-10-10 00:00:00,84773)\", \"(2019-10-10 00:00:00,130428)\", \"(2019-10-10 00:00:00,135112)\", \"(2019-10-10 00:00:00,137925)\", \"(2019-10-10 00:00:00,139965)\", \"(2019-10-10 00:00:00,198765)\", \"(2019-10-10 00:00:00,296502)\", \"(2019-10-10 00:00:00,336050)\", \"(2019-10-10 00:00:00,495864)\", \"(2019-10-10 00:00:00,661082)\", \"(2019-10-10 00:00:00,693392)\", \"(2019-10-10 00:00:00,865938)\", \"(2019-10-10 00:00:00,875307)\", \"(2019-10-10 00:00:00,949140)\", \"(2019-10-11 00:00:00,102067)\", \"(2019-10-11 00:00:00,281083)\", \"(2019-10-11 00:00:00,351540)\", \"(2019-10-11 00:00:00,353787)\", \"(2019-10-11 00:00:00,363747)\", \"(2019-10-11 00:00:00,503539)\", \"(2019-10-11 00:00:00,613808)\", \"(2019-10-11 00:00:00,796561)\", \"(2019-10-11 00:00:00,823096)\", \"(2019-10-11 00:00:00,832306)\", \"(2019-10-11 00:00:00,847651)\", \"(2019-10-11 00:00:00,889677)\", \"(2019-10-11 00:00:00,924434)\", \"(2019-10-11 00:00:00,934455)\", \"(2019-10-12 00:00:00,23570)\", \"(2019-10-12 00:00:00,173919)\", \"(2019-10-12 00:00:00,354260)\", \"(2019-10-12 00:00:00,768035)\", \"(2019-10-12 00:00:00,802529)\", \"(2019-10-12 00:00:00,854618)\", \"(2019-10-12 00:00:00,864133)\", \"(2019-10-12 00:00:00,967732)\", \"(2019-10-13 00:00:00,102797)\", \"(2019-10-13 00:00:00,315117)\", \"(2019-10-13 00:00:00,403173)\", \"(2019-10-13 00:00:00,436046)\", \"(2019-10-13 00:00:00,574792)\", \"(2019-10-13 00:00:00,608120)\", \"(2019-10-13 00:00:00,810196)\", \"(2019-10-13 00:00:00,812596)\", \"(2019-10-13 00:00:00,820853)\", \"(2019-10-13 00:00:00,848857)\", \"(2019-10-13 00:00:00,929826)\", \"(2019-10-14 00:00:00,299736)\", \"(2019-10-14 00:00:00,753352)\", \"(2019-10-14 00:00:00,925195)\", \"(2019-10-15 00:00:00,112122)\", \"(2019-10-15 00:00:00,147762)\", \"(2019-10-15 00:00:00,156847)\", \"(2019-10-15 00:00:00,435292)\", \"(2019-10-15 00:00:00,463600)\", \"(2019-10-15 00:00:00,667092)\", \"(2019-10-15 00:00:00,737055)\", \"(2019-10-15 00:00:00,831607)\", \"(2019-10-15 00:00:00,863765)\", \"(2019-10-15 00:00:00,874387)\", \"(2019-10-15 00:00:00,883587)\", \"(2019-10-15 00:00:00,905141)\", \"(2019-10-15 00:00:00,908409)\", \"(2019-10-15 00:00:00,909692)\", \"(2019-10-16 00:00:00,75447)\", \"(2019-10-16 00:00:00,327628)\", \"(2019-10-16 00:00:00,499349)\", \"(2019-10-16 00:00:00,930932)\", \"(2019-10-17 00:00:00,183728)\", \"(2019-10-17 00:00:00,338681)\", \"(2019-10-17 00:00:00,571482)\", \"(2019-10-17 00:00:00,607530)\", \"(2019-10-17 00:00:00,827919)\", \"(2019-10-18 00:00:00,335787)\", \"(2019-10-18 00:00:00,378951)\", \"(2019-10-18 00:00:00,404381)\", \"(2019-10-18 00:00:00,556990)\", \"(2019-10-18 00:00:00,603309)\", \"(2019-10-18 00:00:00,648313)\", \"(2019-10-18 00:00:00,714532)\", \"(2019-10-18 00:00:00,730001)\", \"(2019-10-18 00:00:00,818991)\", \"(2019-10-18 00:00:00,861318)\", \"(2019-10-18 00:00:00,884372)\", \"(2019-10-19 00:00:00,227463)\", \"(2019-10-19 00:00:00,359949)\", \"(2019-10-19 00:00:00,362752)\", \"(2019-10-19 00:00:00,638118)\", \"(2019-10-19 00:00:00,645526)\", \"(2019-10-19 00:00:00,680314)\", \"(2019-10-19 00:00:00,750732)\", \"(2019-10-19 00:00:00,826119)\", \"(2019-10-19 00:00:00,911453)\", \"(2019-10-19 00:00:00,927067)\", \"(2019-10-19 00:00:00,930216)\", \"(2019-10-20 00:00:00,22885)\", \"(2019-10-20 00:00:00,92563)\", \"(2019-10-20 00:00:00,95512)\", \"(2019-10-20 00:00:00,243101)\", \"(2019-10-20 00:00:00,406687)\", \"(2019-10-20 00:00:00,429305)\", \"(2019-10-20 00:00:00,582793)\", \"(2019-10-20 00:00:00,588443)\", \"(2019-10-20 00:00:00,678215)\", \"(2019-10-20 00:00:00,723982)\", \"(2019-10-20 00:00:00,802947)\", \"(2019-10-20 00:00:00,842373)\", \"(2019-10-21 00:00:00,154251)\", \"(2019-10-21 00:00:00,215590)\", \"(2019-10-21 00:00:00,237454)\", \"(2019-10-21 00:00:00,272981)\", \"(2019-10-21 00:00:00,279710)\", \"(2019-10-21 00:00:00,309288)\", \"(2019-10-21 00:00:00,404931)\", \"(2019-10-21 00:00:00,423899)\", \"(2019-10-21 00:00:00,472472)\", \"(2019-10-21 00:00:00,512614)\", \"(2019-10-21 00:00:00,551993)\", \"(2019-10-21 00:00:00,600035)\", \"(2019-10-21 00:00:00,652067)\", \"(2019-10-21 00:00:00,676493)\", \"(2019-10-21 00:00:00,906093)\", \"(2019-10-22 00:00:00,51859)\", \"(2019-10-22 00:00:00,76000)\", \"(2019-10-22 00:00:00,118687)\", \"(2019-10-22 00:00:00,123453)\", \"(2019-10-22 00:00:00,306852)\", \"(2019-10-22 00:00:00,399130)\", \"(2019-10-22 00:00:00,499101)\", \"(2019-10-22 00:00:00,507059)\", \"(2019-10-22 00:00:00,559242)\", \"(2019-10-22 00:00:00,810798)\", \"(2019-10-22 00:00:00,958269)\", \"(2019-10-23 00:00:00,287401)\", \"(2019-10-23 00:00:00,480779)\", \"(2019-10-23 00:00:00,552796)\", \"(2019-10-23 00:00:00,901324)\", \"(2019-10-24 00:00:00,61294)\", \"(2019-10-24 00:00:00,74484)\", \"(2019-10-24 00:00:00,115518)\", \"(2019-10-24 00:00:00,162379)\", \"(2019-10-24 00:00:00,355859)\", \"(2019-10-24 00:00:00,364456)\", \"(2019-10-24 00:00:00,393781)\", \"(2019-10-24 00:00:00,516003)\", \"(2019-10-24 00:00:00,643406)\", \"(2019-10-24 00:00:00,848849)\", \"(2019-10-24 00:00:00,854620)\", \"(2019-10-24 00:00:00,950427)\", \"(2019-10-25 00:00:00,629983)\", \"(2019-10-25 00:00:00,710050)\", \"(2019-10-25 00:00:00,793468)\", \"(2019-10-25 00:00:00,807640)\", \"(2019-10-25 00:00:00,829983)\", \"(2019-10-25 00:00:00,927726)\", \"(2019-10-26 00:00:00,164827)\", \"(2019-10-26 00:00:00,235583)\", \"(2019-10-26 00:00:00,243941)\", \"(2019-10-26 00:00:00,309053)\", \"(2019-10-26 00:00:00,350315)\", \"(2019-10-26 00:00:00,361427)\", \"(2019-10-26 00:00:00,418108)\", \"(2019-10-26 00:00:00,438584)\", \"(2019-10-26 00:00:00,502502)\", \"(2019-10-26 00:00:00,504793)\", \"(2019-10-26 00:00:00,541312)\", \"(2019-10-26 00:00:00,554554)\", \"(2019-10-26 00:00:00,557353)\", \"(2019-10-26 00:00:00,636836)\", \"(2019-10-26 00:00:00,652409)\", \"(2019-10-26 00:00:00,773611)\", \"(2019-10-26 00:00:00,862128)\", \"(2019-10-26 00:00:00,864048)\", \"(2019-10-26 00:00:00,871478)\", \"(2019-10-26 00:00:00,940572)\", \"(2019-10-26 00:00:00,957147)\", \"(2019-10-26 00:00:00,999480)\", \"(2019-10-27 00:00:00,43336)\", \"(2019-10-27 00:00:00,156599)\", \"(2019-10-27 00:00:00,310751)\", \"(2019-10-27 00:00:00,339866)\", \"(2019-10-27 00:00:00,440820)\", \"(2019-10-27 00:00:00,485200)\", \"(2019-10-27 00:00:00,601606)\", \"(2019-10-28 00:00:00,211059)\", \"(2019-10-28 00:00:00,308860)\", \"(2019-10-28 00:00:00,311965)\", \"(2019-10-28 00:00:00,590435)\", \"(2019-10-28 00:00:00,614943)\", \"(2019-10-28 00:00:00,636263)\", \"(2019-10-28 00:00:00,889461)\", \"(2019-10-28 00:00:00,935820)\", \"(2019-10-28 00:00:00,938988)\", \"(2019-10-28 00:00:00,997629)\", \"(2019-10-29 00:00:00,175035)\", \"(2019-10-29 00:00:00,361637)\", \"(2019-10-29 00:00:00,362558)\", \"(2019-10-29 00:00:00,696187)\", \"(2019-10-29 00:00:00,730021)\", \"(2019-10-29 00:00:00,919319)\", \"(2019-10-29 00:00:00,920267)\", \"(2019-10-30 00:00:00,111002)\", \"(2019-10-30 00:00:00,490096)\", \"(2019-10-30 00:00:00,545113)\", \"(2019-10-30 00:00:00,624205)\", \"(2019-10-30 00:00:00,624241)\", \"(2019-10-30 00:00:00,744943)\", \"(2019-10-30 00:00:00,750269)\", \"(2019-10-30 00:00:00,823895)\", \"(2019-10-30 00:00:00,922001)\"], \"y\": [0.0, 0.0, 0.0, 0.0, 0.0, 0.0, 0.0, 0.0, 0.0, 2.0, 0.0, 0.0, 0.0, 0.0, 0.0, 5.0, 3.0, 4.0, 0.0, 0.0, 0.0, 5.0, 2.0, 1.0, 0.0, 2.0, 0.0, 0.0, 0.0, 0.0, 0.0, 0.0, 0.0, 5.0, 0.0, 0.0, 0.0, 0.0, 0.0, 0.0, 0.0, 2.0, 0.0, 0.0, 0.0, 0.0, 0.0, 4.0, 2.0, 2.0, 4.0, 0.0, 2.0, 0.0, 0.0, 0.0, 0.0, 0.0, 1.0, 5.0, 5.0, 0.0, 5.0, 2.0, 0.0, 0.0, 0.0, 0.0, 0.0, 1.0, 0.0, 0.0, 2.0, 3.0, 4.0, 3.0, 0.0, 3.0, 1.0, 2.0, 0.0, 4.0, 4.0, 3.0, 3.0, 0.0, 4.0, 4.0, 0.0, 0.0, 0.0, 0.0, 0.0, 0.0, 3.0, 0.0, 0.0, 1.0, 1.0, 2.0, 0.0, 4.0, 3.0, 5.0, 0.0, 0.0, 2.0, 5.0, 0.0, 0.0, 0.0, 0.0, 2.0, 4.0, 0.0, 1.0, 0.0, 0.0, 0.0, 0.0, 0.0, 0.0, 4.0, 3.0, 0.0, 4.0, 5.0, 5.0, 0.0, 0.0, 2.0, 4.0, 4.0, 0.0, 0.0, 4.0, 1.0, 0.0, 0.0, 0.0, 0.0, 0.0, 4.0, 0.0, 0.0, 0.0, 0.0, 3.0, 4.0, 0.0, 0.0, 0.0, 0.0, 0.0, 0.0, 0.0, 0.0, 0.0, 0.0, 2.0, 0.0, 0.0, 0.0, 0.0, 0.0, 0.0, 0.0, 0.0, 3.0, 0.0, 0.0, 0.0, 0.0, 0.0, 0.0, 4.0, 0.0, 0.0, 4.0, 4.0, 0.0, 0.0, 2.0, 0.0, 0.0, 3.0, 4.0, 0.0, 4.0, 1.0, 5.0, 4.0, 5.0, 4.0, 2.0, 0.0, 3.0, 0.0, 5.0, 2.0, 2.0, 0.0, 0.0, 1.0, 0.0, 0.0, 5.0, 2.0, 0.0, 0.0, 0.0, 0.0, 5.0, 5.0, 4.0, 3.0, 0.0, 0.0, 0.0, 0.0, 5.0, 4.0, 3.0, 0.0, 2.0, 5.0, 0.0, 0.0, 0.0, 0.0, 1.0, 2.0, 5.0, 0.0, 0.0, 0.0, 0.0, 3.0, 0.0, 0.0, 0.0, 0.0, 0.0, 0.0, 0.0, 3.0, 4.0, 0.0, 0.0, 3.0, 0.0, 0.0, 2.0, 5.0, 5.0, 3.0, 5.0, 2.0, 0.0, 3.0, 5.0, 0.0, 1.0, 0.0, 0.0, 2.0, 0.0, 3.0, 2.0, 3.0, 5.0, 0.0, 0.0, 2.0, 0.0, 1.0, 0.0, 3.0, 0.0, 2.0, 0.0, 0.0, 0.0, 0.0, 0.0, 0.0, 0.0, 0.0, 0.0, 0.0, 0.0, 0.0, 0.0, 0.0, 0.0, 0.0, 4.0, 0.0, 0.0, 0.0]}],\n",
       "                        {\"legend\": {\"bgcolor\": \"#F5F6F9\", \"font\": {\"color\": \"#4D5663\"}}, \"paper_bgcolor\": \"#F5F6F9\", \"plot_bgcolor\": \"#F5F6F9\", \"template\": {\"data\": {\"bar\": [{\"error_x\": {\"color\": \"#2a3f5f\"}, \"error_y\": {\"color\": \"#2a3f5f\"}, \"marker\": {\"line\": {\"color\": \"#E5ECF6\", \"width\": 0.5}}, \"type\": \"bar\"}], \"barpolar\": [{\"marker\": {\"line\": {\"color\": \"#E5ECF6\", \"width\": 0.5}}, \"type\": \"barpolar\"}], \"carpet\": [{\"aaxis\": {\"endlinecolor\": \"#2a3f5f\", \"gridcolor\": \"white\", \"linecolor\": \"white\", \"minorgridcolor\": \"white\", \"startlinecolor\": \"#2a3f5f\"}, \"baxis\": {\"endlinecolor\": \"#2a3f5f\", \"gridcolor\": \"white\", \"linecolor\": \"white\", \"minorgridcolor\": \"white\", \"startlinecolor\": \"#2a3f5f\"}, \"type\": \"carpet\"}], \"choropleth\": [{\"colorbar\": {\"outlinewidth\": 0, \"ticks\": \"\"}, \"type\": \"choropleth\"}], \"contour\": [{\"colorbar\": {\"outlinewidth\": 0, \"ticks\": \"\"}, \"colorscale\": [[0.0, \"#0d0887\"], [0.1111111111111111, \"#46039f\"], [0.2222222222222222, \"#7201a8\"], [0.3333333333333333, \"#9c179e\"], [0.4444444444444444, \"#bd3786\"], [0.5555555555555556, \"#d8576b\"], [0.6666666666666666, \"#ed7953\"], [0.7777777777777778, \"#fb9f3a\"], [0.8888888888888888, \"#fdca26\"], [1.0, \"#f0f921\"]], \"type\": \"contour\"}], \"contourcarpet\": [{\"colorbar\": {\"outlinewidth\": 0, \"ticks\": \"\"}, \"type\": \"contourcarpet\"}], \"heatmap\": [{\"colorbar\": {\"outlinewidth\": 0, \"ticks\": \"\"}, \"colorscale\": [[0.0, \"#0d0887\"], [0.1111111111111111, \"#46039f\"], [0.2222222222222222, \"#7201a8\"], [0.3333333333333333, \"#9c179e\"], [0.4444444444444444, \"#bd3786\"], [0.5555555555555556, \"#d8576b\"], [0.6666666666666666, \"#ed7953\"], [0.7777777777777778, \"#fb9f3a\"], [0.8888888888888888, \"#fdca26\"], [1.0, \"#f0f921\"]], \"type\": \"heatmap\"}], \"heatmapgl\": [{\"colorbar\": {\"outlinewidth\": 0, \"ticks\": \"\"}, \"colorscale\": [[0.0, \"#0d0887\"], [0.1111111111111111, \"#46039f\"], [0.2222222222222222, \"#7201a8\"], [0.3333333333333333, \"#9c179e\"], [0.4444444444444444, \"#bd3786\"], [0.5555555555555556, \"#d8576b\"], [0.6666666666666666, \"#ed7953\"], [0.7777777777777778, \"#fb9f3a\"], [0.8888888888888888, \"#fdca26\"], [1.0, \"#f0f921\"]], \"type\": \"heatmapgl\"}], \"histogram\": [{\"marker\": {\"colorbar\": {\"outlinewidth\": 0, \"ticks\": \"\"}}, \"type\": \"histogram\"}], \"histogram2d\": [{\"colorbar\": {\"outlinewidth\": 0, \"ticks\": \"\"}, \"colorscale\": [[0.0, \"#0d0887\"], [0.1111111111111111, \"#46039f\"], [0.2222222222222222, \"#7201a8\"], [0.3333333333333333, \"#9c179e\"], [0.4444444444444444, \"#bd3786\"], [0.5555555555555556, \"#d8576b\"], [0.6666666666666666, \"#ed7953\"], [0.7777777777777778, \"#fb9f3a\"], [0.8888888888888888, \"#fdca26\"], [1.0, \"#f0f921\"]], \"type\": \"histogram2d\"}], \"histogram2dcontour\": [{\"colorbar\": {\"outlinewidth\": 0, \"ticks\": \"\"}, \"colorscale\": [[0.0, \"#0d0887\"], [0.1111111111111111, \"#46039f\"], [0.2222222222222222, \"#7201a8\"], [0.3333333333333333, \"#9c179e\"], [0.4444444444444444, \"#bd3786\"], [0.5555555555555556, \"#d8576b\"], [0.6666666666666666, \"#ed7953\"], [0.7777777777777778, \"#fb9f3a\"], [0.8888888888888888, \"#fdca26\"], [1.0, \"#f0f921\"]], \"type\": \"histogram2dcontour\"}], \"mesh3d\": [{\"colorbar\": {\"outlinewidth\": 0, \"ticks\": \"\"}, \"type\": \"mesh3d\"}], \"parcoords\": [{\"line\": {\"colorbar\": {\"outlinewidth\": 0, \"ticks\": \"\"}}, \"type\": \"parcoords\"}], \"pie\": [{\"automargin\": true, \"type\": \"pie\"}], \"scatter\": [{\"marker\": {\"colorbar\": {\"outlinewidth\": 0, \"ticks\": \"\"}}, \"type\": \"scatter\"}], \"scatter3d\": [{\"line\": {\"colorbar\": {\"outlinewidth\": 0, \"ticks\": \"\"}}, \"marker\": {\"colorbar\": {\"outlinewidth\": 0, \"ticks\": \"\"}}, \"type\": \"scatter3d\"}], \"scattercarpet\": [{\"marker\": {\"colorbar\": {\"outlinewidth\": 0, \"ticks\": \"\"}}, \"type\": \"scattercarpet\"}], \"scattergeo\": [{\"marker\": {\"colorbar\": {\"outlinewidth\": 0, \"ticks\": \"\"}}, \"type\": \"scattergeo\"}], \"scattergl\": [{\"marker\": {\"colorbar\": {\"outlinewidth\": 0, \"ticks\": \"\"}}, \"type\": \"scattergl\"}], \"scattermapbox\": [{\"marker\": {\"colorbar\": {\"outlinewidth\": 0, \"ticks\": \"\"}}, \"type\": \"scattermapbox\"}], \"scatterpolar\": [{\"marker\": {\"colorbar\": {\"outlinewidth\": 0, \"ticks\": \"\"}}, \"type\": \"scatterpolar\"}], \"scatterpolargl\": [{\"marker\": {\"colorbar\": {\"outlinewidth\": 0, \"ticks\": \"\"}}, \"type\": \"scatterpolargl\"}], \"scatterternary\": [{\"marker\": {\"colorbar\": {\"outlinewidth\": 0, \"ticks\": \"\"}}, \"type\": \"scatterternary\"}], \"surface\": [{\"colorbar\": {\"outlinewidth\": 0, \"ticks\": \"\"}, \"colorscale\": [[0.0, \"#0d0887\"], [0.1111111111111111, \"#46039f\"], [0.2222222222222222, \"#7201a8\"], [0.3333333333333333, \"#9c179e\"], [0.4444444444444444, \"#bd3786\"], [0.5555555555555556, \"#d8576b\"], [0.6666666666666666, \"#ed7953\"], [0.7777777777777778, \"#fb9f3a\"], [0.8888888888888888, \"#fdca26\"], [1.0, \"#f0f921\"]], \"type\": \"surface\"}], \"table\": [{\"cells\": {\"fill\": {\"color\": \"#EBF0F8\"}, \"line\": {\"color\": \"white\"}}, \"header\": {\"fill\": {\"color\": \"#C8D4E3\"}, \"line\": {\"color\": \"white\"}}, \"type\": \"table\"}]}, \"layout\": {\"annotationdefaults\": {\"arrowcolor\": \"#2a3f5f\", \"arrowhead\": 0, \"arrowwidth\": 1}, \"coloraxis\": {\"colorbar\": {\"outlinewidth\": 0, \"ticks\": \"\"}}, \"colorscale\": {\"diverging\": [[0, \"#8e0152\"], [0.1, \"#c51b7d\"], [0.2, \"#de77ae\"], [0.3, \"#f1b6da\"], [0.4, \"#fde0ef\"], [0.5, \"#f7f7f7\"], [0.6, \"#e6f5d0\"], [0.7, \"#b8e186\"], [0.8, \"#7fbc41\"], [0.9, \"#4d9221\"], [1, \"#276419\"]], \"sequential\": [[0.0, \"#0d0887\"], [0.1111111111111111, \"#46039f\"], [0.2222222222222222, \"#7201a8\"], [0.3333333333333333, \"#9c179e\"], [0.4444444444444444, \"#bd3786\"], [0.5555555555555556, \"#d8576b\"], [0.6666666666666666, \"#ed7953\"], [0.7777777777777778, \"#fb9f3a\"], [0.8888888888888888, \"#fdca26\"], [1.0, \"#f0f921\"]], \"sequentialminus\": [[0.0, \"#0d0887\"], [0.1111111111111111, \"#46039f\"], [0.2222222222222222, \"#7201a8\"], [0.3333333333333333, \"#9c179e\"], [0.4444444444444444, \"#bd3786\"], [0.5555555555555556, \"#d8576b\"], [0.6666666666666666, \"#ed7953\"], [0.7777777777777778, \"#fb9f3a\"], [0.8888888888888888, \"#fdca26\"], [1.0, \"#f0f921\"]]}, \"colorway\": [\"#636efa\", \"#EF553B\", \"#00cc96\", \"#ab63fa\", \"#FFA15A\", \"#19d3f3\", \"#FF6692\", \"#B6E880\", \"#FF97FF\", \"#FECB52\"], \"font\": {\"color\": \"#2a3f5f\"}, \"geo\": {\"bgcolor\": \"white\", \"lakecolor\": \"white\", \"landcolor\": \"#E5ECF6\", \"showlakes\": true, \"showland\": true, \"subunitcolor\": \"white\"}, \"hoverlabel\": {\"align\": \"left\"}, \"hovermode\": \"closest\", \"mapbox\": {\"style\": \"light\"}, \"paper_bgcolor\": \"white\", \"plot_bgcolor\": \"#E5ECF6\", \"polar\": {\"angularaxis\": {\"gridcolor\": \"white\", \"linecolor\": \"white\", \"ticks\": \"\"}, \"bgcolor\": \"#E5ECF6\", \"radialaxis\": {\"gridcolor\": \"white\", \"linecolor\": \"white\", \"ticks\": \"\"}}, \"scene\": {\"xaxis\": {\"backgroundcolor\": \"#E5ECF6\", \"gridcolor\": \"white\", \"gridwidth\": 2, \"linecolor\": \"white\", \"showbackground\": true, \"ticks\": \"\", \"zerolinecolor\": \"white\"}, \"yaxis\": {\"backgroundcolor\": \"#E5ECF6\", \"gridcolor\": \"white\", \"gridwidth\": 2, \"linecolor\": \"white\", \"showbackground\": true, \"ticks\": \"\", \"zerolinecolor\": \"white\"}, \"zaxis\": {\"backgroundcolor\": \"#E5ECF6\", \"gridcolor\": \"white\", \"gridwidth\": 2, \"linecolor\": \"white\", \"showbackground\": true, \"ticks\": \"\", \"zerolinecolor\": \"white\"}}, \"shapedefaults\": {\"line\": {\"color\": \"#2a3f5f\"}}, \"ternary\": {\"aaxis\": {\"gridcolor\": \"white\", \"linecolor\": \"white\", \"ticks\": \"\"}, \"baxis\": {\"gridcolor\": \"white\", \"linecolor\": \"white\", \"ticks\": \"\"}, \"bgcolor\": \"#E5ECF6\", \"caxis\": {\"gridcolor\": \"white\", \"linecolor\": \"white\", \"ticks\": \"\"}}, \"title\": {\"x\": 0.05}, \"xaxis\": {\"automargin\": true, \"gridcolor\": \"white\", \"linecolor\": \"white\", \"ticks\": \"\", \"title\": {\"standoff\": 15}, \"zerolinecolor\": \"white\", \"zerolinewidth\": 2}, \"yaxis\": {\"automargin\": true, \"gridcolor\": \"white\", \"linecolor\": \"white\", \"ticks\": \"\", \"title\": {\"standoff\": 15}, \"zerolinecolor\": \"white\", \"zerolinewidth\": 2}}}, \"title\": {\"font\": {\"color\": \"#4D5663\"}, \"text\": \"Bugs per session\"}, \"xaxis\": {\"gridcolor\": \"#E1E5ED\", \"showgrid\": true, \"tickfont\": {\"color\": \"#4D5663\"}, \"title\": {\"font\": {\"color\": \"#4D5663\"}, \"text\": \"Date and session_id\"}, \"zerolinecolor\": \"#E1E5ED\"}, \"yaxis\": {\"gridcolor\": \"#E1E5ED\", \"showgrid\": true, \"tickfont\": {\"color\": \"#4D5663\"}, \"title\": {\"font\": {\"color\": \"#4D5663\"}, \"text\": \"Bugs\"}, \"zerolinecolor\": \"#E1E5ED\"}},\n",
       "                        {\"showLink\": true, \"linkText\": \"Export to plot.ly\", \"plotlyServerURL\": \"https://plot.ly\", \"responsive\": true}\n",
       "                    ).then(function(){\n",
       "                            \n",
       "var gd = document.getElementById('003655cc-3f0e-4e26-af46-1698139ddf3d');\n",
       "var x = new MutationObserver(function (mutations, observer) {{\n",
       "        var display = window.getComputedStyle(gd).display;\n",
       "        if (!display || display === 'none') {{\n",
       "            console.log([gd, 'removed!']);\n",
       "            Plotly.purge(gd);\n",
       "            observer.disconnect();\n",
       "        }}\n",
       "}});\n",
       "\n",
       "// Listen for the removal of the full notebook cells\n",
       "var notebookContainer = gd.closest('#notebook-container');\n",
       "if (notebookContainer) {{\n",
       "    x.observe(notebookContainer, {childList: true});\n",
       "}}\n",
       "\n",
       "// Listen for the clearing of the current output cell\n",
       "var outputEl = gd.closest('.output');\n",
       "if (outputEl) {{\n",
       "    x.observe(outputEl, {childList: true});\n",
       "}}\n",
       "\n",
       "                        })\n",
       "                };\n",
       "                });\n",
       "            </script>\n",
       "        </div>"
      ]
     },
     "metadata": {},
     "output_type": "display_data"
    }
   ],
   "source": [
    "#Graph to show number of Bugs per session\n",
    "show.groupby(['login_date','session_id']).sum()['bugs_in_session'].iplot(title='Bugs per session', xTitle='Date and session_id', yTitle='Bugs')"
   ]
  },
  {
   "cell_type": "code",
   "execution_count": 15,
   "metadata": {},
   "outputs": [
    {
     "data": {
      "image/png": "[encoded data removed]",
      "text/plain": [
       "<Figure size 1080x1080 with 42 Axes>"
      ]
     },
     "metadata": {
      "needs_background": "light"
     },
     "output_type": "display_data"
    }
   ],
   "source": [
    "#Plot to analyse relationship between raw data\n",
    "\n",
    "pic = sns.pairplot(show[show.columns[8:14]])\n",
    "pic.savefig('raw.png')\n"
   ]
  },
  {
   "cell_type": "code",
   "execution_count": 16,
   "metadata": {},
   "outputs": [
    {
     "data": {
      "image/png": "[encoded data removed]",
      "text/plain": [
       "<Figure size 1260x1260 with 56 Axes>"
      ]
     },
     "metadata": {
      "needs_background": "light"
     },
     "output_type": "display_data"
    }
   ],
   "source": [
    "#Plot to analyse data based on Customer aggregates\n",
    "cust = pd.DataFrame(show.groupby('customer_id',as_index=True).sum()).reset_index()\n",
    "cust[cust.columns[7:14]]\n",
    "pic2 = sns.pairplot(cust[cust.columns[6:14]])\n",
    "pic2.savefig('user.png')"
   ]
  },
  {
   "cell_type": "code",
   "execution_count": 17,
   "metadata": {},
   "outputs": [
    {
     "data": {
      "text/plain": [
       "<matplotlib.axes._subplots.AxesSubplot at 0x24cc30a2348>"
      ]
     },
     "execution_count": 17,
     "metadata": {},
     "output_type": "execute_result"
    },
    {
     "data": {
      "image/png": "[encoded data removed]",
      "text/plain": [
       "<Figure size 576x576 with 2 Axes>"
      ]
     },
     "metadata": {
      "needs_background": "light"
     },
     "output_type": "display_data"
    }
   ],
   "source": [
    "#Visualize correlations\n",
    "plt.figure(figsize=(8,8))\n",
    "sns.heatmap(cust[cust.columns[7:14]].corr(),annot=True)"
   ]
  },
  {
   "cell_type": "code",
   "execution_count": 18,
   "metadata": {},
   "outputs": [
    {
     "data": {
      "text/html": [
       "<div>\n",
       "<style scoped>\n",
       "    .dataframe tbody tr th:only-of-type {\n",
       "        vertical-align: middle;\n",
       "    }\n",
       "\n",
       "    .dataframe tbody tr th {\n",
       "        vertical-align: top;\n",
       "    }\n",
       "\n",
       "    .dataframe thead th {\n",
       "        text-align: right;\n",
       "    }\n",
       "</style>\n",
       "<table border=\"1\" class=\"dataframe\">\n",
       "  <thead>\n",
       "    <tr style=\"text-align: right;\">\n",
       "      <th></th>\n",
       "      <th>customer_id</th>\n",
       "      <th>session_projects_added</th>\n",
       "    </tr>\n",
       "  </thead>\n",
       "  <tbody>\n",
       "    <tr>\n",
       "      <th>40</th>\n",
       "      <td>87323</td>\n",
       "      <td>38.0</td>\n",
       "    </tr>\n",
       "    <tr>\n",
       "      <th>4</th>\n",
       "      <td>14354</td>\n",
       "      <td>31.0</td>\n",
       "    </tr>\n",
       "    <tr>\n",
       "      <th>25</th>\n",
       "      <td>40572</td>\n",
       "      <td>27.0</td>\n",
       "    </tr>\n",
       "    <tr>\n",
       "      <th>9</th>\n",
       "      <td>23404</td>\n",
       "      <td>25.0</td>\n",
       "    </tr>\n",
       "    <tr>\n",
       "      <th>22</th>\n",
       "      <td>38459</td>\n",
       "      <td>25.0</td>\n",
       "    </tr>\n",
       "    <tr>\n",
       "      <th>39</th>\n",
       "      <td>87265</td>\n",
       "      <td>24.0</td>\n",
       "    </tr>\n",
       "    <tr>\n",
       "      <th>34</th>\n",
       "      <td>73245</td>\n",
       "      <td>24.0</td>\n",
       "    </tr>\n",
       "    <tr>\n",
       "      <th>32</th>\n",
       "      <td>51243</td>\n",
       "      <td>24.0</td>\n",
       "    </tr>\n",
       "    <tr>\n",
       "      <th>24</th>\n",
       "      <td>40235</td>\n",
       "      <td>23.0</td>\n",
       "    </tr>\n",
       "    <tr>\n",
       "      <th>35</th>\n",
       "      <td>73524</td>\n",
       "      <td>23.0</td>\n",
       "    </tr>\n",
       "  </tbody>\n",
       "</table>\n",
       "</div>"
      ],
      "text/plain": [
       "    customer_id  session_projects_added\n",
       "40        87323                    38.0\n",
       "4         14354                    31.0\n",
       "25        40572                    27.0\n",
       "9         23404                    25.0\n",
       "22        38459                    25.0\n",
       "39        87265                    24.0\n",
       "34        73245                    24.0\n",
       "32        51243                    24.0\n",
       "24        40235                    23.0\n",
       "35        73524                    23.0"
      ]
     },
     "execution_count": 18,
     "metadata": {},
     "output_type": "execute_result"
    }
   ],
   "source": [
    "#Get Top 10 customers with most number of Projects Added\n",
    "top_proj = pd.DataFrame(cust.sort_values(by='session_projects_added', ascending=False)[['customer_id','session_projects_added']].head(10))\n",
    "top_proj"
   ]
  },
  {
   "cell_type": "code",
   "execution_count": 19,
   "metadata": {},
   "outputs": [
    {
     "data": {
      "text/plain": [
       "[Text(0, 0.5, 'session_projects_added'),\n",
       " Text(0.5, 0, 'customer_id'),\n",
       " Text(0.5, 1.0, 'Top 10 Customers (#Projects Added)')]"
      ]
     },
     "execution_count": 19,
     "metadata": {},
     "output_type": "execute_result"
    },
    {
     "data": {
      "image/png": "[encoded data removed]",
      "text/plain": [
       "<Figure size 576x576 with 1 Axes>"
      ]
     },
     "metadata": {
      "needs_background": "light"
     },
     "output_type": "display_data"
    }
   ],
   "source": [
    "plt.figure(figsize=(8,8))\n",
    "plt.style.use('fivethirtyeight')\n",
    "ax=sns.barplot(x = 'customer_id', y = 'session_projects_added', data = top_proj, order=top_proj.sort_values('session_projects_added',ascending=False).customer_id)\n",
    "ax.set(ylabel='session_projects_added', xlabel='customer_id' , title='Top 10 Customers (#Projects Added)')"
   ]
  },
  {
   "cell_type": "code",
   "execution_count": 20,
   "metadata": {},
   "outputs": [
    {
     "data": {
      "text/html": [
       "<div>\n",
       "<style scoped>\n",
       "    .dataframe tbody tr th:only-of-type {\n",
       "        vertical-align: middle;\n",
       "    }\n",
       "\n",
       "    .dataframe tbody tr th {\n",
       "        vertical-align: top;\n",
       "    }\n",
       "\n",
       "    .dataframe thead th {\n",
       "        text-align: right;\n",
       "    }\n",
       "</style>\n",
       "<table border=\"1\" class=\"dataframe\">\n",
       "  <thead>\n",
       "    <tr style=\"text-align: right;\">\n",
       "      <th></th>\n",
       "      <th>customer_id</th>\n",
       "      <th>session_likes_given</th>\n",
       "    </tr>\n",
       "  </thead>\n",
       "  <tbody>\n",
       "    <tr>\n",
       "      <th>40</th>\n",
       "      <td>87323</td>\n",
       "      <td>230.0</td>\n",
       "    </tr>\n",
       "    <tr>\n",
       "      <th>9</th>\n",
       "      <td>23404</td>\n",
       "      <td>207.0</td>\n",
       "    </tr>\n",
       "    <tr>\n",
       "      <th>18</th>\n",
       "      <td>29375</td>\n",
       "      <td>189.0</td>\n",
       "    </tr>\n",
       "    <tr>\n",
       "      <th>22</th>\n",
       "      <td>38459</td>\n",
       "      <td>187.0</td>\n",
       "    </tr>\n",
       "    <tr>\n",
       "      <th>34</th>\n",
       "      <td>73245</td>\n",
       "      <td>183.0</td>\n",
       "    </tr>\n",
       "    <tr>\n",
       "      <th>25</th>\n",
       "      <td>40572</td>\n",
       "      <td>179.0</td>\n",
       "    </tr>\n",
       "    <tr>\n",
       "      <th>32</th>\n",
       "      <td>51243</td>\n",
       "      <td>154.0</td>\n",
       "    </tr>\n",
       "    <tr>\n",
       "      <th>4</th>\n",
       "      <td>14354</td>\n",
       "      <td>150.0</td>\n",
       "    </tr>\n",
       "    <tr>\n",
       "      <th>39</th>\n",
       "      <td>87265</td>\n",
       "      <td>149.0</td>\n",
       "    </tr>\n",
       "    <tr>\n",
       "      <th>24</th>\n",
       "      <td>40235</td>\n",
       "      <td>119.0</td>\n",
       "    </tr>\n",
       "  </tbody>\n",
       "</table>\n",
       "</div>"
      ],
      "text/plain": [
       "    customer_id  session_likes_given\n",
       "40        87323                230.0\n",
       "9         23404                207.0\n",
       "18        29375                189.0\n",
       "22        38459                187.0\n",
       "34        73245                183.0\n",
       "25        40572                179.0\n",
       "32        51243                154.0\n",
       "4         14354                150.0\n",
       "39        87265                149.0\n",
       "24        40235                119.0"
      ]
     },
     "execution_count": 20,
     "metadata": {},
     "output_type": "execute_result"
    }
   ],
   "source": [
    "#Get Top 10 customers with most number of Likes given\n",
    "top_likes = pd.DataFrame(cust.sort_values(by='session_likes_given', ascending=False)[['customer_id','session_likes_given']].head(10))\n",
    "top_likes"
   ]
  },
  {
   "cell_type": "code",
   "execution_count": 21,
   "metadata": {},
   "outputs": [
    {
     "data": {
      "text/plain": [
       "[Text(0, 0.5, 'session_likes_given'),\n",
       " Text(0.5, 0, 'customer_id'),\n",
       " Text(0.5, 1.0, 'Top 10 Customers (#Likes Given)')]"
      ]
     },
     "execution_count": 21,
     "metadata": {},
     "output_type": "execute_result"
    },
    {
     "data": {
      "image/png": "[encoded data removed]",
      "text/plain": [
       "<Figure size 576x576 with 1 Axes>"
      ]
     },
     "metadata": {},
     "output_type": "display_data"
    }
   ],
   "source": [
    "plt.figure(figsize=(8,8))\n",
    "plt.style.use('fivethirtyeight')\n",
    "ax=sns.barplot(x = 'customer_id', y = 'session_likes_given', data = top_likes, order=top_likes.sort_values('session_likes_given',ascending=False).customer_id)\n",
    "ax.set(ylabel='session_likes_given', xlabel='customer_id' , title='Top 10 Customers (#Likes Given)')"
   ]
  },
  {
   "cell_type": "code",
   "execution_count": 22,
   "metadata": {},
   "outputs": [
    {
     "data": {
      "text/html": [
       "<div>\n",
       "<style scoped>\n",
       "    .dataframe tbody tr th:only-of-type {\n",
       "        vertical-align: middle;\n",
       "    }\n",
       "\n",
       "    .dataframe tbody tr th {\n",
       "        vertical-align: top;\n",
       "    }\n",
       "\n",
       "    .dataframe thead th {\n",
       "        text-align: right;\n",
       "    }\n",
       "</style>\n",
       "<table border=\"1\" class=\"dataframe\">\n",
       "  <thead>\n",
       "    <tr style=\"text-align: right;\">\n",
       "      <th></th>\n",
       "      <th>customer_id</th>\n",
       "      <th>session_comments_given</th>\n",
       "    </tr>\n",
       "  </thead>\n",
       "  <tbody>\n",
       "    <tr>\n",
       "      <th>9</th>\n",
       "      <td>23404</td>\n",
       "      <td>64.0</td>\n",
       "    </tr>\n",
       "    <tr>\n",
       "      <th>25</th>\n",
       "      <td>40572</td>\n",
       "      <td>46.0</td>\n",
       "    </tr>\n",
       "    <tr>\n",
       "      <th>18</th>\n",
       "      <td>29375</td>\n",
       "      <td>44.0</td>\n",
       "    </tr>\n",
       "    <tr>\n",
       "      <th>22</th>\n",
       "      <td>38459</td>\n",
       "      <td>43.0</td>\n",
       "    </tr>\n",
       "    <tr>\n",
       "      <th>40</th>\n",
       "      <td>87323</td>\n",
       "      <td>41.0</td>\n",
       "    </tr>\n",
       "    <tr>\n",
       "      <th>4</th>\n",
       "      <td>14354</td>\n",
       "      <td>38.0</td>\n",
       "    </tr>\n",
       "    <tr>\n",
       "      <th>34</th>\n",
       "      <td>73245</td>\n",
       "      <td>36.0</td>\n",
       "    </tr>\n",
       "    <tr>\n",
       "      <th>24</th>\n",
       "      <td>40235</td>\n",
       "      <td>34.0</td>\n",
       "    </tr>\n",
       "    <tr>\n",
       "      <th>39</th>\n",
       "      <td>87265</td>\n",
       "      <td>33.0</td>\n",
       "    </tr>\n",
       "    <tr>\n",
       "      <th>32</th>\n",
       "      <td>51243</td>\n",
       "      <td>26.0</td>\n",
       "    </tr>\n",
       "  </tbody>\n",
       "</table>\n",
       "</div>"
      ],
      "text/plain": [
       "    customer_id  session_comments_given\n",
       "9         23404                    64.0\n",
       "25        40572                    46.0\n",
       "18        29375                    44.0\n",
       "22        38459                    43.0\n",
       "40        87323                    41.0\n",
       "4         14354                    38.0\n",
       "34        73245                    36.0\n",
       "24        40235                    34.0\n",
       "39        87265                    33.0\n",
       "32        51243                    26.0"
      ]
     },
     "execution_count": 22,
     "metadata": {},
     "output_type": "execute_result"
    }
   ],
   "source": [
    "#Get Top 10 customers with most number of Comments given\n",
    "top_comments = pd.DataFrame(cust.sort_values(by='session_comments_given', ascending=False)[['customer_id','session_comments_given']].head(10))\n",
    "top_comments"
   ]
  },
  {
   "cell_type": "code",
   "execution_count": 23,
   "metadata": {},
   "outputs": [
    {
     "data": {
      "text/plain": [
       "[Text(0, 0.5, 'session_Comments_given'),\n",
       " Text(0.5, 0, 'customer_id'),\n",
       " Text(0.5, 1.0, 'Top 10 Customers (#Comments Given)')]"
      ]
     },
     "execution_count": 23,
     "metadata": {},
     "output_type": "execute_result"
    },
    {
     "data": {
      "image/png": "[encoded data removed]",
      "text/plain": [
       "<Figure size 576x576 with 1 Axes>"
      ]
     },
     "metadata": {},
     "output_type": "display_data"
    }
   ],
   "source": [
    "plt.figure(figsize=(8,8))\n",
    "plt.style.use('fivethirtyeight')\n",
    "ax=sns.barplot(x = 'customer_id', y = 'session_comments_given', data = top_comments, order=top_comments.sort_values('session_comments_given',ascending=False).customer_id)\n",
    "ax.set(ylabel='session_Comments_given', xlabel='customer_id' , title='Top 10 Customers (#Comments Given)')"
   ]
  }
 ],
 "metadata": {
  "kernelspec": {
   "display_name": "Python 3",
   "language": "python",
   "name": "python3"
  },
  "language_info": {
   "codemirror_mode": {
    "name": "ipython",
    "version": 3
   },
   "file_extension": ".py",
   "mimetype": "text/x-python",
   "name": "python",
   "nbconvert_exporter": "python",
   "pygments_lexer": "ipython3",
   "version": "3.7.7"
  }
 },
 "nbformat": 4,
 "nbformat_minor": 4
}
